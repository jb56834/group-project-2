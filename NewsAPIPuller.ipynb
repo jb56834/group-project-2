{
  "nbformat": 4,
  "nbformat_minor": 0,
  "metadata": {
    "colab": {
      "name": "NewsAPIPuller.ipynb",
      "provenance": [],
      "collapsed_sections": [],
      "authorship_tag": "ABX9TyPH4kn5//hKY6iicjEfPARH",
      "include_colab_link": true
    },
    "kernelspec": {
      "name": "python3",
      "display_name": "Python 3"
    }
  },
  "cells": [
    {
      "cell_type": "markdown",
      "metadata": {
        "id": "view-in-github",
        "colab_type": "text"
      },
      "source": [
        "<a href=\"https://colab.research.google.com/github/jb56834/group-project-2/blob/aaronsechler-patch-1/NewsAPIPuller.ipynb\" target=\"_parent\"><img src=\"https://colab.research.google.com/assets/colab-badge.svg\" alt=\"Open In Colab\"/></a>"
      ]
    },
    {
      "cell_type": "code",
      "metadata": {
        "id": "Pm8J2i0SUTXR",
        "outputId": "df52a791-ba32-4da6-e68c-92d9d05832a2",
        "colab": {
          "base_uri": "https://localhost:8080/"
        }
      },
      "source": [
        "## this code, which is mostly taken from the NLP homework, creates a simple function that gets analyzes news api\n",
        "## results using vader and returns a data frame with sentiment scores. the three inputs are the term you want to\n",
        "## search for, the end date (the trading trigger we idenify elsewhere). It pulls articles for the end date and \n",
        "## the previous three days. there's also a list of terms about financial stocks as a whole that can be\n",
        "## searched for using the variable \"all_FAANG\". feel free to adjust the terms in that list.\n",
        "\n",
        "! pip install newsapi-python\n",
        "! pip install vaderSentiment\n",
        "import os\n",
        "import pandas as pd\n",
        "import nltk\n",
        "from nltk.sentiment.vader import SentimentIntensityAnalyzer\n",
        "from datetime import timedelta\n",
        "from newsapi import NewsApiClient\n",
        "nltk.download('vader_lexicon')\n",
        "\n",
        "analyzer = SentimentIntensityAnalyzer()"
      ],
      "execution_count": null,
      "outputs": [
        {
          "output_type": "stream",
          "text": [
            "Collecting newsapi-python\n",
            "  Downloading https://files.pythonhosted.org/packages/de/9e/9050199ac7cbc755d1c49577fdaa5517901124b574264b3602a8b8028440/newsapi_python-0.2.6-py2.py3-none-any.whl\n",
            "Requirement already satisfied: requests<3.0.0 in /usr/local/lib/python3.6/dist-packages (from newsapi-python) (2.23.0)\n",
            "Requirement already satisfied: idna<3,>=2.5 in /usr/local/lib/python3.6/dist-packages (from requests<3.0.0->newsapi-python) (2.10)\n",
            "Requirement already satisfied: certifi>=2017.4.17 in /usr/local/lib/python3.6/dist-packages (from requests<3.0.0->newsapi-python) (2020.6.20)\n",
            "Requirement already satisfied: urllib3!=1.25.0,!=1.25.1,<1.26,>=1.21.1 in /usr/local/lib/python3.6/dist-packages (from requests<3.0.0->newsapi-python) (1.24.3)\n",
            "Requirement already satisfied: chardet<4,>=3.0.2 in /usr/local/lib/python3.6/dist-packages (from requests<3.0.0->newsapi-python) (3.0.4)\n",
            "Installing collected packages: newsapi-python\n",
            "Successfully installed newsapi-python-0.2.6\n",
            "Collecting vaderSentiment\n",
            "\u001b[?25l  Downloading https://files.pythonhosted.org/packages/76/fc/310e16254683c1ed35eeb97386986d6c00bc29df17ce280aed64d55537e9/vaderSentiment-3.3.2-py2.py3-none-any.whl (125kB)\n",
            "\u001b[K     |████████████████████████████████| 133kB 2.9MB/s \n",
            "\u001b[?25hRequirement already satisfied: requests in /usr/local/lib/python3.6/dist-packages (from vaderSentiment) (2.23.0)\n",
            "Requirement already satisfied: idna<3,>=2.5 in /usr/local/lib/python3.6/dist-packages (from requests->vaderSentiment) (2.10)\n",
            "Requirement already satisfied: urllib3!=1.25.0,!=1.25.1,<1.26,>=1.21.1 in /usr/local/lib/python3.6/dist-packages (from requests->vaderSentiment) (1.24.3)\n",
            "Requirement already satisfied: certifi>=2017.4.17 in /usr/local/lib/python3.6/dist-packages (from requests->vaderSentiment) (2020.6.20)\n",
            "Requirement already satisfied: chardet<4,>=3.0.2 in /usr/local/lib/python3.6/dist-packages (from requests->vaderSentiment) (3.0.4)\n",
            "Installing collected packages: vaderSentiment\n",
            "Successfully installed vaderSentiment-3.3.2\n"
          ],
          "name": "stdout"
        },
        {
          "output_type": "stream",
          "text": [
            "/usr/local/lib/python3.6/dist-packages/nltk/twitter/__init__.py:20: UserWarning: The twython library has not been installed. Some functionality from the twitter package will not be available.\n",
            "  warnings.warn(\"The twython library has not been installed. \"\n"
          ],
          "name": "stderr"
        },
        {
          "output_type": "stream",
          "text": [
            "[nltk_data] Downloading package vader_lexicon to /root/nltk_data...\n"
          ],
          "name": "stdout"
        }
      ]
    },
    {
      "cell_type": "markdown",
      "metadata": {
        "id": "Rv70v-wPtNM5"
      },
      "source": [
        "# New Section"
      ]
    },
    {
      "cell_type": "code",
      "metadata": {
        "id": "Bhlqju10Yne7",
        "outputId": "8a37741a-ec62-41e6-e024-6c3e22321daa",
        "colab": {
          "base_uri": "https://localhost:8080/"
        }
      },
      "source": [
        "## this is the simplest way I found to get around having to set up an .env file. enter your news api api key\n",
        "## and it should let the API caller work. (only enter the key, not api_key=)\n",
        "\n",
        "from getpass import getpass\n",
        "api_key = getpass('Enter your News API key: ')"
      ],
      "execution_count": null,
      "outputs": [
        {
          "output_type": "stream",
          "text": [
            "Enter your News API key: ··········\n"
          ],
          "name": "stdout"
        }
      ]
    },
    {
      "cell_type": "code",
      "metadata": {
        "id": "W16tWT4RVLWa"
      },
      "source": [
        "\n",
        "\n",
        "all_FAANG = ['Facebook', 'Apple', 'Amazon', 'Netflix', 'Google', 'Alphabet', 'FAANG', 'Tech Stocks', 'Technlogoy Stocks']\n",
        "\n",
        "\n",
        "def news_api_puller(search_term, end_date):\n",
        "\n",
        "    newsapi = NewsApiClient(api_key=api_key)\n",
        "\n",
        "    end_date = pd.to_datetime(end_date)\n",
        "\n",
        "    start_date = end_date - pd.Timedelta('3 days')\n",
        "\n",
        "    articles = newsapi.get_everything(q=search_term,\n",
        "                                      from_param=start_date,\n",
        "                                      to=end_date,\n",
        "                                      language='en',\n",
        "                                      sort_by='relevancy',\n",
        "                                      page=2)\n",
        "\n",
        "    sentiments = []\n",
        "\n",
        "    for articles in articles[\"articles\"]:\n",
        "        try:\n",
        "            text = articles[\"content\"]\n",
        "            results = analyzer.polarity_scores(text)\n",
        "            compound = results[\"compound\"]\n",
        "            pos = results[\"pos\"]\n",
        "            neu = results[\"neu\"]\n",
        "            neg = results[\"neg\"]\n",
        "\n",
        "            sentiments.append({\n",
        "                \"text\": text,\n",
        "                \"Compound\": compound,\n",
        "                \"Positive\": pos,\n",
        "                \"Negative\": neg,\n",
        "                \"Neutral\": neu,\n",
        "            })\n",
        "        except AttributeError:\n",
        "            pass\n",
        "    \n",
        "        results_df = pd.DataFrame(sentiments)\n",
        "\n",
        "        return results_df\n"
      ],
      "execution_count": null,
      "outputs": []
    },
    {
      "cell_type": "code",
      "metadata": {
        "id": "mhesYVqeJgfR",
        "outputId": "816b68f8-024f-4cfa-a8ec-f15f21aa726a",
        "colab": {
          "base_uri": "https://localhost:8080/",
          "height": 198
        }
      },
      "source": [
        "news_api_puller('apple', '2020-09-27')\n"
      ],
      "execution_count": null,
      "outputs": [
        {
          "output_type": "error",
          "ename": "NameError",
          "evalue": "ignored",
          "traceback": [
            "\u001b[0;31m---------------------------------------------------------------------------\u001b[0m",
            "\u001b[0;31mNameError\u001b[0m                                 Traceback (most recent call last)",
            "\u001b[0;32m<ipython-input-27-8fe55a65b4ab>\u001b[0m in \u001b[0;36m<module>\u001b[0;34m()\u001b[0m\n\u001b[1;32m      1\u001b[0m \u001b[0mnews_api_puller\u001b[0m\u001b[0;34m(\u001b[0m\u001b[0;34m'apple'\u001b[0m\u001b[0;34m,\u001b[0m \u001b[0;34m'2020-09-27'\u001b[0m\u001b[0;34m)\u001b[0m\u001b[0;34m\u001b[0m\u001b[0;34m\u001b[0m\u001b[0m\n\u001b[1;32m      2\u001b[0m \u001b[0;34m\u001b[0m\u001b[0m\n\u001b[0;32m----> 3\u001b[0;31m \u001b[0mresults_df\u001b[0m\u001b[0;34m.\u001b[0m\u001b[0mhead\u001b[0m\u001b[0;34m(\u001b[0m\u001b[0;34m)\u001b[0m\u001b[0;34m\u001b[0m\u001b[0;34m\u001b[0m\u001b[0m\n\u001b[0m",
            "\u001b[0;31mNameError\u001b[0m: name 'results_df' is not defined"
          ]
        }
      ]
    },
    {
      "cell_type": "code",
      "metadata": {
        "id": "qWe0plZAuFRy",
        "outputId": "a52d339d-b188-4e9a-a9d4-5e627012c060",
        "colab": {
          "base_uri": "https://localhost:8080/",
          "height": 164
        }
      },
      "source": [
        "results_df"
      ],
      "execution_count": null,
      "outputs": [
        {
          "output_type": "error",
          "ename": "NameError",
          "evalue": "ignored",
          "traceback": [
            "\u001b[0;31m---------------------------------------------------------------------------\u001b[0m",
            "\u001b[0;31mNameError\u001b[0m                                 Traceback (most recent call last)",
            "\u001b[0;32m<ipython-input-25-3c899ad3fe5e>\u001b[0m in \u001b[0;36m<module>\u001b[0;34m()\u001b[0m\n\u001b[0;32m----> 1\u001b[0;31m \u001b[0mresults_df\u001b[0m\u001b[0;34m\u001b[0m\u001b[0;34m\u001b[0m\u001b[0m\n\u001b[0m",
            "\u001b[0;31mNameError\u001b[0m: name 'results_df' is not defined"
          ]
        }
      ]
    }
  ]
}