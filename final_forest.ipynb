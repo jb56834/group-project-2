{
 "cells": [
  {
   "cell_type": "code",
   "execution_count": 151,
   "metadata": {},
   "outputs": [
    {
     "name": "stdout",
     "output_type": "stream",
     "text": [
      "Requirement already up-to-date: pandas in /Users/aaronbsechler/opt/anaconda3/envs/pyvizenv2/lib/python3.7/site-packages (1.1.3)\n",
      "Requirement already satisfied, skipping upgrade: python-dateutil>=2.7.3 in /Users/aaronbsechler/opt/anaconda3/envs/pyvizenv2/lib/python3.7/site-packages (from pandas) (2.8.1)\n",
      "Requirement already satisfied, skipping upgrade: numpy>=1.15.4 in /Users/aaronbsechler/opt/anaconda3/envs/pyvizenv2/lib/python3.7/site-packages (from pandas) (1.19.2)\n",
      "Requirement already satisfied, skipping upgrade: pytz>=2017.2 in /Users/aaronbsechler/opt/anaconda3/envs/pyvizenv2/lib/python3.7/site-packages (from pandas) (2020.1)\n",
      "Requirement already satisfied, skipping upgrade: six>=1.5 in /Users/aaronbsechler/opt/anaconda3/envs/pyvizenv2/lib/python3.7/site-packages (from python-dateutil>=2.7.3->pandas) (1.15.0)\n"
     ]
    }
   ],
   "source": [
    "!pip install --upgrade pandas\n",
    "\n",
    "import os\n",
    "import numpy as np\n",
    "import pandas as pd\n",
    "import matplotlib.pyplot as plt\n",
    "import alpaca_trade_api as tradeapi\n",
    "import ta\n",
    "import datetime\n",
    "\n",
    "%matplotlib inline"
   ]
  },
  {
   "cell_type": "code",
   "execution_count": null,
   "metadata": {},
   "outputs": [],
   "source": []
  },
  {
   "cell_type": "code",
   "execution_count": 152,
   "metadata": {},
   "outputs": [
    {
     "name": "stdout",
     "output_type": "stream",
     "text": [
      "Alpaca key type:<class 'str'>\n",
      "Alpaca secret tyep: <class 'str'>\n"
     ]
    }
   ],
   "source": [
    "from dotenv import load_dotenv\n",
    "load_dotenv()\n",
    "\n",
    "# Set Alpaca API key and secret\n",
    "alpaca_api_key = os.getenv(\"ALPACA_API_KEY\")\n",
    "alpaca_secret_key = os.getenv(\"ALPACA_SECRET_KEY\")\n",
    "\n",
    "# Verify that Alpaca keys were loaded\n",
    "print(f\"Alpaca key type:{type(alpaca_api_key)}\")\n",
    "print(f\"Alpaca secret tyep: {type(alpaca_secret_key)}\")"
   ]
  },
  {
   "cell_type": "code",
   "execution_count": 153,
   "metadata": {},
   "outputs": [],
   "source": [
    "api = tradeapi.REST(\n",
    "    alpaca_api_key,\n",
    "    alpaca_secret_key,\n",
    "    api_version=\"v2\")"
   ]
  },
  {
   "cell_type": "code",
   "execution_count": 154,
   "metadata": {},
   "outputs": [],
   "source": [
    "from datetime import datetime\n",
    "\n",
    "# Create the Facebook Datafram\n",
    "\n",
    "ticker = ['FB']\n",
    "\n",
    "# Set timeframe to '1D'\n",
    "timeframe = \"1D\"\n",
    "\n",
    "start_date = pd.Timestamp('2010-01-01', tz='America/New_York').isoformat()\n",
    "end_date = datetime.now(tz=None)\n",
    "\n",
    "\n",
    "fb_df = api.get_barset(\n",
    "    ticker,\n",
    "    timeframe,\n",
    "    limit=None,\n",
    "    start=start_date,\n",
    "    end=end_date,\n",
    "    after=None,\n",
    "    until=None,\n",
    ").df\n",
    "\n",
    "#fb_df.head()"
   ]
  },
  {
   "cell_type": "code",
   "execution_count": 155,
   "metadata": {},
   "outputs": [],
   "source": [
    "# Create the Amazon Dataframe\n",
    "\n",
    "ticker = ['AMZN']\n",
    "\n",
    "# Set timeframe to '1D'\n",
    "timeframe = \"1D\"\n",
    "\n",
    "start_date = pd.Timestamp('2010-01-01', tz='America/New_York').isoformat()\n",
    "end_date = datetime.now(tz=None)\n",
    "\n",
    "\n",
    "amzn_df = api.get_barset(\n",
    "    ticker,\n",
    "    timeframe,\n",
    "    limit=None,\n",
    "    start=start_date,\n",
    "    end=end_date,\n",
    "    after=None,\n",
    "    until=None,\n",
    ").df\n",
    "\n",
    "#amzn_df.head()"
   ]
  },
  {
   "cell_type": "code",
   "execution_count": 156,
   "metadata": {},
   "outputs": [],
   "source": [
    "# Create the Apple Dataframe\n",
    "\n",
    "ticker = ['AAPL']\n",
    "\n",
    "# Set timeframe to '1D'\n",
    "timeframe = \"1D\"\n",
    "\n",
    "start_date = pd.Timestamp('2010-01-01', tz='America/New_York').isoformat()\n",
    "end_date = datetime.now(tz=None)\n",
    "\n",
    "\n",
    "aapl_df = api.get_barset(\n",
    "    ticker,\n",
    "    timeframe,\n",
    "    limit=None,\n",
    "    start=start_date,\n",
    "    end=end_date,\n",
    "    after=None,\n",
    "    until=None,\n",
    ").df\n",
    "\n",
    "#aapl_df.head()"
   ]
  },
  {
   "cell_type": "code",
   "execution_count": 157,
   "metadata": {},
   "outputs": [],
   "source": [
    "# Create the Netflix Dataframe\n",
    "\n",
    "ticker = ['NFLX']\n",
    "\n",
    "# Set timeframe to '1D'\n",
    "timeframe = \"1D\"\n",
    "\n",
    "start_date = pd.Timestamp('2010-01-01', tz='America/New_York').isoformat()\n",
    "end_date = datetime.now(tz=None)\n",
    "\n",
    "\n",
    "nflx_df = api.get_barset(\n",
    "    ticker,\n",
    "    timeframe,\n",
    "    limit=None,\n",
    "    start=start_date,\n",
    "    end=end_date,\n",
    "    after=None,\n",
    "    until=None,\n",
    ").df\n",
    "\n",
    "#nflx_df.head()"
   ]
  },
  {
   "cell_type": "code",
   "execution_count": 158,
   "metadata": {},
   "outputs": [],
   "source": [
    "# Create the Goolge Dataframe\n",
    "\n",
    "ticker = ['GOOG']\n",
    "\n",
    "# Set timeframe to '1D'\n",
    "timeframe = \"1D\"\n",
    "\n",
    "start_date = pd.Timestamp('2010-01-01', tz='America/New_York').isoformat()\n",
    "end_date = datetime.now(tz=None)\n",
    "\n",
    "\n",
    "goog_df = api.get_barset(\n",
    "    ticker,\n",
    "    timeframe,\n",
    "    limit=None,\n",
    "    start=start_date,\n",
    "    end=end_date,\n",
    "    after=None,\n",
    "    until=None,\n",
    ").df\n",
    "\n",
    "#goog_df.head()"
   ]
  },
  {
   "cell_type": "code",
   "execution_count": 159,
   "metadata": {},
   "outputs": [
    {
     "data": {
      "text/html": [
       "<div>\n",
       "<style scoped>\n",
       "    .dataframe tbody tr th:only-of-type {\n",
       "        vertical-align: middle;\n",
       "    }\n",
       "\n",
       "    .dataframe tbody tr th {\n",
       "        vertical-align: top;\n",
       "    }\n",
       "\n",
       "    .dataframe thead tr th {\n",
       "        text-align: left;\n",
       "    }\n",
       "\n",
       "    .dataframe thead tr:last-of-type th {\n",
       "        text-align: right;\n",
       "    }\n",
       "</style>\n",
       "<table border=\"1\" class=\"dataframe\">\n",
       "  <thead>\n",
       "    <tr>\n",
       "      <th></th>\n",
       "      <th colspan=\"5\" halign=\"left\">GOOG</th>\n",
       "    </tr>\n",
       "    <tr>\n",
       "      <th></th>\n",
       "      <th>open</th>\n",
       "      <th>high</th>\n",
       "      <th>low</th>\n",
       "      <th>close</th>\n",
       "      <th>volume</th>\n",
       "    </tr>\n",
       "    <tr>\n",
       "      <th>time</th>\n",
       "      <th></th>\n",
       "      <th></th>\n",
       "      <th></th>\n",
       "      <th></th>\n",
       "      <th></th>\n",
       "    </tr>\n",
       "  </thead>\n",
       "  <tbody>\n",
       "    <tr>\n",
       "      <th>2010-01-04 00:00:00-05:00</th>\n",
       "      <td>313.47</td>\n",
       "      <td>314.75</td>\n",
       "      <td>312.12</td>\n",
       "      <td>313.40</td>\n",
       "      <td>1622642</td>\n",
       "    </tr>\n",
       "    <tr>\n",
       "      <th>2010-01-05 00:00:00-05:00</th>\n",
       "      <td>313.59</td>\n",
       "      <td>313.92</td>\n",
       "      <td>310.77</td>\n",
       "      <td>312.01</td>\n",
       "      <td>2872417</td>\n",
       "    </tr>\n",
       "    <tr>\n",
       "      <th>2010-01-06 00:00:00-05:00</th>\n",
       "      <td>312.93</td>\n",
       "      <td>312.93</td>\n",
       "      <td>303.18</td>\n",
       "      <td>304.13</td>\n",
       "      <td>3844995</td>\n",
       "    </tr>\n",
       "    <tr>\n",
       "      <th>2010-01-07 00:00:00-05:00</th>\n",
       "      <td>304.70</td>\n",
       "      <td>305.00</td>\n",
       "      <td>296.32</td>\n",
       "      <td>297.00</td>\n",
       "      <td>6279974</td>\n",
       "    </tr>\n",
       "    <tr>\n",
       "      <th>2010-01-08 00:00:00-05:00</th>\n",
       "      <td>296.00</td>\n",
       "      <td>301.62</td>\n",
       "      <td>294.55</td>\n",
       "      <td>300.56</td>\n",
       "      <td>4564872</td>\n",
       "    </tr>\n",
       "  </tbody>\n",
       "</table>\n",
       "</div>"
      ],
      "text/plain": [
       "                             GOOG                                 \n",
       "                             open    high     low   close   volume\n",
       "time                                                              \n",
       "2010-01-04 00:00:00-05:00  313.47  314.75  312.12  313.40  1622642\n",
       "2010-01-05 00:00:00-05:00  313.59  313.92  310.77  312.01  2872417\n",
       "2010-01-06 00:00:00-05:00  312.93  312.93  303.18  304.13  3844995\n",
       "2010-01-07 00:00:00-05:00  304.70  305.00  296.32  297.00  6279974\n",
       "2010-01-08 00:00:00-05:00  296.00  301.62  294.55  300.56  4564872"
      ]
     },
     "execution_count": 159,
     "metadata": {},
     "output_type": "execute_result"
    }
   ],
   "source": [
    "# drop the null values\n",
    "\n",
    "fb_df=ta.utils.dropna(fb_df)\n",
    "aapl_df=ta.utils.dropna(aapl_df)\n",
    "amzn_df=ta.utils.dropna(amzn_df)\n",
    "nflx_df=ta.utils.dropna(nflx_df)\n",
    "goog_df=ta.utils.dropna(goog_df)\n",
    "\n",
    "goog_df.head()"
   ]
  },
  {
   "cell_type": "code",
   "execution_count": 160,
   "metadata": {},
   "outputs": [],
   "source": [
    "# drops the top level from the data frame\n",
    "\n",
    "fb_df=fb_df.droplevel(0, axis=1)\n",
    "aapl_df=aapl_df.droplevel(0, axis=1)\n",
    "amzn_df=amzn_df.droplevel(0, axis=1)\n",
    "nflx_df=nflx_df.droplevel(0, axis=1)\n",
    "goog_df=goog_df.droplevel(0, axis=1)"
   ]
  },
  {
   "cell_type": "code",
   "execution_count": 161,
   "metadata": {},
   "outputs": [],
   "source": [
    "## MOMENTUM INDICATORS\n",
    "\n",
    "# see https://technical-analysis-library-in-python.readthedocs.io/en/latest/ta.html#momentum-indicators for definitions of \n",
    "# features added to the dataframe and links to explanitory content."
   ]
  },
  {
   "cell_type": "code",
   "execution_count": 162,
   "metadata": {},
   "outputs": [],
   "source": [
    "## AWESOME OSCILLATOR awe_osc (MOMENTUM INDICATOR)\n",
    "\n",
    "fb_awesome_oscillator = ta.momentum.AwesomeOscillatorIndicator(fb_df['high'], fb_df['low'], 5, 34, fillna=False)\n",
    "aapl_awesome_oscillator = ta.momentum.AwesomeOscillatorIndicator(aapl_df['high'], aapl_df['low'], 5, 34, fillna=False)\n",
    "amzn_awesome_oscillator = ta.momentum.AwesomeOscillatorIndicator(amzn_df['high'], amzn_df['low'], 5, 34, fillna=False)\n",
    "nflx_awesome_oscillator = ta.momentum.AwesomeOscillatorIndicator(nflx_df['high'], nflx_df['low'], 5, 34, fillna=False)\n",
    "goog_awesome_oscillator = ta.momentum.AwesomeOscillatorIndicator(goog_df['high'], goog_df['low'], 5, 34, fillna=False)\n",
    "\n",
    "fb_df['awe_osc'] = fb_awesome_oscillator.ao()\n",
    "aapl_df['awe_osc'] = aapl_awesome_oscillator.ao()\n",
    "amzn_df['awe_osc'] = amzn_awesome_oscillator.ao()\n",
    "nflx_df['awe_osc'] = nflx_awesome_oscillator.ao()\n",
    "goog_df['awe_osc'] = goog_awesome_oscillator.ao()\n",
    "\n",
    "#fb_df"
   ]
  },
  {
   "cell_type": "code",
   "execution_count": 163,
   "metadata": {},
   "outputs": [
    {
     "name": "stderr",
     "output_type": "stream",
     "text": [
      "/Users/aaronbsechler/opt/anaconda3/envs/pyvizenv2/lib/python3.7/site-packages/ipykernel_launcher.py:6: SettingWithCopyWarning: \n",
      "A value is trying to be set on a copy of a slice from a DataFrame\n",
      "\n",
      "See the caveats in the documentation: https://pandas.pydata.org/pandas-docs/stable/user_guide/indexing.html#returning-a-view-versus-a-copy\n",
      "  \n",
      "/Users/aaronbsechler/opt/anaconda3/envs/pyvizenv2/lib/python3.7/site-packages/pandas/core/indexing.py:670: SettingWithCopyWarning: \n",
      "A value is trying to be set on a copy of a slice from a DataFrame\n",
      "\n",
      "See the caveats in the documentation: https://pandas.pydata.org/pandas-docs/stable/user_guide/indexing.html#returning-a-view-versus-a-copy\n",
      "  iloc._setitem_with_indexer(indexer, value)\n",
      "/Users/aaronbsechler/opt/anaconda3/envs/pyvizenv2/lib/python3.7/site-packages/ipykernel_launcher.py:7: SettingWithCopyWarning: \n",
      "A value is trying to be set on a copy of a slice from a DataFrame\n",
      "\n",
      "See the caveats in the documentation: https://pandas.pydata.org/pandas-docs/stable/user_guide/indexing.html#returning-a-view-versus-a-copy\n",
      "  import sys\n",
      "/Users/aaronbsechler/opt/anaconda3/envs/pyvizenv2/lib/python3.7/site-packages/pandas/core/indexing.py:670: SettingWithCopyWarning: \n",
      "A value is trying to be set on a copy of a slice from a DataFrame\n",
      "\n",
      "See the caveats in the documentation: https://pandas.pydata.org/pandas-docs/stable/user_guide/indexing.html#returning-a-view-versus-a-copy\n",
      "  iloc._setitem_with_indexer(indexer, value)\n",
      "/Users/aaronbsechler/opt/anaconda3/envs/pyvizenv2/lib/python3.7/site-packages/ipykernel_launcher.py:10: SettingWithCopyWarning: \n",
      "A value is trying to be set on a copy of a slice from a DataFrame\n",
      "\n",
      "See the caveats in the documentation: https://pandas.pydata.org/pandas-docs/stable/user_guide/indexing.html#returning-a-view-versus-a-copy\n",
      "  # Remove the CWD from sys.path while we load stuff.\n",
      "/Users/aaronbsechler/opt/anaconda3/envs/pyvizenv2/lib/python3.7/site-packages/pandas/core/indexing.py:670: SettingWithCopyWarning: \n",
      "A value is trying to be set on a copy of a slice from a DataFrame\n",
      "\n",
      "See the caveats in the documentation: https://pandas.pydata.org/pandas-docs/stable/user_guide/indexing.html#returning-a-view-versus-a-copy\n",
      "  iloc._setitem_with_indexer(indexer, value)\n",
      "/Users/aaronbsechler/opt/anaconda3/envs/pyvizenv2/lib/python3.7/site-packages/ipykernel_launcher.py:11: SettingWithCopyWarning: \n",
      "A value is trying to be set on a copy of a slice from a DataFrame\n",
      "\n",
      "See the caveats in the documentation: https://pandas.pydata.org/pandas-docs/stable/user_guide/indexing.html#returning-a-view-versus-a-copy\n",
      "  # This is added back by InteractiveShellApp.init_path()\n",
      "/Users/aaronbsechler/opt/anaconda3/envs/pyvizenv2/lib/python3.7/site-packages/pandas/core/indexing.py:670: SettingWithCopyWarning: \n",
      "A value is trying to be set on a copy of a slice from a DataFrame\n",
      "\n",
      "See the caveats in the documentation: https://pandas.pydata.org/pandas-docs/stable/user_guide/indexing.html#returning-a-view-versus-a-copy\n",
      "  iloc._setitem_with_indexer(indexer, value)\n",
      "/Users/aaronbsechler/opt/anaconda3/envs/pyvizenv2/lib/python3.7/site-packages/ipykernel_launcher.py:14: SettingWithCopyWarning: \n",
      "A value is trying to be set on a copy of a slice from a DataFrame\n",
      "\n",
      "See the caveats in the documentation: https://pandas.pydata.org/pandas-docs/stable/user_guide/indexing.html#returning-a-view-versus-a-copy\n",
      "  \n",
      "/Users/aaronbsechler/opt/anaconda3/envs/pyvizenv2/lib/python3.7/site-packages/pandas/core/indexing.py:670: SettingWithCopyWarning: \n",
      "A value is trying to be set on a copy of a slice from a DataFrame\n",
      "\n",
      "See the caveats in the documentation: https://pandas.pydata.org/pandas-docs/stable/user_guide/indexing.html#returning-a-view-versus-a-copy\n",
      "  iloc._setitem_with_indexer(indexer, value)\n",
      "/Users/aaronbsechler/opt/anaconda3/envs/pyvizenv2/lib/python3.7/site-packages/ipykernel_launcher.py:15: SettingWithCopyWarning: \n",
      "A value is trying to be set on a copy of a slice from a DataFrame\n",
      "\n",
      "See the caveats in the documentation: https://pandas.pydata.org/pandas-docs/stable/user_guide/indexing.html#returning-a-view-versus-a-copy\n",
      "  from ipykernel import kernelapp as app\n",
      "/Users/aaronbsechler/opt/anaconda3/envs/pyvizenv2/lib/python3.7/site-packages/pandas/core/indexing.py:670: SettingWithCopyWarning: \n",
      "A value is trying to be set on a copy of a slice from a DataFrame\n",
      "\n",
      "See the caveats in the documentation: https://pandas.pydata.org/pandas-docs/stable/user_guide/indexing.html#returning-a-view-versus-a-copy\n",
      "  iloc._setitem_with_indexer(indexer, value)\n",
      "/Users/aaronbsechler/opt/anaconda3/envs/pyvizenv2/lib/python3.7/site-packages/ipykernel_launcher.py:18: SettingWithCopyWarning: \n",
      "A value is trying to be set on a copy of a slice from a DataFrame\n",
      "\n",
      "See the caveats in the documentation: https://pandas.pydata.org/pandas-docs/stable/user_guide/indexing.html#returning-a-view-versus-a-copy\n",
      "/Users/aaronbsechler/opt/anaconda3/envs/pyvizenv2/lib/python3.7/site-packages/pandas/core/indexing.py:670: SettingWithCopyWarning: \n",
      "A value is trying to be set on a copy of a slice from a DataFrame\n",
      "\n",
      "See the caveats in the documentation: https://pandas.pydata.org/pandas-docs/stable/user_guide/indexing.html#returning-a-view-versus-a-copy\n",
      "  iloc._setitem_with_indexer(indexer, value)\n",
      "/Users/aaronbsechler/opt/anaconda3/envs/pyvizenv2/lib/python3.7/site-packages/ipykernel_launcher.py:19: SettingWithCopyWarning: \n",
      "A value is trying to be set on a copy of a slice from a DataFrame\n",
      "\n",
      "See the caveats in the documentation: https://pandas.pydata.org/pandas-docs/stable/user_guide/indexing.html#returning-a-view-versus-a-copy\n",
      "/Users/aaronbsechler/opt/anaconda3/envs/pyvizenv2/lib/python3.7/site-packages/pandas/core/indexing.py:670: SettingWithCopyWarning: \n",
      "A value is trying to be set on a copy of a slice from a DataFrame\n",
      "\n",
      "See the caveats in the documentation: https://pandas.pydata.org/pandas-docs/stable/user_guide/indexing.html#returning-a-view-versus-a-copy\n",
      "  iloc._setitem_with_indexer(indexer, value)\n",
      "/Users/aaronbsechler/opt/anaconda3/envs/pyvizenv2/lib/python3.7/site-packages/ipykernel_launcher.py:22: SettingWithCopyWarning: \n",
      "A value is trying to be set on a copy of a slice from a DataFrame\n",
      "\n",
      "See the caveats in the documentation: https://pandas.pydata.org/pandas-docs/stable/user_guide/indexing.html#returning-a-view-versus-a-copy\n",
      "/Users/aaronbsechler/opt/anaconda3/envs/pyvizenv2/lib/python3.7/site-packages/pandas/core/indexing.py:670: SettingWithCopyWarning: \n",
      "A value is trying to be set on a copy of a slice from a DataFrame\n",
      "\n",
      "See the caveats in the documentation: https://pandas.pydata.org/pandas-docs/stable/user_guide/indexing.html#returning-a-view-versus-a-copy\n",
      "  iloc._setitem_with_indexer(indexer, value)\n",
      "/Users/aaronbsechler/opt/anaconda3/envs/pyvizenv2/lib/python3.7/site-packages/ipykernel_launcher.py:23: SettingWithCopyWarning: \n",
      "A value is trying to be set on a copy of a slice from a DataFrame\n",
      "\n",
      "See the caveats in the documentation: https://pandas.pydata.org/pandas-docs/stable/user_guide/indexing.html#returning-a-view-versus-a-copy\n",
      "/Users/aaronbsechler/opt/anaconda3/envs/pyvizenv2/lib/python3.7/site-packages/pandas/core/indexing.py:670: SettingWithCopyWarning: \n",
      "A value is trying to be set on a copy of a slice from a DataFrame\n",
      "\n",
      "See the caveats in the documentation: https://pandas.pydata.org/pandas-docs/stable/user_guide/indexing.html#returning-a-view-versus-a-copy\n",
      "  iloc._setitem_with_indexer(indexer, value)\n"
     ]
    }
   ],
   "source": [
    "## AWESOME OSCILLATOR TRADING INDICATORS\n",
    "\n",
    "short_window = 34\n",
    "\n",
    "fb_df['awe_osc_trading_signal'] = 0\n",
    "fb_df['awe_osc_trading_signal'][short_window:] = np.where((fb_df['awe_osc'][short_window:] > 0) & (fb_df['awe_osc'][short_window:].shift(-1) < 0), 1, 0)\n",
    "fb_df['awe_osc_trading_signal'][short_window:] = np.where((fb_df['awe_osc'][short_window:] < 0) & (fb_df['awe_osc'][short_window:].shift(-1) > 0), -1, 0)\n",
    "\n",
    "aapl_df['awe_osc_trading_signal'] = 0\n",
    "aapl_df['awe_osc_trading_signal'][short_window:] = np.where((aapl_df['awe_osc'][short_window:] > 0) & (aapl_df['awe_osc'][short_window:].shift(-1) < 0), 1, 0)\n",
    "aapl_df['awe_osc_trading_signal'][short_window:] = np.where((aapl_df['awe_osc'][short_window:] < 0) & (aapl_df['awe_osc'][short_window:].shift(-1) > 0), -1, 0)\n",
    "\n",
    "amzn_df['awe_osc_trading_signal'] = 0\n",
    "amzn_df['awe_osc_trading_signal'][short_window:] = np.where((amzn_df['awe_osc'][short_window:] > 0) & (amzn_df['awe_osc'][short_window:].shift(-1) < 0), 1, 0)\n",
    "amzn_df['awe_osc_trading_signal'][short_window:] = np.where((amzn_df['awe_osc'][short_window:] < 0) & (amzn_df['awe_osc'][short_window:].shift(-1) > 0), -1, 0)\n",
    "\n",
    "nflx_df['awe_osc_trading_signal'] = 0\n",
    "nflx_df['awe_osc_trading_signal'][short_window:] = np.where((nflx_df['awe_osc'][short_window:] > 0) & (nflx_df['awe_osc'][short_window:].shift(-1) < 0), 1, 0)\n",
    "nflx_df['awe_osc_trading_signal'][short_window:] = np.where((nflx_df['awe_osc'][short_window:] < 0) & (nflx_df['awe_osc'][short_window:].shift(-1) > 0), -1, 0)\n",
    "\n",
    "goog_df['awe_osc_trading_signal'] = 0\n",
    "goog_df['awe_osc_trading_signal'][short_window:] = np.where((goog_df['awe_osc'][short_window:] > 0) & (goog_df['awe_osc'][short_window:].shift(-1) < 0), 1, 0)\n",
    "goog_df['awe_osc_trading_signal'][short_window:] = np.where((goog_df['awe_osc'][short_window:] < 0) & (goog_df['awe_osc'][short_window:].shift(-1) > 0), -1, 0)"
   ]
  },
  {
   "cell_type": "code",
   "execution_count": 164,
   "metadata": {},
   "outputs": [],
   "source": [
    "## KAUFMAN'S ADAPTIVE MOVING AVERAGE kama (MOMENTUM INDICATOR)\n",
    "\n",
    "fb_kama = ta.momentum.KAMAIndicator(close=fb_df['close'], n=10, pow1=2, pow2=30, fillna=False)\n",
    "aapl_kama = ta.momentum.KAMAIndicator(close=aapl_df['close'], n=10, pow1=2, pow2=30, fillna=False)\n",
    "amzn_kama = ta.momentum.KAMAIndicator(close=amzn_df['close'], n=10, pow1=2, pow2=30, fillna=False)\n",
    "nflx_kama = ta.momentum.KAMAIndicator(close=nflx_df['close'], n=10, pow1=2, pow2=30, fillna=False)\n",
    "goog_kama = ta.momentum.KAMAIndicator(close=goog_df['close'], n=10, pow1=2, pow2=30, fillna=False)\n",
    "\n",
    "fb_df['kama'] = fb_kama.kama()\n",
    "aapl_df['kama'] = aapl_kama.kama()\n",
    "amzn_df['kama'] = amzn_kama.kama()\n",
    "nflx_df['kama'] = nflx_kama.kama()\n",
    "goog_df['kama'] = goog_kama.kama()\n",
    "\n",
    "fb_kama_sig = ta.momentum.KAMAIndicator(close=fb_df['close'], n=30, pow1=2, pow2=30, fillna=False)\n",
    "aapl_kama_sig = ta.momentum.KAMAIndicator(close=aapl_df['close'], n=30, pow1=2, pow2=30, fillna=False)\n",
    "amzn_kama_sig = ta.momentum.KAMAIndicator(close=amzn_df['close'], n=30, pow1=2, pow2=30, fillna=False)\n",
    "nflx_kama_sig = ta.momentum.KAMAIndicator(close=nflx_df['close'], n=30, pow1=2, pow2=30, fillna=False)\n",
    "goog_kama_sig = ta.momentum.KAMAIndicator(close=goog_df['close'], n=30, pow1=2, pow2=30, fillna=False)\n",
    "\n",
    "fb_df['kama_sig'] = fb_kama.kama()\n",
    "aapl_df['kama_sig'] = aapl_kama.kama()\n",
    "amzn_df['kama_sig'] = amzn_kama.kama()\n",
    "nflx_df['kama_sig'] = nflx_kama.kama()\n",
    "goog_df['kama_sig'] = goog_kama.kama()\n",
    "\n",
    "#fb_df"
   ]
  },
  {
   "cell_type": "code",
   "execution_count": 165,
   "metadata": {},
   "outputs": [
    {
     "name": "stderr",
     "output_type": "stream",
     "text": [
      "/Users/aaronbsechler/opt/anaconda3/envs/pyvizenv2/lib/python3.7/site-packages/ipykernel_launcher.py:6: SettingWithCopyWarning: \n",
      "A value is trying to be set on a copy of a slice from a DataFrame\n",
      "\n",
      "See the caveats in the documentation: https://pandas.pydata.org/pandas-docs/stable/user_guide/indexing.html#returning-a-view-versus-a-copy\n",
      "  \n",
      "/Users/aaronbsechler/opt/anaconda3/envs/pyvizenv2/lib/python3.7/site-packages/pandas/core/indexing.py:670: SettingWithCopyWarning: \n",
      "A value is trying to be set on a copy of a slice from a DataFrame\n",
      "\n",
      "See the caveats in the documentation: https://pandas.pydata.org/pandas-docs/stable/user_guide/indexing.html#returning-a-view-versus-a-copy\n",
      "  iloc._setitem_with_indexer(indexer, value)\n",
      "/Users/aaronbsechler/opt/anaconda3/envs/pyvizenv2/lib/python3.7/site-packages/ipykernel_launcher.py:10: SettingWithCopyWarning: \n",
      "A value is trying to be set on a copy of a slice from a DataFrame\n",
      "\n",
      "See the caveats in the documentation: https://pandas.pydata.org/pandas-docs/stable/user_guide/indexing.html#returning-a-view-versus-a-copy\n",
      "  # Remove the CWD from sys.path while we load stuff.\n",
      "/Users/aaronbsechler/opt/anaconda3/envs/pyvizenv2/lib/python3.7/site-packages/pandas/core/indexing.py:670: SettingWithCopyWarning: \n",
      "A value is trying to be set on a copy of a slice from a DataFrame\n",
      "\n",
      "See the caveats in the documentation: https://pandas.pydata.org/pandas-docs/stable/user_guide/indexing.html#returning-a-view-versus-a-copy\n",
      "  iloc._setitem_with_indexer(indexer, value)\n",
      "/Users/aaronbsechler/opt/anaconda3/envs/pyvizenv2/lib/python3.7/site-packages/ipykernel_launcher.py:14: SettingWithCopyWarning: \n",
      "A value is trying to be set on a copy of a slice from a DataFrame\n",
      "\n",
      "See the caveats in the documentation: https://pandas.pydata.org/pandas-docs/stable/user_guide/indexing.html#returning-a-view-versus-a-copy\n",
      "  \n",
      "/Users/aaronbsechler/opt/anaconda3/envs/pyvizenv2/lib/python3.7/site-packages/pandas/core/indexing.py:670: SettingWithCopyWarning: \n",
      "A value is trying to be set on a copy of a slice from a DataFrame\n",
      "\n",
      "See the caveats in the documentation: https://pandas.pydata.org/pandas-docs/stable/user_guide/indexing.html#returning-a-view-versus-a-copy\n",
      "  iloc._setitem_with_indexer(indexer, value)\n",
      "/Users/aaronbsechler/opt/anaconda3/envs/pyvizenv2/lib/python3.7/site-packages/ipykernel_launcher.py:18: SettingWithCopyWarning: \n",
      "A value is trying to be set on a copy of a slice from a DataFrame\n",
      "\n",
      "See the caveats in the documentation: https://pandas.pydata.org/pandas-docs/stable/user_guide/indexing.html#returning-a-view-versus-a-copy\n",
      "/Users/aaronbsechler/opt/anaconda3/envs/pyvizenv2/lib/python3.7/site-packages/pandas/core/indexing.py:670: SettingWithCopyWarning: \n",
      "A value is trying to be set on a copy of a slice from a DataFrame\n",
      "\n",
      "See the caveats in the documentation: https://pandas.pydata.org/pandas-docs/stable/user_guide/indexing.html#returning-a-view-versus-a-copy\n",
      "  iloc._setitem_with_indexer(indexer, value)\n",
      "/Users/aaronbsechler/opt/anaconda3/envs/pyvizenv2/lib/python3.7/site-packages/ipykernel_launcher.py:22: SettingWithCopyWarning: \n",
      "A value is trying to be set on a copy of a slice from a DataFrame\n",
      "\n",
      "See the caveats in the documentation: https://pandas.pydata.org/pandas-docs/stable/user_guide/indexing.html#returning-a-view-versus-a-copy\n",
      "/Users/aaronbsechler/opt/anaconda3/envs/pyvizenv2/lib/python3.7/site-packages/pandas/core/indexing.py:670: SettingWithCopyWarning: \n",
      "A value is trying to be set on a copy of a slice from a DataFrame\n",
      "\n",
      "See the caveats in the documentation: https://pandas.pydata.org/pandas-docs/stable/user_guide/indexing.html#returning-a-view-versus-a-copy\n",
      "  iloc._setitem_with_indexer(indexer, value)\n"
     ]
    }
   ],
   "source": [
    "## KAMA TRADING INDICATOR\n",
    "\n",
    "short_window = 10\n",
    "\n",
    "fb_df['kama_trading_signal_0'] = 0\n",
    "fb_df['kama_trading_signal_0'][short_window:] = np.where(fb_df['kama'][short_window:] > fb_df['kama_sig'][short_window:], 1, 0)\n",
    "fb_df['kama_trading_signal'] = fb_df['kama_trading_signal_0'].diff()\n",
    "\n",
    "aapl_df['kama_trading_signal_0'] = 0\n",
    "aapl_df['kama_trading_signal_0'][short_window:] = np.where(aapl_df['kama'][short_window:] > aapl_df['kama_sig'][short_window:], 1, 0)\n",
    "aapl_df['kama_trading_signal'] = aapl_df['kama_trading_signal_0'].diff()\n",
    "\n",
    "amzn_df['kama_trading_signal_0'] = 0\n",
    "amzn_df['kama_trading_signal_0'][short_window:] = np.where(amzn_df['kama'][short_window:] > amzn_df['kama_sig'][short_window:], 1, 0)\n",
    "amzn_df['kama_trading_signal'] = amzn_df['kama_trading_signal_0'].diff()\n",
    "\n",
    "nflx_df['kama_trading_signal_0'] = 0\n",
    "nflx_df['kama_trading_signal_0'][short_window:] = np.where(nflx_df['kama'][short_window:] > nflx_df['kama_sig'][short_window:], 1, 0)\n",
    "nflx_df['kama_trading_signal'] = nflx_df['kama_trading_signal_0'].diff()\n",
    "\n",
    "goog_df['kama_trading_signal_0'] = 0\n",
    "goog_df['kama_trading_signal_0'][short_window:] = np.where(goog_df['kama'][short_window:] > goog_df['kama_sig'][short_window:], 1, 0)\n",
    "goog_df['kama_trading_signal'] = goog_df['kama_trading_signal_0'].diff()"
   ]
  },
  {
   "cell_type": "code",
   "execution_count": 166,
   "metadata": {},
   "outputs": [],
   "source": [
    "## RATE OF CHANGE roc (MOMENTUM INDICATOR)\n",
    "\n",
    "fb_roc = ta.momentum.ROCIndicator(close=fb_df['close'], n=12, fillna=False)\n",
    "aapl_roc = ta.momentum.ROCIndicator(close=aapl_df['close'], n=12, fillna=False)\n",
    "amzn_roc = ta.momentum.ROCIndicator(close=amzn_df['close'], n=12, fillna=False)\n",
    "nflx_roc = ta.momentum.ROCIndicator(close=nflx_df['close'], n=12, fillna=False)\n",
    "goog_roc = ta.momentum.ROCIndicator(close=goog_df['close'], n=12, fillna=False)\n",
    "\n",
    "fb_df['roc'] = fb_roc.roc()\n",
    "aapl_df['roc'] = aapl_roc.roc()\n",
    "amzn_df['roc'] = amzn_roc.roc()\n",
    "nflx_df['roc'] = nflx_roc.roc()\n",
    "goog_df['roc'] = goog_roc.roc()\n",
    "\n",
    "#fb_df"
   ]
  },
  {
   "cell_type": "code",
   "execution_count": 167,
   "metadata": {},
   "outputs": [
    {
     "name": "stderr",
     "output_type": "stream",
     "text": [
      "/Users/aaronbsechler/opt/anaconda3/envs/pyvizenv2/lib/python3.7/site-packages/ipykernel_launcher.py:4: SettingWithCopyWarning: \n",
      "A value is trying to be set on a copy of a slice from a DataFrame\n",
      "\n",
      "See the caveats in the documentation: https://pandas.pydata.org/pandas-docs/stable/user_guide/indexing.html#returning-a-view-versus-a-copy\n",
      "  after removing the cwd from sys.path.\n",
      "/Users/aaronbsechler/opt/anaconda3/envs/pyvizenv2/lib/python3.7/site-packages/pandas/core/indexing.py:670: SettingWithCopyWarning: \n",
      "A value is trying to be set on a copy of a slice from a DataFrame\n",
      "\n",
      "See the caveats in the documentation: https://pandas.pydata.org/pandas-docs/stable/user_guide/indexing.html#returning-a-view-versus-a-copy\n",
      "  iloc._setitem_with_indexer(indexer, value)\n",
      "/Users/aaronbsechler/opt/anaconda3/envs/pyvizenv2/lib/python3.7/site-packages/ipykernel_launcher.py:8: SettingWithCopyWarning: \n",
      "A value is trying to be set on a copy of a slice from a DataFrame\n",
      "\n",
      "See the caveats in the documentation: https://pandas.pydata.org/pandas-docs/stable/user_guide/indexing.html#returning-a-view-versus-a-copy\n",
      "  \n",
      "/Users/aaronbsechler/opt/anaconda3/envs/pyvizenv2/lib/python3.7/site-packages/pandas/core/indexing.py:670: SettingWithCopyWarning: \n",
      "A value is trying to be set on a copy of a slice from a DataFrame\n",
      "\n",
      "See the caveats in the documentation: https://pandas.pydata.org/pandas-docs/stable/user_guide/indexing.html#returning-a-view-versus-a-copy\n",
      "  iloc._setitem_with_indexer(indexer, value)\n",
      "/Users/aaronbsechler/opt/anaconda3/envs/pyvizenv2/lib/python3.7/site-packages/ipykernel_launcher.py:12: SettingWithCopyWarning: \n",
      "A value is trying to be set on a copy of a slice from a DataFrame\n",
      "\n",
      "See the caveats in the documentation: https://pandas.pydata.org/pandas-docs/stable/user_guide/indexing.html#returning-a-view-versus-a-copy\n",
      "  if sys.path[0] == '':\n",
      "/Users/aaronbsechler/opt/anaconda3/envs/pyvizenv2/lib/python3.7/site-packages/pandas/core/indexing.py:670: SettingWithCopyWarning: \n",
      "A value is trying to be set on a copy of a slice from a DataFrame\n",
      "\n",
      "See the caveats in the documentation: https://pandas.pydata.org/pandas-docs/stable/user_guide/indexing.html#returning-a-view-versus-a-copy\n",
      "  iloc._setitem_with_indexer(indexer, value)\n",
      "/Users/aaronbsechler/opt/anaconda3/envs/pyvizenv2/lib/python3.7/site-packages/ipykernel_launcher.py:16: SettingWithCopyWarning: \n",
      "A value is trying to be set on a copy of a slice from a DataFrame\n",
      "\n",
      "See the caveats in the documentation: https://pandas.pydata.org/pandas-docs/stable/user_guide/indexing.html#returning-a-view-versus-a-copy\n",
      "  app.launch_new_instance()\n",
      "/Users/aaronbsechler/opt/anaconda3/envs/pyvizenv2/lib/python3.7/site-packages/pandas/core/indexing.py:670: SettingWithCopyWarning: \n",
      "A value is trying to be set on a copy of a slice from a DataFrame\n",
      "\n",
      "See the caveats in the documentation: https://pandas.pydata.org/pandas-docs/stable/user_guide/indexing.html#returning-a-view-versus-a-copy\n",
      "  iloc._setitem_with_indexer(indexer, value)\n",
      "/Users/aaronbsechler/opt/anaconda3/envs/pyvizenv2/lib/python3.7/site-packages/ipykernel_launcher.py:20: SettingWithCopyWarning: \n",
      "A value is trying to be set on a copy of a slice from a DataFrame\n",
      "\n",
      "See the caveats in the documentation: https://pandas.pydata.org/pandas-docs/stable/user_guide/indexing.html#returning-a-view-versus-a-copy\n",
      "/Users/aaronbsechler/opt/anaconda3/envs/pyvizenv2/lib/python3.7/site-packages/pandas/core/indexing.py:670: SettingWithCopyWarning: \n",
      "A value is trying to be set on a copy of a slice from a DataFrame\n",
      "\n",
      "See the caveats in the documentation: https://pandas.pydata.org/pandas-docs/stable/user_guide/indexing.html#returning-a-view-versus-a-copy\n",
      "  iloc._setitem_with_indexer(indexer, value)\n"
     ]
    }
   ],
   "source": [
    "## ROC TRADING INDICATOR\n",
    "\n",
    "fb_df['roc_signal'] = 0\n",
    "fb_df['roc_signal'][12:] = np.where(fb_df['roc'][12:] > 15, 1.0, 0.0) + np.where(fb_df['roc'][12:] < -15, 1.0, 0.0)\n",
    "fb_df['roc_trading_signal'] = fb_df['roc_signal'].diff()\n",
    "\n",
    "aapl_df['roc_signal'] = 0\n",
    "aapl_df['roc_signal'][12:] = np.where(aapl_df['roc'][12:] > 15, 1.0, 0.0) + np.where(aapl_df['roc'][12:] < -15, 1.0, 0.0)\n",
    "aapl_df['roc_trading_signal'] = aapl_df['roc_signal'].diff()\n",
    "\n",
    "amzn_df['roc_signal'] = 0\n",
    "amzn_df['roc_signal'][12:] = np.where(amzn_df['roc'][12:] > 15, 1.0, 0.0) + np.where(amzn_df['roc'][12:] < -15, 1.0, 0.0)\n",
    "amzn_df['roc_trading_signal'] = amzn_df['roc_signal'].diff()\n",
    "\n",
    "nflx_df['roc_signal'] = 0\n",
    "nflx_df['roc_signal'][12:] = np.where(nflx_df['roc'][12:] > 15, 1.0, 0.0) + np.where(nflx_df['roc'][12:] < -15, 1.0, 0.0)\n",
    "nflx_df['roc_trading_signal'] = nflx_df['roc_signal'].diff()\n",
    "\n",
    "goog_df['roc_signal'] = 0\n",
    "goog_df['roc_signal'][12:] = np.where(goog_df['roc'][12:] > 15, 1.0, 0.0) + np.where(goog_df['roc'][12:] < -15, 1.0, 0.0)\n",
    "goog_df['roc_trading_signal'] = goog_df['roc_signal'].diff()"
   ]
  },
  {
   "cell_type": "code",
   "execution_count": 168,
   "metadata": {},
   "outputs": [],
   "source": [
    "## RELATIVE STRENGTH INDEX rsi (MOMENTUM INDICATOR)\n",
    "\n",
    "fb_rsi = ta.momentum.RSIIndicator(close=fb_df['close'], n=14, fillna=False)\n",
    "aapl_rsi = ta.momentum.RSIIndicator(close=aapl_df['close'], n=14, fillna=False)\n",
    "amzn_rsi = ta.momentum.RSIIndicator(close=amzn_df['close'], n=14, fillna=False)\n",
    "nflx_rsi = ta.momentum.RSIIndicator(close=nflx_df['close'], n=14, fillna=False)\n",
    "goog_rsi = ta.momentum.RSIIndicator(close=goog_df['close'], n=14, fillna=False)\n",
    "\n",
    "fb_df['rsi'] = fb_rsi.rsi()\n",
    "aapl_df['rsi'] = aapl_rsi.rsi()\n",
    "amzn_df['rsi'] = amzn_rsi.rsi()\n",
    "nflx_df['rsi'] = nflx_rsi.rsi()\n",
    "goog_df['rsi'] = goog_rsi.rsi()\n",
    "\n",
    "#fb_df"
   ]
  },
  {
   "cell_type": "code",
   "execution_count": 169,
   "metadata": {},
   "outputs": [
    {
     "name": "stderr",
     "output_type": "stream",
     "text": [
      "/Users/aaronbsechler/opt/anaconda3/envs/pyvizenv2/lib/python3.7/site-packages/ipykernel_launcher.py:4: SettingWithCopyWarning: \n",
      "A value is trying to be set on a copy of a slice from a DataFrame\n",
      "\n",
      "See the caveats in the documentation: https://pandas.pydata.org/pandas-docs/stable/user_guide/indexing.html#returning-a-view-versus-a-copy\n",
      "  after removing the cwd from sys.path.\n",
      "/Users/aaronbsechler/opt/anaconda3/envs/pyvizenv2/lib/python3.7/site-packages/pandas/core/indexing.py:670: SettingWithCopyWarning: \n",
      "A value is trying to be set on a copy of a slice from a DataFrame\n",
      "\n",
      "See the caveats in the documentation: https://pandas.pydata.org/pandas-docs/stable/user_guide/indexing.html#returning-a-view-versus-a-copy\n",
      "  iloc._setitem_with_indexer(indexer, value)\n",
      "/Users/aaronbsechler/opt/anaconda3/envs/pyvizenv2/lib/python3.7/site-packages/ipykernel_launcher.py:8: SettingWithCopyWarning: \n",
      "A value is trying to be set on a copy of a slice from a DataFrame\n",
      "\n",
      "See the caveats in the documentation: https://pandas.pydata.org/pandas-docs/stable/user_guide/indexing.html#returning-a-view-versus-a-copy\n",
      "  \n",
      "/Users/aaronbsechler/opt/anaconda3/envs/pyvizenv2/lib/python3.7/site-packages/pandas/core/indexing.py:670: SettingWithCopyWarning: \n",
      "A value is trying to be set on a copy of a slice from a DataFrame\n",
      "\n",
      "See the caveats in the documentation: https://pandas.pydata.org/pandas-docs/stable/user_guide/indexing.html#returning-a-view-versus-a-copy\n",
      "  iloc._setitem_with_indexer(indexer, value)\n",
      "/Users/aaronbsechler/opt/anaconda3/envs/pyvizenv2/lib/python3.7/site-packages/ipykernel_launcher.py:12: SettingWithCopyWarning: \n",
      "A value is trying to be set on a copy of a slice from a DataFrame\n",
      "\n",
      "See the caveats in the documentation: https://pandas.pydata.org/pandas-docs/stable/user_guide/indexing.html#returning-a-view-versus-a-copy\n",
      "  if sys.path[0] == '':\n",
      "/Users/aaronbsechler/opt/anaconda3/envs/pyvizenv2/lib/python3.7/site-packages/pandas/core/indexing.py:670: SettingWithCopyWarning: \n",
      "A value is trying to be set on a copy of a slice from a DataFrame\n",
      "\n",
      "See the caveats in the documentation: https://pandas.pydata.org/pandas-docs/stable/user_guide/indexing.html#returning-a-view-versus-a-copy\n",
      "  iloc._setitem_with_indexer(indexer, value)\n",
      "/Users/aaronbsechler/opt/anaconda3/envs/pyvizenv2/lib/python3.7/site-packages/ipykernel_launcher.py:16: SettingWithCopyWarning: \n",
      "A value is trying to be set on a copy of a slice from a DataFrame\n",
      "\n",
      "See the caveats in the documentation: https://pandas.pydata.org/pandas-docs/stable/user_guide/indexing.html#returning-a-view-versus-a-copy\n",
      "  app.launch_new_instance()\n",
      "/Users/aaronbsechler/opt/anaconda3/envs/pyvizenv2/lib/python3.7/site-packages/pandas/core/indexing.py:670: SettingWithCopyWarning: \n",
      "A value is trying to be set on a copy of a slice from a DataFrame\n",
      "\n",
      "See the caveats in the documentation: https://pandas.pydata.org/pandas-docs/stable/user_guide/indexing.html#returning-a-view-versus-a-copy\n",
      "  iloc._setitem_with_indexer(indexer, value)\n",
      "/Users/aaronbsechler/opt/anaconda3/envs/pyvizenv2/lib/python3.7/site-packages/ipykernel_launcher.py:20: SettingWithCopyWarning: \n",
      "A value is trying to be set on a copy of a slice from a DataFrame\n",
      "\n",
      "See the caveats in the documentation: https://pandas.pydata.org/pandas-docs/stable/user_guide/indexing.html#returning-a-view-versus-a-copy\n",
      "/Users/aaronbsechler/opt/anaconda3/envs/pyvizenv2/lib/python3.7/site-packages/pandas/core/indexing.py:670: SettingWithCopyWarning: \n",
      "A value is trying to be set on a copy of a slice from a DataFrame\n",
      "\n",
      "See the caveats in the documentation: https://pandas.pydata.org/pandas-docs/stable/user_guide/indexing.html#returning-a-view-versus-a-copy\n",
      "  iloc._setitem_with_indexer(indexer, value)\n"
     ]
    }
   ],
   "source": [
    "## RSI TRADING INDICATOR\n",
    "\n",
    "fb_df['rsi_signal'] = 0\n",
    "fb_df['rsi_signal'][14:] = np.where(fb_df['rsi'][14:] > 70, 1.0, 0.0) + np.where(fb_df['rsi'][14:] < 30, 1.0, 0.0)\n",
    "fb_df['rsi_trading_signal'] = fb_df['rsi_signal'].diff()\n",
    "\n",
    "aapl_df['rsi_signal'] = 0\n",
    "aapl_df['rsi_signal'][14:] = np.where(aapl_df['rsi'][14:] > 70, 1.0, 0.0) + np.where(aapl_df['rsi'][14:] < 30, 1.0, 0.0)\n",
    "aapl_df['rsi_trading_signal'] = aapl_df['rsi_signal'].diff()\n",
    "\n",
    "amzn_df['rsi_signal'] = 0\n",
    "amzn_df['rsi_signal'][14:] = np.where(amzn_df['rsi'][14:] > 70, 1.0, 0.0) + np.where(amzn_df['rsi'][14:] < 30, 1.0, 0.0)\n",
    "amzn_df['rsi_trading_signal'] = amzn_df['rsi_signal'].diff()\n",
    "\n",
    "nflx_df['rsi_signal'] = 0\n",
    "nflx_df['rsi_signal'][14:] = np.where(nflx_df['rsi'][14:] > 70, 1.0, 0.0) + np.where(nflx_df['rsi'][14:] < 30, 1.0, 0.0)\n",
    "nflx_df['rsi_trading_signal'] = nflx_df['rsi_signal'].diff()\n",
    "\n",
    "goog_df['rsi_signal'] = 0\n",
    "goog_df['rsi_signal'][14:] = np.where(goog_df['rsi'][14:] > 70, 1.0, 0.0) + np.where(goog_df['rsi'][14:] < 30, 1.0, 0.0)\n",
    "goog_df['rsi_trading_signal'] = goog_df['rsi_signal'].diff()"
   ]
  },
  {
   "cell_type": "code",
   "execution_count": 170,
   "metadata": {},
   "outputs": [],
   "source": [
    "## STOCHASTIC OSCILATOR/STOCHASTIC OSCILATOR SIGNALS stoch_osc stoch_signals (MOMENTUM INDICATORS)\n",
    "\n",
    "fb_stoch_osc = ta.momentum.StochasticOscillator(high=fb_df['high'], low=fb_df['low'], close=fb_df['close'], n=14, d_n= 3, fillna=False)\n",
    "aapl_stoch_osc = ta.momentum.StochasticOscillator(high=aapl_df['high'], low=aapl_df['low'], close=aapl_df['close'], n=14, d_n= 3, fillna=False)\n",
    "amzn_stoch_osc = ta.momentum.StochasticOscillator(high=amzn_df['high'], low=amzn_df['low'], close=amzn_df['close'], n=14, d_n= 3, fillna=False)\n",
    "nflx_stoch_osc = ta.momentum.StochasticOscillator(high=nflx_df['high'], low=nflx_df['low'], close=nflx_df['close'], n=14, d_n= 3, fillna=False)\n",
    "goog_stoch_osc = ta.momentum.StochasticOscillator(high=goog_df['high'], low=goog_df['low'], close=goog_df['close'], n=14, d_n= 3, fillna=False)\n",
    "\n",
    "fb_df['stoch_osc'] = fb_stoch_osc.stoch()\n",
    "aapl_df['stoch_osc'] = aapl_stoch_osc.stoch()\n",
    "amzn_df['stoch_osc'] = amzn_stoch_osc.stoch()\n",
    "nflx_df['stoch_osc'] = nflx_stoch_osc.stoch()\n",
    "goog_df['stoch_osc'] = goog_stoch_osc.stoch()\n",
    "\n",
    "fb_df['stoch_signal'] = fb_stoch_osc.stoch_signal()\n",
    "aapl_df['stoch_signal'] = aapl_stoch_osc.stoch_signal()\n",
    "amzn_df['stoch_signal'] = amzn_stoch_osc.stoch_signal()\n",
    "nflx_df['stoch_signal'] = nflx_stoch_osc.stoch_signal()\n",
    "goog_df['stoch_signal'] = goog_stoch_osc.stoch_signal()\n",
    "\n",
    "#fb_df"
   ]
  },
  {
   "cell_type": "code",
   "execution_count": 171,
   "metadata": {},
   "outputs": [
    {
     "name": "stderr",
     "output_type": "stream",
     "text": [
      "/Users/aaronbsechler/opt/anaconda3/envs/pyvizenv2/lib/python3.7/site-packages/ipykernel_launcher.py:4: SettingWithCopyWarning: \n",
      "A value is trying to be set on a copy of a slice from a DataFrame\n",
      "\n",
      "See the caveats in the documentation: https://pandas.pydata.org/pandas-docs/stable/user_guide/indexing.html#returning-a-view-versus-a-copy\n",
      "  after removing the cwd from sys.path.\n",
      "/Users/aaronbsechler/opt/anaconda3/envs/pyvizenv2/lib/python3.7/site-packages/pandas/core/indexing.py:670: SettingWithCopyWarning: \n",
      "A value is trying to be set on a copy of a slice from a DataFrame\n",
      "\n",
      "See the caveats in the documentation: https://pandas.pydata.org/pandas-docs/stable/user_guide/indexing.html#returning-a-view-versus-a-copy\n",
      "  iloc._setitem_with_indexer(indexer, value)\n",
      "/Users/aaronbsechler/opt/anaconda3/envs/pyvizenv2/lib/python3.7/site-packages/ipykernel_launcher.py:8: SettingWithCopyWarning: \n",
      "A value is trying to be set on a copy of a slice from a DataFrame\n",
      "\n",
      "See the caveats in the documentation: https://pandas.pydata.org/pandas-docs/stable/user_guide/indexing.html#returning-a-view-versus-a-copy\n",
      "  \n",
      "/Users/aaronbsechler/opt/anaconda3/envs/pyvizenv2/lib/python3.7/site-packages/pandas/core/indexing.py:670: SettingWithCopyWarning: \n",
      "A value is trying to be set on a copy of a slice from a DataFrame\n",
      "\n",
      "See the caveats in the documentation: https://pandas.pydata.org/pandas-docs/stable/user_guide/indexing.html#returning-a-view-versus-a-copy\n",
      "  iloc._setitem_with_indexer(indexer, value)\n",
      "/Users/aaronbsechler/opt/anaconda3/envs/pyvizenv2/lib/python3.7/site-packages/ipykernel_launcher.py:12: SettingWithCopyWarning: \n",
      "A value is trying to be set on a copy of a slice from a DataFrame\n",
      "\n",
      "See the caveats in the documentation: https://pandas.pydata.org/pandas-docs/stable/user_guide/indexing.html#returning-a-view-versus-a-copy\n",
      "  if sys.path[0] == '':\n",
      "/Users/aaronbsechler/opt/anaconda3/envs/pyvizenv2/lib/python3.7/site-packages/pandas/core/indexing.py:670: SettingWithCopyWarning: \n",
      "A value is trying to be set on a copy of a slice from a DataFrame\n",
      "\n",
      "See the caveats in the documentation: https://pandas.pydata.org/pandas-docs/stable/user_guide/indexing.html#returning-a-view-versus-a-copy\n",
      "  iloc._setitem_with_indexer(indexer, value)\n",
      "/Users/aaronbsechler/opt/anaconda3/envs/pyvizenv2/lib/python3.7/site-packages/ipykernel_launcher.py:16: SettingWithCopyWarning: \n",
      "A value is trying to be set on a copy of a slice from a DataFrame\n",
      "\n",
      "See the caveats in the documentation: https://pandas.pydata.org/pandas-docs/stable/user_guide/indexing.html#returning-a-view-versus-a-copy\n",
      "  app.launch_new_instance()\n",
      "/Users/aaronbsechler/opt/anaconda3/envs/pyvizenv2/lib/python3.7/site-packages/pandas/core/indexing.py:670: SettingWithCopyWarning: \n",
      "A value is trying to be set on a copy of a slice from a DataFrame\n",
      "\n",
      "See the caveats in the documentation: https://pandas.pydata.org/pandas-docs/stable/user_guide/indexing.html#returning-a-view-versus-a-copy\n",
      "  iloc._setitem_with_indexer(indexer, value)\n",
      "/Users/aaronbsechler/opt/anaconda3/envs/pyvizenv2/lib/python3.7/site-packages/ipykernel_launcher.py:20: SettingWithCopyWarning: \n",
      "A value is trying to be set on a copy of a slice from a DataFrame\n",
      "\n",
      "See the caveats in the documentation: https://pandas.pydata.org/pandas-docs/stable/user_guide/indexing.html#returning-a-view-versus-a-copy\n",
      "/Users/aaronbsechler/opt/anaconda3/envs/pyvizenv2/lib/python3.7/site-packages/pandas/core/indexing.py:670: SettingWithCopyWarning: \n",
      "A value is trying to be set on a copy of a slice from a DataFrame\n",
      "\n",
      "See the caveats in the documentation: https://pandas.pydata.org/pandas-docs/stable/user_guide/indexing.html#returning-a-view-versus-a-copy\n",
      "  iloc._setitem_with_indexer(indexer, value)\n"
     ]
    }
   ],
   "source": [
    "## STOCHASTIC OSCILATOR TRADING SIGNALS\n",
    "\n",
    "fb_df['so_signal'] = 0\n",
    "fb_df['so_signal'][14:] = np.where(fb_df['stoch_osc'][14:] > 80, 1.0, 0.0) + np.where(fb_df['stoch_osc'][14:] < 20, 1.0, 0.0)\n",
    "fb_df['so_trading_signal'] = fb_df['so_signal'].diff()\n",
    "\n",
    "aapl_df['so_signal'] = 0\n",
    "aapl_df['so_signal'][14:] = np.where(aapl_df['stoch_osc'][14:] > 80, 1.0, 0.0) + np.where(aapl_df['stoch_osc'][14:] < 20, 1.0, 0.0)\n",
    "aapl_df['so_trading_signal'] = aapl_df['so_signal'].diff()\n",
    "\n",
    "amzn_df['so_signal'] = 0\n",
    "amzn_df['so_signal'][14:] = np.where(amzn_df['stoch_osc'][14:] > 80, 1.0, 0.0) + np.where(amzn_df['stoch_osc'][14:] < 20, 1.0, 0.0)\n",
    "amzn_df['so_trading_signal'] = amzn_df['so_signal'].diff()\n",
    "\n",
    "nflx_df['so_signal'] = 0\n",
    "nflx_df['so_signal'][14:] = np.where(nflx_df['stoch_osc'][14:] > 80, 1.0, 0.0) + np.where(nflx_df['stoch_osc'][14:] < 20, 1.0, 0.0)\n",
    "nflx_df['so_trading_signal'] = nflx_df['so_signal'].diff()\n",
    "\n",
    "goog_df['so_signal'] = 0\n",
    "goog_df['so_signal'][14:] = np.where(goog_df['stoch_osc'][14:] > 80, 1.0, 0.0) + np.where(goog_df['stoch_osc'][14:] < 20, 1.0, 0.0)\n",
    "goog_df['so_trading_signal'] = goog_df['so_signal'].diff()"
   ]
  },
  {
   "cell_type": "code",
   "execution_count": 172,
   "metadata": {},
   "outputs": [],
   "source": [
    "## ULTIMATE OSCILATOR ult_osc (MOMENTUM INDICATOR)\n",
    "\n",
    "fb_ult_osc = ta.momentum.UltimateOscillator(high=fb_df['high'], low=fb_df['low'], close=fb_df['close'], s=7, m=14, len=28, ws=4.0, wm=2.0, wl=1.0, fillna=False)\n",
    "aapl_ult_osc = ta.momentum.UltimateOscillator(high=aapl_df['high'], low=aapl_df['low'], close=aapl_df['close'], s=7, m=14, len=28, ws=4.0, wm=2.0, wl=1.0, fillna=False)\n",
    "amzn_ult_osc = ta.momentum.UltimateOscillator(high=amzn_df['high'], low=amzn_df['low'], close=amzn_df['close'], s=7, m=14, len=28, ws=4.0, wm=2.0, wl=1.0, fillna=False)\n",
    "nflx_ult_osc = ta.momentum.UltimateOscillator(high=nflx_df['high'], low=nflx_df['low'], close=nflx_df['close'], s=7, m=14, len=28, ws=4.0, wm=2.0, wl=1.0, fillna=False)\n",
    "goog_ult_osc = ta.momentum.UltimateOscillator(high=goog_df['high'], low=goog_df['low'], close=goog_df['close'], s=7, m=14, len=28, ws=4.0, wm=2.0, wl=1.0, fillna=False)\n",
    "\n",
    "fb_df['ult_osc'] = fb_ult_osc.uo()\n",
    "aapl_df['ult_osc'] = aapl_ult_osc.uo()\n",
    "amzn_df['ult_osc'] = amzn_ult_osc.uo()\n",
    "nflx_df['ult_osc'] = nflx_ult_osc.uo()\n",
    "goog_df['ult_osc'] = goog_ult_osc.uo()\n",
    "\n",
    "#fb_df"
   ]
  },
  {
   "cell_type": "code",
   "execution_count": 173,
   "metadata": {},
   "outputs": [],
   "source": [
    "## ULTIMATE OSCILATOR TRADING SIGNALS\n",
    "\n",
    "# this requires a three step analysis that would be very difficult for me to code."
   ]
  },
  {
   "cell_type": "code",
   "execution_count": 174,
   "metadata": {},
   "outputs": [],
   "source": [
    "## TRUE STRENGTH INDEX tsi (MOMENTUM INDICATOR)\n",
    "\n",
    "fb_tsi = ta.momentum.TSIIndicator(close=fb_df['close'], r=25, s=13, fillna=False)\n",
    "aapl_tsi = ta.momentum.TSIIndicator(close=aapl_df['close'], r=25, s=13, fillna=False)\n",
    "amzn_tsi = ta.momentum.TSIIndicator(close=amzn_df['close'], r=25, s=13, fillna=False)\n",
    "nflx_tsi = ta.momentum.TSIIndicator(close=nflx_df['close'], r=25, s=13, fillna=False)\n",
    "goog_tsi = ta.momentum.TSIIndicator(close=goog_df['close'], r=25, s=13, fillna=False)\n",
    "\n",
    "fb_df['tsi'] = fb_tsi.tsi()\n",
    "aapl_df['tsi'] = aapl_tsi.tsi()\n",
    "amzn_df['tsi'] = amzn_tsi.tsi()\n",
    "nflx_df['tsi'] = nflx_tsi.tsi()\n",
    "goog_df['tsi'] = goog_tsi.tsi()"
   ]
  },
  {
   "cell_type": "code",
   "execution_count": 175,
   "metadata": {},
   "outputs": [
    {
     "name": "stderr",
     "output_type": "stream",
     "text": [
      "/Users/aaronbsechler/opt/anaconda3/envs/pyvizenv2/lib/python3.7/site-packages/ipykernel_launcher.py:6: SettingWithCopyWarning: \n",
      "A value is trying to be set on a copy of a slice from a DataFrame\n",
      "\n",
      "See the caveats in the documentation: https://pandas.pydata.org/pandas-docs/stable/user_guide/indexing.html#returning-a-view-versus-a-copy\n",
      "  \n",
      "/Users/aaronbsechler/opt/anaconda3/envs/pyvizenv2/lib/python3.7/site-packages/pandas/core/indexing.py:670: SettingWithCopyWarning: \n",
      "A value is trying to be set on a copy of a slice from a DataFrame\n",
      "\n",
      "See the caveats in the documentation: https://pandas.pydata.org/pandas-docs/stable/user_guide/indexing.html#returning-a-view-versus-a-copy\n",
      "  iloc._setitem_with_indexer(indexer, value)\n",
      "/Users/aaronbsechler/opt/anaconda3/envs/pyvizenv2/lib/python3.7/site-packages/ipykernel_launcher.py:7: SettingWithCopyWarning: \n",
      "A value is trying to be set on a copy of a slice from a DataFrame\n",
      "\n",
      "See the caveats in the documentation: https://pandas.pydata.org/pandas-docs/stable/user_guide/indexing.html#returning-a-view-versus-a-copy\n",
      "  import sys\n",
      "/Users/aaronbsechler/opt/anaconda3/envs/pyvizenv2/lib/python3.7/site-packages/pandas/core/indexing.py:670: SettingWithCopyWarning: \n",
      "A value is trying to be set on a copy of a slice from a DataFrame\n",
      "\n",
      "See the caveats in the documentation: https://pandas.pydata.org/pandas-docs/stable/user_guide/indexing.html#returning-a-view-versus-a-copy\n",
      "  iloc._setitem_with_indexer(indexer, value)\n",
      "/Users/aaronbsechler/opt/anaconda3/envs/pyvizenv2/lib/python3.7/site-packages/ipykernel_launcher.py:10: SettingWithCopyWarning: \n",
      "A value is trying to be set on a copy of a slice from a DataFrame\n",
      "\n",
      "See the caveats in the documentation: https://pandas.pydata.org/pandas-docs/stable/user_guide/indexing.html#returning-a-view-versus-a-copy\n",
      "  # Remove the CWD from sys.path while we load stuff.\n",
      "/Users/aaronbsechler/opt/anaconda3/envs/pyvizenv2/lib/python3.7/site-packages/pandas/core/indexing.py:670: SettingWithCopyWarning: \n",
      "A value is trying to be set on a copy of a slice from a DataFrame\n",
      "\n",
      "See the caveats in the documentation: https://pandas.pydata.org/pandas-docs/stable/user_guide/indexing.html#returning-a-view-versus-a-copy\n",
      "  iloc._setitem_with_indexer(indexer, value)\n",
      "/Users/aaronbsechler/opt/anaconda3/envs/pyvizenv2/lib/python3.7/site-packages/ipykernel_launcher.py:11: SettingWithCopyWarning: \n",
      "A value is trying to be set on a copy of a slice from a DataFrame\n",
      "\n",
      "See the caveats in the documentation: https://pandas.pydata.org/pandas-docs/stable/user_guide/indexing.html#returning-a-view-versus-a-copy\n",
      "  # This is added back by InteractiveShellApp.init_path()\n",
      "/Users/aaronbsechler/opt/anaconda3/envs/pyvizenv2/lib/python3.7/site-packages/pandas/core/indexing.py:670: SettingWithCopyWarning: \n",
      "A value is trying to be set on a copy of a slice from a DataFrame\n",
      "\n",
      "See the caveats in the documentation: https://pandas.pydata.org/pandas-docs/stable/user_guide/indexing.html#returning-a-view-versus-a-copy\n",
      "  iloc._setitem_with_indexer(indexer, value)\n",
      "/Users/aaronbsechler/opt/anaconda3/envs/pyvizenv2/lib/python3.7/site-packages/ipykernel_launcher.py:14: SettingWithCopyWarning: \n",
      "A value is trying to be set on a copy of a slice from a DataFrame\n",
      "\n",
      "See the caveats in the documentation: https://pandas.pydata.org/pandas-docs/stable/user_guide/indexing.html#returning-a-view-versus-a-copy\n",
      "  \n",
      "/Users/aaronbsechler/opt/anaconda3/envs/pyvizenv2/lib/python3.7/site-packages/pandas/core/indexing.py:670: SettingWithCopyWarning: \n",
      "A value is trying to be set on a copy of a slice from a DataFrame\n",
      "\n",
      "See the caveats in the documentation: https://pandas.pydata.org/pandas-docs/stable/user_guide/indexing.html#returning-a-view-versus-a-copy\n",
      "  iloc._setitem_with_indexer(indexer, value)\n",
      "/Users/aaronbsechler/opt/anaconda3/envs/pyvizenv2/lib/python3.7/site-packages/ipykernel_launcher.py:15: SettingWithCopyWarning: \n",
      "A value is trying to be set on a copy of a slice from a DataFrame\n",
      "\n",
      "See the caveats in the documentation: https://pandas.pydata.org/pandas-docs/stable/user_guide/indexing.html#returning-a-view-versus-a-copy\n",
      "  from ipykernel import kernelapp as app\n",
      "/Users/aaronbsechler/opt/anaconda3/envs/pyvizenv2/lib/python3.7/site-packages/pandas/core/indexing.py:670: SettingWithCopyWarning: \n",
      "A value is trying to be set on a copy of a slice from a DataFrame\n",
      "\n",
      "See the caveats in the documentation: https://pandas.pydata.org/pandas-docs/stable/user_guide/indexing.html#returning-a-view-versus-a-copy\n",
      "  iloc._setitem_with_indexer(indexer, value)\n",
      "/Users/aaronbsechler/opt/anaconda3/envs/pyvizenv2/lib/python3.7/site-packages/ipykernel_launcher.py:18: SettingWithCopyWarning: \n",
      "A value is trying to be set on a copy of a slice from a DataFrame\n",
      "\n",
      "See the caveats in the documentation: https://pandas.pydata.org/pandas-docs/stable/user_guide/indexing.html#returning-a-view-versus-a-copy\n",
      "/Users/aaronbsechler/opt/anaconda3/envs/pyvizenv2/lib/python3.7/site-packages/pandas/core/indexing.py:670: SettingWithCopyWarning: \n",
      "A value is trying to be set on a copy of a slice from a DataFrame\n",
      "\n",
      "See the caveats in the documentation: https://pandas.pydata.org/pandas-docs/stable/user_guide/indexing.html#returning-a-view-versus-a-copy\n",
      "  iloc._setitem_with_indexer(indexer, value)\n",
      "/Users/aaronbsechler/opt/anaconda3/envs/pyvizenv2/lib/python3.7/site-packages/ipykernel_launcher.py:19: SettingWithCopyWarning: \n",
      "A value is trying to be set on a copy of a slice from a DataFrame\n",
      "\n",
      "See the caveats in the documentation: https://pandas.pydata.org/pandas-docs/stable/user_guide/indexing.html#returning-a-view-versus-a-copy\n",
      "/Users/aaronbsechler/opt/anaconda3/envs/pyvizenv2/lib/python3.7/site-packages/pandas/core/indexing.py:670: SettingWithCopyWarning: \n",
      "A value is trying to be set on a copy of a slice from a DataFrame\n",
      "\n",
      "See the caveats in the documentation: https://pandas.pydata.org/pandas-docs/stable/user_guide/indexing.html#returning-a-view-versus-a-copy\n",
      "  iloc._setitem_with_indexer(indexer, value)\n",
      "/Users/aaronbsechler/opt/anaconda3/envs/pyvizenv2/lib/python3.7/site-packages/ipykernel_launcher.py:22: SettingWithCopyWarning: \n",
      "A value is trying to be set on a copy of a slice from a DataFrame\n",
      "\n",
      "See the caveats in the documentation: https://pandas.pydata.org/pandas-docs/stable/user_guide/indexing.html#returning-a-view-versus-a-copy\n",
      "/Users/aaronbsechler/opt/anaconda3/envs/pyvizenv2/lib/python3.7/site-packages/pandas/core/indexing.py:670: SettingWithCopyWarning: \n",
      "A value is trying to be set on a copy of a slice from a DataFrame\n",
      "\n",
      "See the caveats in the documentation: https://pandas.pydata.org/pandas-docs/stable/user_guide/indexing.html#returning-a-view-versus-a-copy\n",
      "  iloc._setitem_with_indexer(indexer, value)\n",
      "/Users/aaronbsechler/opt/anaconda3/envs/pyvizenv2/lib/python3.7/site-packages/ipykernel_launcher.py:23: SettingWithCopyWarning: \n",
      "A value is trying to be set on a copy of a slice from a DataFrame\n",
      "\n",
      "See the caveats in the documentation: https://pandas.pydata.org/pandas-docs/stable/user_guide/indexing.html#returning-a-view-versus-a-copy\n",
      "/Users/aaronbsechler/opt/anaconda3/envs/pyvizenv2/lib/python3.7/site-packages/pandas/core/indexing.py:670: SettingWithCopyWarning: \n",
      "A value is trying to be set on a copy of a slice from a DataFrame\n",
      "\n",
      "See the caveats in the documentation: https://pandas.pydata.org/pandas-docs/stable/user_guide/indexing.html#returning-a-view-versus-a-copy\n",
      "  iloc._setitem_with_indexer(indexer, value)\n"
     ]
    }
   ],
   "source": [
    "## TSI TRADING SIGNALS\n",
    "\n",
    "short_window = 25\n",
    "\n",
    "fb_df['tsi_trading_signal'] = 0\n",
    "fb_df['tsi_trading_signal'][short_window:] = np.where((fb_df['tsi'][short_window:] > 0) & (fb_df['tsi'][short_window:].shift(-1) < 0), 1, 0)\n",
    "fb_df['tsi_trading_signal'][short_window:] = np.where((fb_df['tsi'][short_window:] < 0) & (fb_df['tsi'][short_window:].shift(-1) > 0), -1, 0)\n",
    "\n",
    "aapl_df['tsi_trading_signal'] = 0\n",
    "aapl_df['tsi_trading_signal'][short_window:] = np.where((aapl_df['tsi'][short_window:] > 0) & (aapl_df['tsi'][short_window:].shift(-1) < 0), 1, 0)\n",
    "aapl_df['tsi_trading_signal'][short_window:] = np.where((aapl_df['tsi'][short_window:] < 0) & (aapl_df['tsi'][short_window:].shift(-1) > 0), -1, 0)\n",
    "\n",
    "amzn_df['tsi_trading_signal'] = 0\n",
    "amzn_df['tsi_trading_signal'][short_window:] = np.where((amzn_df['tsi'][short_window:] > 0) & (amzn_df['tsi'][short_window:].shift(-1) < 0), 1, 0)\n",
    "amzn_df['tsi_trading_signal'][short_window:] = np.where((amzn_df['tsi'][short_window:] < 0) & (amzn_df['tsi'][short_window:].shift(-1) > 0), -1, 0)\n",
    "\n",
    "nflx_df['tsi_trading_signal'] = 0\n",
    "nflx_df['tsi_trading_signal'][short_window:] = np.where((nflx_df['tsi'][short_window:] > 0) & (nflx_df['tsi'][short_window:].shift(-1) < 0), 1, 0)\n",
    "nflx_df['tsi_trading_signal'][short_window:] = np.where((nflx_df['tsi'][short_window:] < 0) & (nflx_df['tsi'][short_window:].shift(-1) > 0), -1, 0)\n",
    "\n",
    "goog_df['tsi_trading_signal'] = 0\n",
    "goog_df['tsi_trading_signal'][short_window:] = np.where((goog_df['tsi'][short_window:] > 0) & (goog_df['tsi'][short_window:].shift(-1) < 0), 1, 0)\n",
    "goog_df['tsi_trading_signal'][short_window:] = np.where((goog_df['tsi'][short_window:] < 0) & (goog_df['tsi'][short_window:].shift(-1) > 0), -1, 0)"
   ]
  },
  {
   "cell_type": "code",
   "execution_count": 176,
   "metadata": {},
   "outputs": [],
   "source": [
    "## WILLIAMS %R INDICATOR wlms (MOMENTUM INDICATOR)\n",
    "\n",
    "fb_wlms_ind = ta.momentum.WilliamsRIndicator(high=fb_df['high'], low=fb_df['low'], close=fb_df['close'], lbp=14, fillna=False)\n",
    "aapl_wlms_ind = ta.momentum.WilliamsRIndicator(high=aapl_df['high'], low=aapl_df['low'], close=aapl_df['close'], lbp=14, fillna=False)\n",
    "amzn_wlms_ind = ta.momentum.WilliamsRIndicator(high=amzn_df['high'], low=amzn_df['low'], close=amzn_df['close'], lbp=14, fillna=False)\n",
    "nflx_wlms_ind = ta.momentum.WilliamsRIndicator(high=nflx_df['high'], low=nflx_df['low'], close=nflx_df['close'], lbp=14, fillna=False)\n",
    "goog_wlms_ind = ta.momentum.WilliamsRIndicator(high=goog_df['high'], low=goog_df['low'], close=goog_df['close'], lbp=14, fillna=False)\n",
    "\n",
    "fb_df['wlms'] = fb_wlms_ind.wr()\n",
    "aapl_df['wlms'] = aapl_wlms_ind.wr()\n",
    "amzn_df['wlms'] = amzn_wlms_ind.wr()\n",
    "nflx_df['wlms'] = nflx_wlms_ind.wr()\n",
    "goog_df['wlms'] = goog_wlms_ind.wr()\n",
    "\n",
    "#fb_df"
   ]
  },
  {
   "cell_type": "code",
   "execution_count": 177,
   "metadata": {},
   "outputs": [],
   "source": [
    "## again this would be very difficult to code."
   ]
  },
  {
   "cell_type": "code",
   "execution_count": 178,
   "metadata": {},
   "outputs": [],
   "source": [
    "## COMMODITY CHANNEL INDEX cci (MOMENTUM INDICATOR)\n",
    "\n",
    "cci_n = 20\n",
    "fb_cci = ta.trend.CCIIndicator(high=fb_df['high'], low=fb_df['low'], close=fb_df['close'], n=cci_n, c=0.015, fillna=False)\n",
    "aapl_cci = ta.trend.CCIIndicator(high=aapl_df['high'], low=aapl_df['low'], close=aapl_df['close'], n=cci_n, c=0.015, fillna=False)\n",
    "amzn_cci = ta.trend.CCIIndicator(high=amzn_df['high'], low=amzn_df['low'], close=amzn_df['close'], n=cci_n, c=0.015, fillna=False)\n",
    "nflx_cci = ta.trend.CCIIndicator(high=nflx_df['high'], low=nflx_df['low'], close=nflx_df['close'], n=cci_n, c=0.015, fillna=False)\n",
    "goog_cci = ta.trend.CCIIndicator(high=goog_df['high'], low=goog_df['low'], close=goog_df['close'], n=cci_n, c=0.015, fillna=False)\n",
    "\n",
    "fb_df['cci'] = fb_cci.cci()\n",
    "aapl_df['cci'] = aapl_cci.cci()\n",
    "amzn_df['cci'] = amzn_cci.cci()\n",
    "nflx_df['cci'] = nflx_cci.cci()\n",
    "goog_df['cci'] = goog_cci.cci()"
   ]
  },
  {
   "cell_type": "code",
   "execution_count": 179,
   "metadata": {},
   "outputs": [
    {
     "name": "stderr",
     "output_type": "stream",
     "text": [
      "/Users/aaronbsechler/opt/anaconda3/envs/pyvizenv2/lib/python3.7/site-packages/ipykernel_launcher.py:4: SettingWithCopyWarning: \n",
      "A value is trying to be set on a copy of a slice from a DataFrame\n",
      "\n",
      "See the caveats in the documentation: https://pandas.pydata.org/pandas-docs/stable/user_guide/indexing.html#returning-a-view-versus-a-copy\n",
      "  after removing the cwd from sys.path.\n",
      "/Users/aaronbsechler/opt/anaconda3/envs/pyvizenv2/lib/python3.7/site-packages/pandas/core/indexing.py:670: SettingWithCopyWarning: \n",
      "A value is trying to be set on a copy of a slice from a DataFrame\n",
      "\n",
      "See the caveats in the documentation: https://pandas.pydata.org/pandas-docs/stable/user_guide/indexing.html#returning-a-view-versus-a-copy\n",
      "  iloc._setitem_with_indexer(indexer, value)\n",
      "/Users/aaronbsechler/opt/anaconda3/envs/pyvizenv2/lib/python3.7/site-packages/ipykernel_launcher.py:8: SettingWithCopyWarning: \n",
      "A value is trying to be set on a copy of a slice from a DataFrame\n",
      "\n",
      "See the caveats in the documentation: https://pandas.pydata.org/pandas-docs/stable/user_guide/indexing.html#returning-a-view-versus-a-copy\n",
      "  \n",
      "/Users/aaronbsechler/opt/anaconda3/envs/pyvizenv2/lib/python3.7/site-packages/pandas/core/indexing.py:670: SettingWithCopyWarning: \n",
      "A value is trying to be set on a copy of a slice from a DataFrame\n",
      "\n",
      "See the caveats in the documentation: https://pandas.pydata.org/pandas-docs/stable/user_guide/indexing.html#returning-a-view-versus-a-copy\n",
      "  iloc._setitem_with_indexer(indexer, value)\n",
      "/Users/aaronbsechler/opt/anaconda3/envs/pyvizenv2/lib/python3.7/site-packages/ipykernel_launcher.py:12: SettingWithCopyWarning: \n",
      "A value is trying to be set on a copy of a slice from a DataFrame\n",
      "\n",
      "See the caveats in the documentation: https://pandas.pydata.org/pandas-docs/stable/user_guide/indexing.html#returning-a-view-versus-a-copy\n",
      "  if sys.path[0] == '':\n",
      "/Users/aaronbsechler/opt/anaconda3/envs/pyvizenv2/lib/python3.7/site-packages/pandas/core/indexing.py:670: SettingWithCopyWarning: \n",
      "A value is trying to be set on a copy of a slice from a DataFrame\n",
      "\n",
      "See the caveats in the documentation: https://pandas.pydata.org/pandas-docs/stable/user_guide/indexing.html#returning-a-view-versus-a-copy\n",
      "  iloc._setitem_with_indexer(indexer, value)\n",
      "/Users/aaronbsechler/opt/anaconda3/envs/pyvizenv2/lib/python3.7/site-packages/ipykernel_launcher.py:16: SettingWithCopyWarning: \n",
      "A value is trying to be set on a copy of a slice from a DataFrame\n",
      "\n",
      "See the caveats in the documentation: https://pandas.pydata.org/pandas-docs/stable/user_guide/indexing.html#returning-a-view-versus-a-copy\n",
      "  app.launch_new_instance()\n",
      "/Users/aaronbsechler/opt/anaconda3/envs/pyvizenv2/lib/python3.7/site-packages/pandas/core/indexing.py:670: SettingWithCopyWarning: \n",
      "A value is trying to be set on a copy of a slice from a DataFrame\n",
      "\n",
      "See the caveats in the documentation: https://pandas.pydata.org/pandas-docs/stable/user_guide/indexing.html#returning-a-view-versus-a-copy\n",
      "  iloc._setitem_with_indexer(indexer, value)\n",
      "/Users/aaronbsechler/opt/anaconda3/envs/pyvizenv2/lib/python3.7/site-packages/ipykernel_launcher.py:20: SettingWithCopyWarning: \n",
      "A value is trying to be set on a copy of a slice from a DataFrame\n",
      "\n",
      "See the caveats in the documentation: https://pandas.pydata.org/pandas-docs/stable/user_guide/indexing.html#returning-a-view-versus-a-copy\n",
      "/Users/aaronbsechler/opt/anaconda3/envs/pyvizenv2/lib/python3.7/site-packages/pandas/core/indexing.py:670: SettingWithCopyWarning: \n",
      "A value is trying to be set on a copy of a slice from a DataFrame\n",
      "\n",
      "See the caveats in the documentation: https://pandas.pydata.org/pandas-docs/stable/user_guide/indexing.html#returning-a-view-versus-a-copy\n",
      "  iloc._setitem_with_indexer(indexer, value)\n"
     ]
    }
   ],
   "source": [
    "## CCI Trading Indicators\n",
    "\n",
    "fb_df['cci_signal'] = 0\n",
    "fb_df['cci_signal'][cci_n:] = np.where(fb_df['cci'][cci_n:] > 100, 1.0, 0.0) + np.where(fb_df['cci'][cci_n:] < -100, 1.0, 0.0)\n",
    "fb_df['cci_trading_signal'] = fb_df['cci_signal'].diff()\n",
    "\n",
    "aapl_df['cci_signal'] = 0\n",
    "aapl_df['cci_signal'][cci_n:] = np.where(aapl_df['cci'][cci_n:] > 100, 1.0, 0.0) + np.where(aapl_df['cci'][cci_n:] < -100, 1.0, 0.0)\n",
    "aapl_df['cci_trading_signal'] = aapl_df['cci_signal'].diff()\n",
    "\n",
    "amzn_df['cci_signal'] = 0\n",
    "amzn_df['cci_signal'][cci_n:] = np.where(amzn_df['cci'][cci_n:] > 100, 1.0, 0.0) + np.where(amzn_df['cci'][cci_n:] < -100, 1.0, 0.0)\n",
    "amzn_df['cci_trading_signal'] = amzn_df['cci_signal'].diff()\n",
    "\n",
    "nflx_df['cci_signal'] = 0\n",
    "nflx_df['cci_signal'][cci_n:] = np.where(nflx_df['cci'][cci_n:] > 100, 1.0, 0.0) + np.where(nflx_df['cci'][cci_n:] < -100, 1.0, 0.0)\n",
    "nflx_df['cci_trading_signal'] = nflx_df['cci_signal'].diff()\n",
    "\n",
    "goog_df['cci_signal'] = 0\n",
    "goog_df['cci_signal'][cci_n:] = np.where(goog_df['cci'][cci_n:] > 100, 1.0, 0.0) + np.where(goog_df['cci'][cci_n:] < -100, 1.0, 0.0)\n",
    "goog_df['cci_trading_signal'] = goog_df['cci_signal'].diff()"
   ]
  },
  {
   "cell_type": "code",
   "execution_count": 180,
   "metadata": {},
   "outputs": [],
   "source": [
    "## VOLUME INDICATORS\n",
    "\n",
    "# see https://technical-analysis-library-in-python.readthedocs.io/en/latest/ta.html#volume-indicators for definitions of \n",
    "# features added to the dataframe and links to explanitory content."
   ]
  },
  {
   "cell_type": "code",
   "execution_count": 181,
   "metadata": {},
   "outputs": [],
   "source": [
    "## ACCULMATION/DISTRIBUTION INDEX adi (VOLUME  INDICATOR)\n",
    "\n",
    "fb_adi = ta.volume.AccDistIndexIndicator(high=fb_df['high'], low=fb_df['low'], close=fb_df['close'], volume=fb_df['volume'], fillna=False)\n",
    "aapl_adi = ta.volume.AccDistIndexIndicator(high=aapl_df['high'], low=aapl_df['low'], close=aapl_df['close'], volume=aapl_df['volume'], fillna=False)\n",
    "amzn_adi = ta.volume.AccDistIndexIndicator(high=amzn_df['high'], low=amzn_df['low'], close=amzn_df['close'], volume=amzn_df['volume'], fillna=False)\n",
    "nflx_adi = ta.volume.AccDistIndexIndicator(high=nflx_df['high'], low=nflx_df['low'], close=nflx_df['close'], volume=nflx_df['volume'], fillna=False)\n",
    "goog_adi = ta.volume.AccDistIndexIndicator(high=goog_df['high'], low=goog_df['low'], close=goog_df['close'], volume=goog_df['volume'], fillna=False)\n",
    "\n",
    "fb_df['adi'] = fb_adi.acc_dist_index()\n",
    "aapl_df['adi'] = aapl_adi.acc_dist_index()\n",
    "amzn_df['adi'] = amzn_adi.acc_dist_index()\n",
    "nflx_df['adi'] = nflx_adi.acc_dist_index()\n",
    "goog_df['adi'] = goog_adi.acc_dist_index()\n",
    "\n",
    "#fb_df"
   ]
  },
  {
   "cell_type": "code",
   "execution_count": 182,
   "metadata": {},
   "outputs": [],
   "source": [
    "## this is another one that's hard to code."
   ]
  },
  {
   "cell_type": "code",
   "execution_count": 183,
   "metadata": {},
   "outputs": [],
   "source": [
    "## CHALKIN MONEY FLOW INDICATOR cmf (VOLUME INDICATOR)\n",
    "\n",
    "fb_cmf = ta.volume.ChaikinMoneyFlowIndicator(high=fb_df['high'], low=fb_df['low'], close=fb_df['close'], volume=fb_df['volume'], n=20, fillna=False)\n",
    "aapl_cmf = ta.volume.ChaikinMoneyFlowIndicator(high=aapl_df['high'], low=aapl_df['low'], close=aapl_df['close'], volume=aapl_df['volume'], n=20, fillna=False)\n",
    "amzn_cmf = ta.volume.ChaikinMoneyFlowIndicator(high=amzn_df['high'], low=amzn_df['low'], close=amzn_df['close'], volume=amzn_df['volume'], n=20, fillna=False)\n",
    "nflx_cmf = ta.volume.ChaikinMoneyFlowIndicator(high=nflx_df['high'], low=nflx_df['low'], close=nflx_df['close'], volume=nflx_df['volume'], n=20, fillna=False)\n",
    "goog_cmf = ta.volume.ChaikinMoneyFlowIndicator(high=goog_df['high'], low=goog_df['low'], close=goog_df['close'], volume=goog_df['volume'], n=20, fillna=False)\n",
    "\n",
    "fb_df['cmf'] = fb_cmf.chaikin_money_flow()\n",
    "aapl_df['cmf'] = aapl_cmf.chaikin_money_flow()\n",
    "amzn_df['cmf'] = amzn_cmf.chaikin_money_flow()\n",
    "nflx_df['cmf'] = nflx_cmf.chaikin_money_flow()\n",
    "goog_df['cmf'] = goog_cmf.chaikin_money_flow()\n",
    "\n",
    "#fb_df"
   ]
  },
  {
   "cell_type": "code",
   "execution_count": 184,
   "metadata": {},
   "outputs": [
    {
     "name": "stderr",
     "output_type": "stream",
     "text": [
      "/Users/aaronbsechler/opt/anaconda3/envs/pyvizenv2/lib/python3.7/site-packages/ipykernel_launcher.py:6: SettingWithCopyWarning: \n",
      "A value is trying to be set on a copy of a slice from a DataFrame\n",
      "\n",
      "See the caveats in the documentation: https://pandas.pydata.org/pandas-docs/stable/user_guide/indexing.html#returning-a-view-versus-a-copy\n",
      "  \n",
      "/Users/aaronbsechler/opt/anaconda3/envs/pyvizenv2/lib/python3.7/site-packages/pandas/core/indexing.py:670: SettingWithCopyWarning: \n",
      "A value is trying to be set on a copy of a slice from a DataFrame\n",
      "\n",
      "See the caveats in the documentation: https://pandas.pydata.org/pandas-docs/stable/user_guide/indexing.html#returning-a-view-versus-a-copy\n",
      "  iloc._setitem_with_indexer(indexer, value)\n",
      "/Users/aaronbsechler/opt/anaconda3/envs/pyvizenv2/lib/python3.7/site-packages/ipykernel_launcher.py:7: SettingWithCopyWarning: \n",
      "A value is trying to be set on a copy of a slice from a DataFrame\n",
      "\n",
      "See the caveats in the documentation: https://pandas.pydata.org/pandas-docs/stable/user_guide/indexing.html#returning-a-view-versus-a-copy\n",
      "  import sys\n",
      "/Users/aaronbsechler/opt/anaconda3/envs/pyvizenv2/lib/python3.7/site-packages/pandas/core/indexing.py:670: SettingWithCopyWarning: \n",
      "A value is trying to be set on a copy of a slice from a DataFrame\n",
      "\n",
      "See the caveats in the documentation: https://pandas.pydata.org/pandas-docs/stable/user_guide/indexing.html#returning-a-view-versus-a-copy\n",
      "  iloc._setitem_with_indexer(indexer, value)\n",
      "/Users/aaronbsechler/opt/anaconda3/envs/pyvizenv2/lib/python3.7/site-packages/ipykernel_launcher.py:10: SettingWithCopyWarning: \n",
      "A value is trying to be set on a copy of a slice from a DataFrame\n",
      "\n",
      "See the caveats in the documentation: https://pandas.pydata.org/pandas-docs/stable/user_guide/indexing.html#returning-a-view-versus-a-copy\n",
      "  # Remove the CWD from sys.path while we load stuff.\n",
      "/Users/aaronbsechler/opt/anaconda3/envs/pyvizenv2/lib/python3.7/site-packages/pandas/core/indexing.py:670: SettingWithCopyWarning: \n",
      "A value is trying to be set on a copy of a slice from a DataFrame\n",
      "\n",
      "See the caveats in the documentation: https://pandas.pydata.org/pandas-docs/stable/user_guide/indexing.html#returning-a-view-versus-a-copy\n",
      "  iloc._setitem_with_indexer(indexer, value)\n",
      "/Users/aaronbsechler/opt/anaconda3/envs/pyvizenv2/lib/python3.7/site-packages/ipykernel_launcher.py:11: SettingWithCopyWarning: \n",
      "A value is trying to be set on a copy of a slice from a DataFrame\n",
      "\n",
      "See the caveats in the documentation: https://pandas.pydata.org/pandas-docs/stable/user_guide/indexing.html#returning-a-view-versus-a-copy\n",
      "  # This is added back by InteractiveShellApp.init_path()\n",
      "/Users/aaronbsechler/opt/anaconda3/envs/pyvizenv2/lib/python3.7/site-packages/pandas/core/indexing.py:670: SettingWithCopyWarning: \n",
      "A value is trying to be set on a copy of a slice from a DataFrame\n",
      "\n",
      "See the caveats in the documentation: https://pandas.pydata.org/pandas-docs/stable/user_guide/indexing.html#returning-a-view-versus-a-copy\n",
      "  iloc._setitem_with_indexer(indexer, value)\n",
      "/Users/aaronbsechler/opt/anaconda3/envs/pyvizenv2/lib/python3.7/site-packages/ipykernel_launcher.py:14: SettingWithCopyWarning: \n",
      "A value is trying to be set on a copy of a slice from a DataFrame\n",
      "\n",
      "See the caveats in the documentation: https://pandas.pydata.org/pandas-docs/stable/user_guide/indexing.html#returning-a-view-versus-a-copy\n",
      "  \n",
      "/Users/aaronbsechler/opt/anaconda3/envs/pyvizenv2/lib/python3.7/site-packages/pandas/core/indexing.py:670: SettingWithCopyWarning: \n",
      "A value is trying to be set on a copy of a slice from a DataFrame\n",
      "\n",
      "See the caveats in the documentation: https://pandas.pydata.org/pandas-docs/stable/user_guide/indexing.html#returning-a-view-versus-a-copy\n",
      "  iloc._setitem_with_indexer(indexer, value)\n",
      "/Users/aaronbsechler/opt/anaconda3/envs/pyvizenv2/lib/python3.7/site-packages/ipykernel_launcher.py:15: SettingWithCopyWarning: \n",
      "A value is trying to be set on a copy of a slice from a DataFrame\n",
      "\n",
      "See the caveats in the documentation: https://pandas.pydata.org/pandas-docs/stable/user_guide/indexing.html#returning-a-view-versus-a-copy\n",
      "  from ipykernel import kernelapp as app\n",
      "/Users/aaronbsechler/opt/anaconda3/envs/pyvizenv2/lib/python3.7/site-packages/pandas/core/indexing.py:670: SettingWithCopyWarning: \n",
      "A value is trying to be set on a copy of a slice from a DataFrame\n",
      "\n",
      "See the caveats in the documentation: https://pandas.pydata.org/pandas-docs/stable/user_guide/indexing.html#returning-a-view-versus-a-copy\n",
      "  iloc._setitem_with_indexer(indexer, value)\n",
      "/Users/aaronbsechler/opt/anaconda3/envs/pyvizenv2/lib/python3.7/site-packages/ipykernel_launcher.py:18: SettingWithCopyWarning: \n",
      "A value is trying to be set on a copy of a slice from a DataFrame\n",
      "\n",
      "See the caveats in the documentation: https://pandas.pydata.org/pandas-docs/stable/user_guide/indexing.html#returning-a-view-versus-a-copy\n",
      "/Users/aaronbsechler/opt/anaconda3/envs/pyvizenv2/lib/python3.7/site-packages/pandas/core/indexing.py:670: SettingWithCopyWarning: \n",
      "A value is trying to be set on a copy of a slice from a DataFrame\n",
      "\n",
      "See the caveats in the documentation: https://pandas.pydata.org/pandas-docs/stable/user_guide/indexing.html#returning-a-view-versus-a-copy\n",
      "  iloc._setitem_with_indexer(indexer, value)\n",
      "/Users/aaronbsechler/opt/anaconda3/envs/pyvizenv2/lib/python3.7/site-packages/ipykernel_launcher.py:19: SettingWithCopyWarning: \n",
      "A value is trying to be set on a copy of a slice from a DataFrame\n",
      "\n",
      "See the caveats in the documentation: https://pandas.pydata.org/pandas-docs/stable/user_guide/indexing.html#returning-a-view-versus-a-copy\n",
      "/Users/aaronbsechler/opt/anaconda3/envs/pyvizenv2/lib/python3.7/site-packages/pandas/core/indexing.py:670: SettingWithCopyWarning: \n",
      "A value is trying to be set on a copy of a slice from a DataFrame\n",
      "\n",
      "See the caveats in the documentation: https://pandas.pydata.org/pandas-docs/stable/user_guide/indexing.html#returning-a-view-versus-a-copy\n",
      "  iloc._setitem_with_indexer(indexer, value)\n",
      "/Users/aaronbsechler/opt/anaconda3/envs/pyvizenv2/lib/python3.7/site-packages/ipykernel_launcher.py:22: SettingWithCopyWarning: \n",
      "A value is trying to be set on a copy of a slice from a DataFrame\n",
      "\n",
      "See the caveats in the documentation: https://pandas.pydata.org/pandas-docs/stable/user_guide/indexing.html#returning-a-view-versus-a-copy\n",
      "/Users/aaronbsechler/opt/anaconda3/envs/pyvizenv2/lib/python3.7/site-packages/pandas/core/indexing.py:670: SettingWithCopyWarning: \n",
      "A value is trying to be set on a copy of a slice from a DataFrame\n",
      "\n",
      "See the caveats in the documentation: https://pandas.pydata.org/pandas-docs/stable/user_guide/indexing.html#returning-a-view-versus-a-copy\n",
      "  iloc._setitem_with_indexer(indexer, value)\n",
      "/Users/aaronbsechler/opt/anaconda3/envs/pyvizenv2/lib/python3.7/site-packages/ipykernel_launcher.py:23: SettingWithCopyWarning: \n",
      "A value is trying to be set on a copy of a slice from a DataFrame\n",
      "\n",
      "See the caveats in the documentation: https://pandas.pydata.org/pandas-docs/stable/user_guide/indexing.html#returning-a-view-versus-a-copy\n",
      "/Users/aaronbsechler/opt/anaconda3/envs/pyvizenv2/lib/python3.7/site-packages/pandas/core/indexing.py:670: SettingWithCopyWarning: \n",
      "A value is trying to be set on a copy of a slice from a DataFrame\n",
      "\n",
      "See the caveats in the documentation: https://pandas.pydata.org/pandas-docs/stable/user_guide/indexing.html#returning-a-view-versus-a-copy\n",
      "  iloc._setitem_with_indexer(indexer, value)\n"
     ]
    }
   ],
   "source": [
    "## CHALKIN MONEY FLOW TRADING SIGNALS \n",
    "\n",
    "short_window = 20\n",
    "\n",
    "fb_df['cmf_trading_signal'] = 0\n",
    "fb_df['cmf_trading_signal'][short_window:] = np.where((fb_df['cmf'][short_window:] > 0) & (fb_df['cmf'][short_window:].shift(-1) < 0), 1, 0)\n",
    "fb_df['cmf_trading_signal'][short_window:] = np.where((fb_df['cmf'][short_window:] < 0) & (fb_df['cmf'][short_window:].shift(-1) > 0), -1, 0)\n",
    "\n",
    "aapl_df['cmf_trading_signal'] = 0\n",
    "aapl_df['cmf_trading_signal'][short_window:] = np.where((aapl_df['cmf'][short_window:] > 0) & (aapl_df['cmf'][short_window:].shift(-1) < 0), 1, 0)\n",
    "aapl_df['cmf_trading_signal'][short_window:] = np.where((aapl_df['cmf'][short_window:] < 0) & (aapl_df['cmf'][short_window:].shift(-1) > 0), -1, 0)\n",
    "\n",
    "amzn_df['cmf_trading_signal'] = 0\n",
    "amzn_df['cmf_trading_signal'][short_window:] = np.where((amzn_df['cmf'][short_window:] > 0) & (amzn_df['cmf'][short_window:].shift(-1) < 0), 1, 0)\n",
    "amzn_df['cmf_trading_signal'][short_window:] = np.where((amzn_df['cmf'][short_window:] < 0) & (amzn_df['cmf'][short_window:].shift(-1) > 0), -1, 0)\n",
    "\n",
    "nflx_df['cmf_trading_signal'] = 0\n",
    "nflx_df['cmf_trading_signal'][short_window:] = np.where((nflx_df['cmf'][short_window:] > 0) & (nflx_df['cmf'][short_window:].shift(-1) < 0), 1, 0)\n",
    "nflx_df['cmf_trading_signal'][short_window:] = np.where((nflx_df['cmf'][short_window:] < 0) & (nflx_df['cmf'][short_window:].shift(-1) > 0), -1, 0)\n",
    "\n",
    "goog_df['cmf_trading_signal'] = 0\n",
    "goog_df['cmf_trading_signal'][short_window:] = np.where((goog_df['cmf'][short_window:] > 0) & (goog_df['cmf'][short_window:].shift(-1) < 0), 1, 0)\n",
    "goog_df['cmf_trading_signal'][short_window:] = np.where((goog_df['cmf'][short_window:] < 0) & (goog_df['cmf'][short_window:].shift(-1) > 0), -1, 0)"
   ]
  },
  {
   "cell_type": "code",
   "execution_count": 185,
   "metadata": {},
   "outputs": [],
   "source": [
    "## EASE OF MOVEMENT EASE OF MOVEMENT SIGNAL eom eom_sig (VOLUME INDICATORS)\n",
    "\n",
    "fb_eom = ta.volume.EaseOfMovementIndicator(high=fb_df['high'], low=fb_df['low'], volume=fb_df['volume'], n=14, fillna=False)\n",
    "aapl_eom = ta.volume.EaseOfMovementIndicator(high=aapl_df['high'], low=aapl_df['low'], volume=aapl_df['volume'], n=14, fillna=False)\n",
    "amzn_eom = ta.volume.EaseOfMovementIndicator(high=amzn_df['high'], low=amzn_df['low'], volume=amzn_df['volume'], n=14, fillna=False)\n",
    "nflx_eom = ta.volume.EaseOfMovementIndicator(high=nflx_df['high'], low=nflx_df['low'], volume=nflx_df['volume'], n=14, fillna=False)\n",
    "goog_eom = ta.volume.EaseOfMovementIndicator(high=goog_df['high'], low=goog_df['low'], volume=goog_df['volume'], n=14, fillna=False)\n",
    "\n",
    "fb_df['eom'] = fb_eom.ease_of_movement()\n",
    "aapl_df['eom'] = aapl_eom.ease_of_movement()\n",
    "amzn_df['eom'] = amzn_eom.ease_of_movement()\n",
    "nflx_df['eom'] = nflx_eom.ease_of_movement()\n",
    "goog_df['eom'] = goog_eom.ease_of_movement()\n",
    "\n",
    "fb_df['eom_sig'] = fb_eom.sma_ease_of_movement()\n",
    "aapl_df['eom_sig'] = aapl_eom.sma_ease_of_movement()\n",
    "amzn_df['eom_sig'] = amzn_eom.sma_ease_of_movement()\n",
    "nflx_df['eom_sig'] = nflx_eom.sma_ease_of_movement()\n",
    "goog_df['eom_sig'] = goog_eom.sma_ease_of_movement()\n",
    "\n",
    "#fb_df"
   ]
  },
  {
   "cell_type": "code",
   "execution_count": 186,
   "metadata": {},
   "outputs": [
    {
     "name": "stderr",
     "output_type": "stream",
     "text": [
      "/Users/aaronbsechler/opt/anaconda3/envs/pyvizenv2/lib/python3.7/site-packages/ipykernel_launcher.py:6: SettingWithCopyWarning: \n",
      "A value is trying to be set on a copy of a slice from a DataFrame\n",
      "\n",
      "See the caveats in the documentation: https://pandas.pydata.org/pandas-docs/stable/user_guide/indexing.html#returning-a-view-versus-a-copy\n",
      "  \n",
      "/Users/aaronbsechler/opt/anaconda3/envs/pyvizenv2/lib/python3.7/site-packages/pandas/core/indexing.py:670: SettingWithCopyWarning: \n",
      "A value is trying to be set on a copy of a slice from a DataFrame\n",
      "\n",
      "See the caveats in the documentation: https://pandas.pydata.org/pandas-docs/stable/user_guide/indexing.html#returning-a-view-versus-a-copy\n",
      "  iloc._setitem_with_indexer(indexer, value)\n",
      "/Users/aaronbsechler/opt/anaconda3/envs/pyvizenv2/lib/python3.7/site-packages/ipykernel_launcher.py:10: SettingWithCopyWarning: \n",
      "A value is trying to be set on a copy of a slice from a DataFrame\n",
      "\n",
      "See the caveats in the documentation: https://pandas.pydata.org/pandas-docs/stable/user_guide/indexing.html#returning-a-view-versus-a-copy\n",
      "  # Remove the CWD from sys.path while we load stuff.\n",
      "/Users/aaronbsechler/opt/anaconda3/envs/pyvizenv2/lib/python3.7/site-packages/pandas/core/indexing.py:670: SettingWithCopyWarning: \n",
      "A value is trying to be set on a copy of a slice from a DataFrame\n",
      "\n",
      "See the caveats in the documentation: https://pandas.pydata.org/pandas-docs/stable/user_guide/indexing.html#returning-a-view-versus-a-copy\n",
      "  iloc._setitem_with_indexer(indexer, value)\n",
      "/Users/aaronbsechler/opt/anaconda3/envs/pyvizenv2/lib/python3.7/site-packages/ipykernel_launcher.py:14: SettingWithCopyWarning: \n",
      "A value is trying to be set on a copy of a slice from a DataFrame\n",
      "\n",
      "See the caveats in the documentation: https://pandas.pydata.org/pandas-docs/stable/user_guide/indexing.html#returning-a-view-versus-a-copy\n",
      "  \n",
      "/Users/aaronbsechler/opt/anaconda3/envs/pyvizenv2/lib/python3.7/site-packages/pandas/core/indexing.py:670: SettingWithCopyWarning: \n",
      "A value is trying to be set on a copy of a slice from a DataFrame\n",
      "\n",
      "See the caveats in the documentation: https://pandas.pydata.org/pandas-docs/stable/user_guide/indexing.html#returning-a-view-versus-a-copy\n",
      "  iloc._setitem_with_indexer(indexer, value)\n",
      "/Users/aaronbsechler/opt/anaconda3/envs/pyvizenv2/lib/python3.7/site-packages/ipykernel_launcher.py:18: SettingWithCopyWarning: \n",
      "A value is trying to be set on a copy of a slice from a DataFrame\n",
      "\n",
      "See the caveats in the documentation: https://pandas.pydata.org/pandas-docs/stable/user_guide/indexing.html#returning-a-view-versus-a-copy\n",
      "/Users/aaronbsechler/opt/anaconda3/envs/pyvizenv2/lib/python3.7/site-packages/pandas/core/indexing.py:670: SettingWithCopyWarning: \n",
      "A value is trying to be set on a copy of a slice from a DataFrame\n",
      "\n",
      "See the caveats in the documentation: https://pandas.pydata.org/pandas-docs/stable/user_guide/indexing.html#returning-a-view-versus-a-copy\n",
      "  iloc._setitem_with_indexer(indexer, value)\n",
      "/Users/aaronbsechler/opt/anaconda3/envs/pyvizenv2/lib/python3.7/site-packages/ipykernel_launcher.py:22: SettingWithCopyWarning: \n",
      "A value is trying to be set on a copy of a slice from a DataFrame\n",
      "\n",
      "See the caveats in the documentation: https://pandas.pydata.org/pandas-docs/stable/user_guide/indexing.html#returning-a-view-versus-a-copy\n",
      "/Users/aaronbsechler/opt/anaconda3/envs/pyvizenv2/lib/python3.7/site-packages/pandas/core/indexing.py:670: SettingWithCopyWarning: \n",
      "A value is trying to be set on a copy of a slice from a DataFrame\n",
      "\n",
      "See the caveats in the documentation: https://pandas.pydata.org/pandas-docs/stable/user_guide/indexing.html#returning-a-view-versus-a-copy\n",
      "  iloc._setitem_with_indexer(indexer, value)\n"
     ]
    }
   ],
   "source": [
    "## EOM TRADING SIGNALS\n",
    "\n",
    "short_window = 14\n",
    "\n",
    "fb_df['eom_trading_signal_0'] = 0\n",
    "fb_df['eom_trading_signal_0'][short_window:] = np.where(fb_df['eom'][short_window:] > fb_df['eom_sig'][short_window:], 1, 0)\n",
    "fb_df['eom_trading_signal'] = fb_df['eom_trading_signal_0'].diff()\n",
    "\n",
    "aapl_df['eom_trading_signal_0'] = 0\n",
    "aapl_df['eom_trading_signal_0'][short_window:] = np.where(aapl_df['eom'][short_window:] > aapl_df['eom_sig'][short_window:], 1, 0)\n",
    "aapl_df['eom_trading_signal'] = aapl_df['eom_trading_signal_0'].diff()\n",
    "\n",
    "amzn_df['eom_trading_signal_0'] = 0\n",
    "amzn_df['eom_trading_signal_0'][short_window:] = np.where(amzn_df['eom'][short_window:] > amzn_df['eom_sig'][short_window:], 1, 0)\n",
    "amzn_df['eom_trading_signal'] = amzn_df['eom_trading_signal_0'].diff()\n",
    "\n",
    "nflx_df['eom_trading_signal_0'] = 0\n",
    "nflx_df['eom_trading_signal_0'][short_window:] = np.where(nflx_df['eom'][short_window:] > nflx_df['eom_sig'][short_window:], 1, 0)\n",
    "nflx_df['eom_trading_signal'] = nflx_df['eom_trading_signal_0'].diff()\n",
    "\n",
    "goog_df['eom_trading_signal_0'] = 0\n",
    "goog_df['eom_trading_signal_0'][short_window:] = np.where(goog_df['eom'][short_window:] > goog_df['eom_sig'][short_window:], 1, 0)\n",
    "goog_df['eom_trading_signal'] = goog_df['eom_trading_signal_0'].diff()"
   ]
  },
  {
   "cell_type": "code",
   "execution_count": 187,
   "metadata": {},
   "outputs": [],
   "source": [
    "## FORCE INDEX fi (VOLUME INDICATOR)\n",
    "\n",
    "fb_fi = ta.volume.ForceIndexIndicator(close=fb_df['close'], volume=fb_df['volume'], n=13, fillna=False)\n",
    "aapl_fi = ta.volume.ForceIndexIndicator(close=aapl_df['close'], volume=aapl_df['volume'], n=13, fillna=False)\n",
    "amzn_fi = ta.volume.ForceIndexIndicator(close=amzn_df['close'], volume=amzn_df['volume'], n=13, fillna=False)\n",
    "nflx_fi = ta.volume.ForceIndexIndicator(close=nflx_df['close'], volume=nflx_df['volume'], n=13, fillna=False)\n",
    "goog_fi = ta.volume.ForceIndexIndicator(close=goog_df['close'], volume=goog_df['volume'], n=13, fillna=False)\n",
    "\n",
    "fb_df['fi'] = fb_fi.force_index()\n",
    "aapl_df['fi'] = aapl_fi.force_index()\n",
    "amzn_df['fi'] = amzn_fi.force_index()\n",
    "nflx_df['fi'] = nflx_fi.force_index()\n",
    "goog_df['fi'] = goog_fi.force_index()\n",
    "\n",
    "#fb_df"
   ]
  },
  {
   "cell_type": "code",
   "execution_count": 188,
   "metadata": {},
   "outputs": [],
   "source": [
    "## FORCE INDEX TRADING SIGNAL\n",
    "\n",
    "# yet again, too difficult to code at this point."
   ]
  },
  {
   "cell_type": "code",
   "execution_count": 189,
   "metadata": {},
   "outputs": [],
   "source": [
    "## MONEY FLOW INDEX mfi (VOLUME INDICATOR)\n",
    "\n",
    "fb_mfi = ta.volume.MFIIndicator(high=fb_df['high'], low=fb_df['low'], close=fb_df['close'], volume=fb_df['volume'], n=14, fillna=False)\n",
    "aapl_mfi = ta.volume.MFIIndicator(high=aapl_df['high'], low=aapl_df['low'], close=aapl_df['close'], volume=aapl_df['volume'], n=14, fillna=False)\n",
    "amzn_mfi = ta.volume.MFIIndicator(high=amzn_df['high'], low=amzn_df['low'], close=amzn_df['close'], volume=amzn_df['volume'], n=14, fillna=False)\n",
    "nflx_mfi = ta.volume.MFIIndicator(high=nflx_df['high'], low=nflx_df['low'], close=nflx_df['close'], volume=nflx_df['volume'], n=14, fillna=False)\n",
    "goog_mfi = ta.volume.MFIIndicator(high=goog_df['high'], low=goog_df['low'], close=goog_df['close'], volume=goog_df['volume'], n=14, fillna=False)\n",
    "\n",
    "fb_df['mfi'] = fb_mfi.money_flow_index()\n",
    "aapl_df['mfi'] = aapl_mfi.money_flow_index()\n",
    "amzn_df['mfi'] = amzn_mfi.money_flow_index()\n",
    "nflx_df['mfi'] = nflx_mfi.money_flow_index()\n",
    "goog_df['mfi'] = goog_mfi.money_flow_index()\n",
    "\n",
    "#fb_df"
   ]
  },
  {
   "cell_type": "code",
   "execution_count": 190,
   "metadata": {},
   "outputs": [
    {
     "name": "stderr",
     "output_type": "stream",
     "text": [
      "/Users/aaronbsechler/opt/anaconda3/envs/pyvizenv2/lib/python3.7/site-packages/ipykernel_launcher.py:6: SettingWithCopyWarning: \n",
      "A value is trying to be set on a copy of a slice from a DataFrame\n",
      "\n",
      "See the caveats in the documentation: https://pandas.pydata.org/pandas-docs/stable/user_guide/indexing.html#returning-a-view-versus-a-copy\n",
      "  \n",
      "/Users/aaronbsechler/opt/anaconda3/envs/pyvizenv2/lib/python3.7/site-packages/pandas/core/indexing.py:670: SettingWithCopyWarning: \n",
      "A value is trying to be set on a copy of a slice from a DataFrame\n",
      "\n",
      "See the caveats in the documentation: https://pandas.pydata.org/pandas-docs/stable/user_guide/indexing.html#returning-a-view-versus-a-copy\n",
      "  iloc._setitem_with_indexer(indexer, value)\n",
      "/Users/aaronbsechler/opt/anaconda3/envs/pyvizenv2/lib/python3.7/site-packages/ipykernel_launcher.py:10: SettingWithCopyWarning: \n",
      "A value is trying to be set on a copy of a slice from a DataFrame\n",
      "\n",
      "See the caveats in the documentation: https://pandas.pydata.org/pandas-docs/stable/user_guide/indexing.html#returning-a-view-versus-a-copy\n",
      "  # Remove the CWD from sys.path while we load stuff.\n",
      "/Users/aaronbsechler/opt/anaconda3/envs/pyvizenv2/lib/python3.7/site-packages/pandas/core/indexing.py:670: SettingWithCopyWarning: \n",
      "A value is trying to be set on a copy of a slice from a DataFrame\n",
      "\n",
      "See the caveats in the documentation: https://pandas.pydata.org/pandas-docs/stable/user_guide/indexing.html#returning-a-view-versus-a-copy\n",
      "  iloc._setitem_with_indexer(indexer, value)\n",
      "/Users/aaronbsechler/opt/anaconda3/envs/pyvizenv2/lib/python3.7/site-packages/ipykernel_launcher.py:14: SettingWithCopyWarning: \n",
      "A value is trying to be set on a copy of a slice from a DataFrame\n",
      "\n",
      "See the caveats in the documentation: https://pandas.pydata.org/pandas-docs/stable/user_guide/indexing.html#returning-a-view-versus-a-copy\n",
      "  \n",
      "/Users/aaronbsechler/opt/anaconda3/envs/pyvizenv2/lib/python3.7/site-packages/pandas/core/indexing.py:670: SettingWithCopyWarning: \n",
      "A value is trying to be set on a copy of a slice from a DataFrame\n",
      "\n",
      "See the caveats in the documentation: https://pandas.pydata.org/pandas-docs/stable/user_guide/indexing.html#returning-a-view-versus-a-copy\n",
      "  iloc._setitem_with_indexer(indexer, value)\n",
      "/Users/aaronbsechler/opt/anaconda3/envs/pyvizenv2/lib/python3.7/site-packages/ipykernel_launcher.py:18: SettingWithCopyWarning: \n",
      "A value is trying to be set on a copy of a slice from a DataFrame\n",
      "\n",
      "See the caveats in the documentation: https://pandas.pydata.org/pandas-docs/stable/user_guide/indexing.html#returning-a-view-versus-a-copy\n",
      "/Users/aaronbsechler/opt/anaconda3/envs/pyvizenv2/lib/python3.7/site-packages/pandas/core/indexing.py:670: SettingWithCopyWarning: \n",
      "A value is trying to be set on a copy of a slice from a DataFrame\n",
      "\n",
      "See the caveats in the documentation: https://pandas.pydata.org/pandas-docs/stable/user_guide/indexing.html#returning-a-view-versus-a-copy\n",
      "  iloc._setitem_with_indexer(indexer, value)\n",
      "/Users/aaronbsechler/opt/anaconda3/envs/pyvizenv2/lib/python3.7/site-packages/ipykernel_launcher.py:22: SettingWithCopyWarning: \n",
      "A value is trying to be set on a copy of a slice from a DataFrame\n",
      "\n",
      "See the caveats in the documentation: https://pandas.pydata.org/pandas-docs/stable/user_guide/indexing.html#returning-a-view-versus-a-copy\n",
      "/Users/aaronbsechler/opt/anaconda3/envs/pyvizenv2/lib/python3.7/site-packages/pandas/core/indexing.py:670: SettingWithCopyWarning: \n",
      "A value is trying to be set on a copy of a slice from a DataFrame\n",
      "\n",
      "See the caveats in the documentation: https://pandas.pydata.org/pandas-docs/stable/user_guide/indexing.html#returning-a-view-versus-a-copy\n",
      "  iloc._setitem_with_indexer(indexer, value)\n"
     ]
    }
   ],
   "source": [
    "## MFI TRADING SIGNALS\n",
    "\n",
    "mfi_n=14\n",
    "\n",
    "fb_df['mfi_signal'] = 0\n",
    "fb_df['mfi_signal'][mfi_n:] = np.where(fb_df['mfi'][mfi_n:] > 100, 1.0, 0.0) + np.where(fb_df['mfi'][mfi_n:] < -100, 1.0, 0.0)\n",
    "fb_df['mfi_trading signal'] = fb_df['mfi_signal'].diff()\n",
    "\n",
    "aapl_df['mfi_signal'] = 0\n",
    "aapl_df['mfi_signal'][mfi_n:] = np.where(aapl_df['mfi'][mfi_n:] > 100, 1.0, 0.0) + np.where(aapl_df['mfi'][mfi_n:] < 100, 1.0, 0.0)\n",
    "aapl_df['mfi_trading signal'] = aapl_df['mfi_signal'].diff()\n",
    "\n",
    "amzn_df['mfi_signal'] = 0\n",
    "amzn_df['mfi_signal'][mfi_n:] = np.where(amzn_df['mfi'][mfi_n:] > 100, 1.0, 0.0) + np.where(amzn_df['mfi'][mfi_n:] < 100, 1.0, 0.0)\n",
    "amzn_df['mfi_trading signal'] = amzn_df['mfi_signal'].diff()\n",
    "\n",
    "nflx_df['mfi_signal'] = 0\n",
    "nflx_df['mfi_signal'][mfi_n:] = np.where(nflx_df['mfi'][mfi_n:] > 100, 1.0, 0.0) + np.where(nflx_df['mfi'][mfi_n:] < 100, 1.0, 0.0)\n",
    "nflx_df['mfi_trading signal'] = nflx_df['mfi_signal'].diff()\n",
    "\n",
    "goog_df['mfi_signal'] = 0\n",
    "goog_df['mfi_signal'][mfi_n:] = np.where(goog_df['mfi'][mfi_n:] > 100, 1.0, 0.0) + np.where(goog_df['mfi'][mfi_n:] < 100, 1.0, 0.0)\n",
    "goog_df['mfi_trading signal'] = goog_df['mfi_signal'].diff()"
   ]
  },
  {
   "cell_type": "code",
   "execution_count": 191,
   "metadata": {},
   "outputs": [],
   "source": [
    "## NEGATIVE VOLUME INDEX nvi (VOLUME INDICATOR)\n",
    "\n",
    "fb_nvi = ta.volume.NegativeVolumeIndexIndicator(close=fb_df['close'], volume=fb_df['volume'], fillna=False)\n",
    "aapl_nvi = ta.volume.NegativeVolumeIndexIndicator(close=aapl_df['close'], volume=aapl_df['volume'], fillna=False)\n",
    "amzn_nvi = ta.volume.NegativeVolumeIndexIndicator(close=amzn_df['close'], volume=amzn_df['volume'], fillna=False)\n",
    "nflx_nvi = ta.volume.NegativeVolumeIndexIndicator(close=nflx_df['close'], volume=nflx_df['volume'], fillna=False)\n",
    "goog_nvi = ta.volume.NegativeVolumeIndexIndicator(close=goog_df['close'], volume=goog_df['volume'], fillna=False)\n",
    "\n",
    "fb_df['nvi'] = fb_nvi.negative_volume_index()\n",
    "aapl_df['nvi'] = aapl_nvi.negative_volume_index()\n",
    "amzn_df['nvi'] = amzn_nvi.negative_volume_index()\n",
    "nflx_df['nvi'] = nflx_nvi.negative_volume_index()\n",
    "goog_df['nvi'] = goog_nvi.negative_volume_index()\n",
    "\n",
    "fb_df['nvi_255_ema'] = fb_df['nvi'].ewm(span=255).mean()\n",
    "aapl_df['nvi_255_ema'] = aapl_df['nvi'].ewm(span=255).mean()\n",
    "amzn_df['nvi_255_ema'] = amzn_df['nvi'].ewm(span=255).mean()\n",
    "nflx_df['nvi_255_ema'] = nflx_df['nvi'].ewm(span=255).mean()\n",
    "goog_df['nvi_255_ema'] = goog_df['nvi'].ewm(span=255).mean()\n"
   ]
  },
  {
   "cell_type": "code",
   "execution_count": 192,
   "metadata": {},
   "outputs": [
    {
     "name": "stderr",
     "output_type": "stream",
     "text": [
      "/Users/aaronbsechler/opt/anaconda3/envs/pyvizenv2/lib/python3.7/site-packages/ipykernel_launcher.py:6: SettingWithCopyWarning: \n",
      "A value is trying to be set on a copy of a slice from a DataFrame\n",
      "\n",
      "See the caveats in the documentation: https://pandas.pydata.org/pandas-docs/stable/user_guide/indexing.html#returning-a-view-versus-a-copy\n",
      "  \n",
      "/Users/aaronbsechler/opt/anaconda3/envs/pyvizenv2/lib/python3.7/site-packages/pandas/core/indexing.py:670: SettingWithCopyWarning: \n",
      "A value is trying to be set on a copy of a slice from a DataFrame\n",
      "\n",
      "See the caveats in the documentation: https://pandas.pydata.org/pandas-docs/stable/user_guide/indexing.html#returning-a-view-versus-a-copy\n",
      "  iloc._setitem_with_indexer(indexer, value)\n",
      "/Users/aaronbsechler/opt/anaconda3/envs/pyvizenv2/lib/python3.7/site-packages/ipykernel_launcher.py:10: SettingWithCopyWarning: \n",
      "A value is trying to be set on a copy of a slice from a DataFrame\n",
      "\n",
      "See the caveats in the documentation: https://pandas.pydata.org/pandas-docs/stable/user_guide/indexing.html#returning-a-view-versus-a-copy\n",
      "  # Remove the CWD from sys.path while we load stuff.\n",
      "/Users/aaronbsechler/opt/anaconda3/envs/pyvizenv2/lib/python3.7/site-packages/pandas/core/indexing.py:670: SettingWithCopyWarning: \n",
      "A value is trying to be set on a copy of a slice from a DataFrame\n",
      "\n",
      "See the caveats in the documentation: https://pandas.pydata.org/pandas-docs/stable/user_guide/indexing.html#returning-a-view-versus-a-copy\n",
      "  iloc._setitem_with_indexer(indexer, value)\n",
      "/Users/aaronbsechler/opt/anaconda3/envs/pyvizenv2/lib/python3.7/site-packages/ipykernel_launcher.py:14: SettingWithCopyWarning: \n",
      "A value is trying to be set on a copy of a slice from a DataFrame\n",
      "\n",
      "See the caveats in the documentation: https://pandas.pydata.org/pandas-docs/stable/user_guide/indexing.html#returning-a-view-versus-a-copy\n",
      "  \n",
      "/Users/aaronbsechler/opt/anaconda3/envs/pyvizenv2/lib/python3.7/site-packages/pandas/core/indexing.py:670: SettingWithCopyWarning: \n",
      "A value is trying to be set on a copy of a slice from a DataFrame\n",
      "\n",
      "See the caveats in the documentation: https://pandas.pydata.org/pandas-docs/stable/user_guide/indexing.html#returning-a-view-versus-a-copy\n",
      "  iloc._setitem_with_indexer(indexer, value)\n",
      "/Users/aaronbsechler/opt/anaconda3/envs/pyvizenv2/lib/python3.7/site-packages/ipykernel_launcher.py:18: SettingWithCopyWarning: \n",
      "A value is trying to be set on a copy of a slice from a DataFrame\n",
      "\n",
      "See the caveats in the documentation: https://pandas.pydata.org/pandas-docs/stable/user_guide/indexing.html#returning-a-view-versus-a-copy\n",
      "/Users/aaronbsechler/opt/anaconda3/envs/pyvizenv2/lib/python3.7/site-packages/pandas/core/indexing.py:670: SettingWithCopyWarning: \n",
      "A value is trying to be set on a copy of a slice from a DataFrame\n",
      "\n",
      "See the caveats in the documentation: https://pandas.pydata.org/pandas-docs/stable/user_guide/indexing.html#returning-a-view-versus-a-copy\n",
      "  iloc._setitem_with_indexer(indexer, value)\n",
      "/Users/aaronbsechler/opt/anaconda3/envs/pyvizenv2/lib/python3.7/site-packages/ipykernel_launcher.py:22: SettingWithCopyWarning: \n",
      "A value is trying to be set on a copy of a slice from a DataFrame\n",
      "\n",
      "See the caveats in the documentation: https://pandas.pydata.org/pandas-docs/stable/user_guide/indexing.html#returning-a-view-versus-a-copy\n",
      "/Users/aaronbsechler/opt/anaconda3/envs/pyvizenv2/lib/python3.7/site-packages/pandas/core/indexing.py:670: SettingWithCopyWarning: \n",
      "A value is trying to be set on a copy of a slice from a DataFrame\n",
      "\n",
      "See the caveats in the documentation: https://pandas.pydata.org/pandas-docs/stable/user_guide/indexing.html#returning-a-view-versus-a-copy\n",
      "  iloc._setitem_with_indexer(indexer, value)\n"
     ]
    }
   ],
   "source": [
    "## NVI TRADING SIGNALS\n",
    "\n",
    "short_window=10\n",
    "\n",
    "fb_df['nvi_trading_signal_0'] = 0\n",
    "fb_df['nvi_trading_signal_0'][short_window:] = np.where(fb_df['nvi'][short_window:] > fb_df['nvi_255_ema'][short_window:], 1, 0)\n",
    "fb_df['nvi_trading_signal'] = fb_df['nvi_trading_signal_0'].diff()\n",
    "\n",
    "aapl_df['nvi_trading_signal_0'] = 0\n",
    "aapl_df['nvi_trading_signal_0'][short_window:] = np.where(aapl_df['nvi'][short_window:] > aapl_df['nvi_255_ema'][short_window:], 1, 0)\n",
    "aapl_df['nvi_trading_signal'] = aapl_df['nvi_trading_signal_0'].diff()\n",
    "\n",
    "amzn_df['nvi_trading_signal_0'] = 0\n",
    "amzn_df['nvi_trading_signal_0'][short_window:] = np.where(amzn_df['nvi'][short_window:] > amzn_df['nvi_255_ema'][short_window:], 1, 0)\n",
    "amzn_df['nvi_trading_signal'] = amzn_df['nvi_trading_signal_0'].diff()\n",
    "\n",
    "nflx_df['nvi_trading_signal_0'] = 0\n",
    "nflx_df['nvi_trading_signal_0'][short_window:] = np.where(nflx_df['nvi'][short_window:] > nflx_df['nvi_255_ema'][short_window:], 1, 0)\n",
    "nflx_df['nvi_trading_signal'] = nflx_df['nvi_trading_signal_0'].diff()\n",
    "\n",
    "goog_df['nvi_trading_signal_0'] = 0\n",
    "goog_df['nvi_trading_signal_0'][short_window:] = np.where(goog_df['nvi'][short_window:] > goog_df['nvi_255_ema'][short_window:], 1, 0)\n",
    "goog_df['nvi_trading_signal'] = goog_df['nvi_trading_signal_0'].diff()"
   ]
  },
  {
   "cell_type": "code",
   "execution_count": 193,
   "metadata": {},
   "outputs": [],
   "source": [
    "## ON BALANCE VOLUME obv (VOLUME INDICATOR)\n",
    "\n",
    "fb_obv = ta.volume.OnBalanceVolumeIndicator(close=fb_df['close'], volume=fb_df['volume'], fillna=False)\n",
    "aapl_obv = ta.volume.OnBalanceVolumeIndicator(close=aapl_df['close'], volume=aapl_df['volume'], fillna=False)\n",
    "amzn_obv = ta.volume.OnBalanceVolumeIndicator(close=amzn_df['close'], volume=amzn_df['volume'], fillna=False)\n",
    "nflx_obv = ta.volume.OnBalanceVolumeIndicator(close=nflx_df['close'], volume=nflx_df['volume'], fillna=False)\n",
    "goog_obv = ta.volume.OnBalanceVolumeIndicator(close=goog_df['close'], volume=goog_df['volume'], fillna=False)\n",
    "\n",
    "fb_df['obv'] = fb_obv.on_balance_volume()\n",
    "aapl_df['obv'] = aapl_obv.on_balance_volume()\n",
    "amzn_df['obv'] = amzn_obv.on_balance_volume()\n",
    "nflx_df['obv'] = nflx_obv.on_balance_volume()\n",
    "goog_df['obv'] = goog_obv.on_balance_volume()\n",
    "\n",
    "#fb_df"
   ]
  },
  {
   "cell_type": "code",
   "execution_count": 194,
   "metadata": {},
   "outputs": [],
   "source": [
    "## I don't think there's a simple way to program this one."
   ]
  },
  {
   "cell_type": "code",
   "execution_count": 195,
   "metadata": {},
   "outputs": [],
   "source": [
    "## VOLUME PRICE TREND vpt (VOLUME INDICATOR)\n",
    "\n",
    "fb_vpt = ta.volume.VolumePriceTrendIndicator(close=fb_df['close'], volume=fb_df['volume'], fillna=False)\n",
    "aapl_vpt = ta.volume.VolumePriceTrendIndicator(close=aapl_df['close'], volume=aapl_df['volume'], fillna=False)\n",
    "amzn_vpt = ta.volume.VolumePriceTrendIndicator(close=amzn_df['close'], volume=amzn_df['volume'], fillna=False)\n",
    "nflx_vpt = ta.volume.VolumePriceTrendIndicator(close=nflx_df['close'], volume=nflx_df['volume'], fillna=False)\n",
    "goog_vpt = ta.volume.VolumePriceTrendIndicator(close=goog_df['close'], volume=goog_df['volume'], fillna=False)\n",
    "\n",
    "fb_df['vpt'] = fb_vpt.volume_price_trend()\n",
    "aapl_df['vpt'] = aapl_vpt.volume_price_trend()\n",
    "amzn_df['vpt'] = amzn_vpt.volume_price_trend()\n",
    "nflx_df['vpt'] = nflx_vpt.volume_price_trend()\n",
    "goog_df['vpt'] = goog_vpt.volume_price_trend()\n",
    "\n",
    "#fb_df"
   ]
  },
  {
   "cell_type": "code",
   "execution_count": 196,
   "metadata": {},
   "outputs": [],
   "source": [
    "## same deal"
   ]
  },
  {
   "cell_type": "code",
   "execution_count": 197,
   "metadata": {},
   "outputs": [],
   "source": [
    "## VOLUME WEIGHTED AVERAGE PRICE vwap (VOLUME INDICATOR)\n",
    "\n",
    "fb_vwap = ta.volume.VolumeWeightedAveragePrice(high=fb_df['high'], low=fb_df['low'], close=fb_df['close'], volume=fb_df['volume'], n=14, fillna=False)\n",
    "aapl_vwap = ta.volume.VolumeWeightedAveragePrice(high=aapl_df['high'], low=aapl_df['low'], close=aapl_df['close'], volume=aapl_df['volume'], n=14, fillna=False)\n",
    "amzn_vwap = ta.volume.VolumeWeightedAveragePrice(high=amzn_df['high'], low=amzn_df['low'], close=amzn_df['close'], volume=amzn_df['volume'], n=14, fillna=False)\n",
    "nflx_vwap = ta.volume.VolumeWeightedAveragePrice(high=nflx_df['high'], low=nflx_df['low'], close=nflx_df['close'], volume=nflx_df['volume'], n=14, fillna=False)\n",
    "goog_vwap = ta.volume.VolumeWeightedAveragePrice(high=goog_df['high'], low=goog_df['low'], close=goog_df['close'], volume=goog_df['volume'], n=14, fillna=False)\n",
    "\n",
    "fb_df['vwap'] = fb_vwap.volume_weighted_average_price()\n",
    "aapl_df['vwap'] = aapl_vwap.volume_weighted_average_price()\n",
    "amzn_df['vwap'] = amzn_vwap.volume_weighted_average_price()\n",
    "nflx_df['vwap'] = nflx_vwap.volume_weighted_average_price()\n",
    "goog_df['vwap'] = goog_vwap.volume_weighted_average_price()\n",
    "\n",
    "#fb_df"
   ]
  },
  {
   "cell_type": "code",
   "execution_count": 198,
   "metadata": {},
   "outputs": [],
   "source": [
    "## this isn't used as a trading signal according to what I just googled."
   ]
  },
  {
   "cell_type": "code",
   "execution_count": 199,
   "metadata": {},
   "outputs": [],
   "source": [
    "## KST OSCILATOR / KST SIGNAL kst kst_sig (TREND INDICATOR)\n",
    "\n",
    "fb_kst = ta.trend.KSTIndicator(close=fb_df['close'], r1=10, r2=15, r3=20, r4=30, n1=10, n2=10, n3=10, n4=15, nsig=9, fillna=False)\n",
    "aapl_kst = ta.trend.KSTIndicator(close=aapl_df['close'], r1=10, r2=15, r3=20, r4=30, n1=10, n2=10, n3=10, n4=15, nsig=9, fillna=False)\n",
    "amzn_kst = ta.trend.KSTIndicator(close=amzn_df['close'], r1=10, r2=15, r3=20, r4=30, n1=10, n2=10, n3=10, n4=15, nsig=9, fillna=False)\n",
    "nflx_kst = ta.trend.KSTIndicator(close=nflx_df['close'], r1=10, r2=15, r3=20, r4=30, n1=10, n2=10, n3=10, n4=15, nsig=9, fillna=False)\n",
    "goog_kst = ta.trend.KSTIndicator(close=goog_df['close'], r1=10, r2=15, r3=20, r4=30, n1=10, n2=10, n3=10, n4=15, nsig=9, fillna=False)\n",
    "\n",
    "fb_df['kst'] = fb_kst.kst()\n",
    "aapl_df['kst'] = aapl_kst.kst()\n",
    "amzn_df['kst'] = amzn_kst.kst()\n",
    "nflx_df['kst'] = nflx_kst.kst()\n",
    "goog_df['kst'] = goog_kst.kst()\n",
    "\n",
    "fb_df['kst_sig'] = fb_kst.kst_sig()\n",
    "aapl_df['kst_sig'] = aapl_kst.kst_sig()\n",
    "amzn_df['kst_sig'] = amzn_kst.kst_sig()\n",
    "nflx_df['kst_sig'] = nflx_kst.kst_sig()\n",
    "goog_df['kst_sig'] = goog_kst.kst_sig()"
   ]
  },
  {
   "cell_type": "code",
   "execution_count": 200,
   "metadata": {},
   "outputs": [
    {
     "name": "stderr",
     "output_type": "stream",
     "text": [
      "/Users/aaronbsechler/opt/anaconda3/envs/pyvizenv2/lib/python3.7/site-packages/ipykernel_launcher.py:6: SettingWithCopyWarning: \n",
      "A value is trying to be set on a copy of a slice from a DataFrame\n",
      "\n",
      "See the caveats in the documentation: https://pandas.pydata.org/pandas-docs/stable/user_guide/indexing.html#returning-a-view-versus-a-copy\n",
      "  \n",
      "/Users/aaronbsechler/opt/anaconda3/envs/pyvizenv2/lib/python3.7/site-packages/pandas/core/indexing.py:670: SettingWithCopyWarning: \n",
      "A value is trying to be set on a copy of a slice from a DataFrame\n",
      "\n",
      "See the caveats in the documentation: https://pandas.pydata.org/pandas-docs/stable/user_guide/indexing.html#returning-a-view-versus-a-copy\n",
      "  iloc._setitem_with_indexer(indexer, value)\n",
      "/Users/aaronbsechler/opt/anaconda3/envs/pyvizenv2/lib/python3.7/site-packages/ipykernel_launcher.py:10: SettingWithCopyWarning: \n",
      "A value is trying to be set on a copy of a slice from a DataFrame\n",
      "\n",
      "See the caveats in the documentation: https://pandas.pydata.org/pandas-docs/stable/user_guide/indexing.html#returning-a-view-versus-a-copy\n",
      "  # Remove the CWD from sys.path while we load stuff.\n",
      "/Users/aaronbsechler/opt/anaconda3/envs/pyvizenv2/lib/python3.7/site-packages/pandas/core/indexing.py:670: SettingWithCopyWarning: \n",
      "A value is trying to be set on a copy of a slice from a DataFrame\n",
      "\n",
      "See the caveats in the documentation: https://pandas.pydata.org/pandas-docs/stable/user_guide/indexing.html#returning-a-view-versus-a-copy\n",
      "  iloc._setitem_with_indexer(indexer, value)\n",
      "/Users/aaronbsechler/opt/anaconda3/envs/pyvizenv2/lib/python3.7/site-packages/ipykernel_launcher.py:14: SettingWithCopyWarning: \n",
      "A value is trying to be set on a copy of a slice from a DataFrame\n",
      "\n",
      "See the caveats in the documentation: https://pandas.pydata.org/pandas-docs/stable/user_guide/indexing.html#returning-a-view-versus-a-copy\n",
      "  \n",
      "/Users/aaronbsechler/opt/anaconda3/envs/pyvizenv2/lib/python3.7/site-packages/pandas/core/indexing.py:670: SettingWithCopyWarning: \n",
      "A value is trying to be set on a copy of a slice from a DataFrame\n",
      "\n",
      "See the caveats in the documentation: https://pandas.pydata.org/pandas-docs/stable/user_guide/indexing.html#returning-a-view-versus-a-copy\n",
      "  iloc._setitem_with_indexer(indexer, value)\n",
      "/Users/aaronbsechler/opt/anaconda3/envs/pyvizenv2/lib/python3.7/site-packages/ipykernel_launcher.py:18: SettingWithCopyWarning: \n",
      "A value is trying to be set on a copy of a slice from a DataFrame\n",
      "\n",
      "See the caveats in the documentation: https://pandas.pydata.org/pandas-docs/stable/user_guide/indexing.html#returning-a-view-versus-a-copy\n",
      "/Users/aaronbsechler/opt/anaconda3/envs/pyvizenv2/lib/python3.7/site-packages/pandas/core/indexing.py:670: SettingWithCopyWarning: \n",
      "A value is trying to be set on a copy of a slice from a DataFrame\n",
      "\n",
      "See the caveats in the documentation: https://pandas.pydata.org/pandas-docs/stable/user_guide/indexing.html#returning-a-view-versus-a-copy\n",
      "  iloc._setitem_with_indexer(indexer, value)\n",
      "/Users/aaronbsechler/opt/anaconda3/envs/pyvizenv2/lib/python3.7/site-packages/ipykernel_launcher.py:22: SettingWithCopyWarning: \n",
      "A value is trying to be set on a copy of a slice from a DataFrame\n",
      "\n",
      "See the caveats in the documentation: https://pandas.pydata.org/pandas-docs/stable/user_guide/indexing.html#returning-a-view-versus-a-copy\n",
      "/Users/aaronbsechler/opt/anaconda3/envs/pyvizenv2/lib/python3.7/site-packages/pandas/core/indexing.py:670: SettingWithCopyWarning: \n",
      "A value is trying to be set on a copy of a slice from a DataFrame\n",
      "\n",
      "See the caveats in the documentation: https://pandas.pydata.org/pandas-docs/stable/user_guide/indexing.html#returning-a-view-versus-a-copy\n",
      "  iloc._setitem_with_indexer(indexer, value)\n"
     ]
    }
   ],
   "source": [
    "## KST TRADING INDICATORS\n",
    "\n",
    "short_window = 10\n",
    "\n",
    "fb_df['kst_trading_signal_0'] = 0\n",
    "fb_df['kst_trading_signal_0'][short_window:] = np.where(fb_df['kst'][short_window:] > fb_df['kst_sig'][short_window:], 1, 0)\n",
    "fb_df['kst_trading_signal'] = fb_df['kst_trading_signal_0'].diff()\n",
    "\n",
    "aapl_df['kst_trading_signal_0'] = 0\n",
    "aapl_df['kst_trading_signal_0'][short_window:] = np.where(aapl_df['kst'][short_window:] > aapl_df['kst_sig'][short_window:], 1, 0)\n",
    "aapl_df['kst_trading_signal'] = aapl_df['kst_trading_signal_0'].diff()\n",
    "\n",
    "amzn_df['kst_trading_signal_0'] = 0\n",
    "amzn_df['kst_trading_signal_0'][short_window:] = np.where(amzn_df['kst'][short_window:] > amzn_df['kst_sig'][short_window:], 1, 0)\n",
    "amzn_df['kst_trading_signal'] = amzn_df['kst_trading_signal_0'].diff()\n",
    "\n",
    "nflx_df['kst_trading_signal_0'] = 0\n",
    "nflx_df['kst_trading_signal_0'][short_window:] = np.where(nflx_df['kst'][short_window:] > nflx_df['kst_sig'][short_window:], 1, 0)\n",
    "nflx_df['kst_trading_signal'] = nflx_df['kst_trading_signal_0'].diff()\n",
    "\n",
    "goog_df['kst_trading_signal_0'] = 0\n",
    "goog_df['kst_trading_signal_0'][short_window:] = np.where(goog_df['kst'][short_window:] > goog_df['kst_sig'][short_window:], 1, 0)\n",
    "goog_df['kst_trading_signal'] = goog_df['kst_trading_signal_0'].diff()"
   ]
  },
  {
   "cell_type": "code",
   "execution_count": 201,
   "metadata": {},
   "outputs": [],
   "source": [
    "## MACD OSCILATOR macd macd_diff macd_sig (TREND INDICATOR)\n",
    "\n",
    "fb_macd = ta.trend.MACD(close=fb_df['close'], n_slow=26, n_fast=12, n_sign=9, fillna=False)\n",
    "aapl_macd = ta.trend.MACD(close=aapl_df['close'], n_slow=26, n_fast=12, n_sign=9, fillna=False)\n",
    "amzn_macd = ta.trend.MACD(close=amzn_df['close'], n_slow=26, n_fast=12, n_sign=9, fillna=False)\n",
    "nflx_macd = ta.trend.MACD(close=nflx_df['close'], n_slow=26, n_fast=12, n_sign=9, fillna=False)\n",
    "goog_macd = ta.trend.MACD(close=goog_df['close'], n_slow=26, n_fast=12, n_sign=9, fillna=False)\n",
    "\n",
    "fb_df['macd'] = fb_macd.macd()\n",
    "aapl_df['macd'] = aapl_macd.macd()\n",
    "amzn_df['macd'] = amzn_macd.macd()\n",
    "nflx_df['macd'] = nflx_macd.macd()\n",
    "goog_df['macd'] = goog_macd.macd()\n",
    "\n",
    "fb_df['macd_diff'] = fb_macd.macd_diff()\n",
    "aapl_df['macd_diff'] = aapl_macd.macd_diff()\n",
    "amzn_df['macd_diff'] = amzn_macd.macd_diff()\n",
    "nflx_df['macd_diff'] = nflx_macd.macd_diff()\n",
    "goog_df['macd_diff'] = goog_macd.macd_diff()\n",
    "\n",
    "fb_df['macd_sig'] = fb_macd.macd_signal()\n",
    "aapl_df['macd_sig'] = aapl_macd.macd_signal()\n",
    "amzn_df['macd_sig'] = amzn_macd.macd_signal()\n",
    "nflx_df['macd_sig'] = nflx_macd.macd_signal()\n",
    "goog_df['macd_sig'] = goog_macd.macd_signal()\n",
    "\n"
   ]
  },
  {
   "cell_type": "code",
   "execution_count": 202,
   "metadata": {},
   "outputs": [
    {
     "name": "stderr",
     "output_type": "stream",
     "text": [
      "/Users/aaronbsechler/opt/anaconda3/envs/pyvizenv2/lib/python3.7/site-packages/ipykernel_launcher.py:4: SettingWithCopyWarning: \n",
      "A value is trying to be set on a copy of a slice from a DataFrame\n",
      "\n",
      "See the caveats in the documentation: https://pandas.pydata.org/pandas-docs/stable/user_guide/indexing.html#returning-a-view-versus-a-copy\n",
      "  after removing the cwd from sys.path.\n",
      "/Users/aaronbsechler/opt/anaconda3/envs/pyvizenv2/lib/python3.7/site-packages/pandas/core/indexing.py:670: SettingWithCopyWarning: \n",
      "A value is trying to be set on a copy of a slice from a DataFrame\n",
      "\n",
      "See the caveats in the documentation: https://pandas.pydata.org/pandas-docs/stable/user_guide/indexing.html#returning-a-view-versus-a-copy\n",
      "  iloc._setitem_with_indexer(indexer, value)\n",
      "/Users/aaronbsechler/opt/anaconda3/envs/pyvizenv2/lib/python3.7/site-packages/ipykernel_launcher.py:8: SettingWithCopyWarning: \n",
      "A value is trying to be set on a copy of a slice from a DataFrame\n",
      "\n",
      "See the caveats in the documentation: https://pandas.pydata.org/pandas-docs/stable/user_guide/indexing.html#returning-a-view-versus-a-copy\n",
      "  \n",
      "/Users/aaronbsechler/opt/anaconda3/envs/pyvizenv2/lib/python3.7/site-packages/pandas/core/indexing.py:670: SettingWithCopyWarning: \n",
      "A value is trying to be set on a copy of a slice from a DataFrame\n",
      "\n",
      "See the caveats in the documentation: https://pandas.pydata.org/pandas-docs/stable/user_guide/indexing.html#returning-a-view-versus-a-copy\n",
      "  iloc._setitem_with_indexer(indexer, value)\n",
      "/Users/aaronbsechler/opt/anaconda3/envs/pyvizenv2/lib/python3.7/site-packages/ipykernel_launcher.py:12: SettingWithCopyWarning: \n",
      "A value is trying to be set on a copy of a slice from a DataFrame\n",
      "\n",
      "See the caveats in the documentation: https://pandas.pydata.org/pandas-docs/stable/user_guide/indexing.html#returning-a-view-versus-a-copy\n",
      "  if sys.path[0] == '':\n",
      "/Users/aaronbsechler/opt/anaconda3/envs/pyvizenv2/lib/python3.7/site-packages/pandas/core/indexing.py:670: SettingWithCopyWarning: \n",
      "A value is trying to be set on a copy of a slice from a DataFrame\n",
      "\n",
      "See the caveats in the documentation: https://pandas.pydata.org/pandas-docs/stable/user_guide/indexing.html#returning-a-view-versus-a-copy\n",
      "  iloc._setitem_with_indexer(indexer, value)\n",
      "/Users/aaronbsechler/opt/anaconda3/envs/pyvizenv2/lib/python3.7/site-packages/ipykernel_launcher.py:16: SettingWithCopyWarning: \n",
      "A value is trying to be set on a copy of a slice from a DataFrame\n",
      "\n",
      "See the caveats in the documentation: https://pandas.pydata.org/pandas-docs/stable/user_guide/indexing.html#returning-a-view-versus-a-copy\n",
      "  app.launch_new_instance()\n",
      "/Users/aaronbsechler/opt/anaconda3/envs/pyvizenv2/lib/python3.7/site-packages/pandas/core/indexing.py:670: SettingWithCopyWarning: \n",
      "A value is trying to be set on a copy of a slice from a DataFrame\n",
      "\n",
      "See the caveats in the documentation: https://pandas.pydata.org/pandas-docs/stable/user_guide/indexing.html#returning-a-view-versus-a-copy\n",
      "  iloc._setitem_with_indexer(indexer, value)\n",
      "/Users/aaronbsechler/opt/anaconda3/envs/pyvizenv2/lib/python3.7/site-packages/ipykernel_launcher.py:20: SettingWithCopyWarning: \n",
      "A value is trying to be set on a copy of a slice from a DataFrame\n",
      "\n",
      "See the caveats in the documentation: https://pandas.pydata.org/pandas-docs/stable/user_guide/indexing.html#returning-a-view-versus-a-copy\n",
      "/Users/aaronbsechler/opt/anaconda3/envs/pyvizenv2/lib/python3.7/site-packages/pandas/core/indexing.py:670: SettingWithCopyWarning: \n",
      "A value is trying to be set on a copy of a slice from a DataFrame\n",
      "\n",
      "See the caveats in the documentation: https://pandas.pydata.org/pandas-docs/stable/user_guide/indexing.html#returning-a-view-versus-a-copy\n",
      "  iloc._setitem_with_indexer(indexer, value)\n"
     ]
    }
   ],
   "source": [
    "## MACD TRADING INDICATOR\n",
    "\n",
    "fb_df['macd_trading_signal_0'] = 0\n",
    "fb_df['macd_trading_signal_0'][short_window:] = np.where(fb_df['macd'][short_window:] > fb_df['macd_sig'][short_window:], 1, 0)\n",
    "fb_df['macd_trading_signal'] = fb_df['macd_trading_signal_0'].diff()\n",
    "\n",
    "aapl_df['macd_trading_signal_0'] = 0 \n",
    "aapl_df['macd_trading_signal_0'][short_window:] = np.where(aapl_df['macd'][short_window:] > aapl_df['macd_sig'][short_window:], 1, 0)\n",
    "aapl_df['macd_trading_signal'] = aapl_df['macd_trading_signal_0'].diff()\n",
    "\n",
    "amzn_df['macd_trading_signal_0'] = 0\n",
    "amzn_df['macd_trading_signal_0'][short_window:] = np.where(amzn_df['macd'][short_window:] > amzn_df['macd_sig'][short_window:], 1, 0)\n",
    "amzn_df['macd_trading_signal'] = amzn_df['macd_trading_signal_0'].diff()\n",
    "\n",
    "nflx_df['macd_trading_signal_0'] = 0\n",
    "nflx_df['macd_trading_signal_0'][short_window:] = np.where(nflx_df['macd'][short_window:] > nflx_df['macd_sig'][short_window:], 1, 0)\n",
    "nflx_df['macd_trading_signal'] = nflx_df['macd_trading_signal_0'].diff()\n",
    "\n",
    "goog_df['macd_trading_signal_0'] = 0\n",
    "goog_df['macd_trading_signal_0'][short_window:] = np.where(goog_df['macd'][short_window:] > goog_df['macd_sig'][short_window:], 1, 0)\n",
    "goog_df['macd_trading_signal'] = goog_df['macd_trading_signal_0'].diff()"
   ]
  },
  {
   "cell_type": "code",
   "execution_count": 203,
   "metadata": {},
   "outputs": [],
   "source": [
    "## CREATE DATAFRAMES WITH ONLY THE RETURN & TRADING SIGNALS\n",
    "\n",
    "fb_df['daily_return'] = fb_df['close'].pct_change()\n",
    "aapl_df['daily_return'] = aapl_df['close'].pct_change()\n",
    "amzn_df['daily_return'] = amzn_df['close'].pct_change()\n",
    "nflx_df['daily_return'] = nflx_df['close'].pct_change()\n",
    "goog_df['daily_return'] = goog_df['close'].pct_change()\n",
    "\n",
    "fb_df['positive_return'] = np.where(fb_df['daily_return'] > 0, 1.0, 0.0)\n",
    "aapl_df['positive_return'] = np.where(aapl_df['daily_return'] > 0, 1.0, 0.0)\n",
    "amzn_df['positive_return'] = np.where(amzn_df['daily_return'] > 0, 1.0, 0.0)\n",
    "nflx_df['positive_return'] = np.where(nflx_df['daily_return'] > 0, 1.0, 0.0)\n",
    "goog_df['positive_return'] = np.where(goog_df['daily_return'] > 0, 1.0, 0.0)\n",
    "\n",
    "fb_trading_signals = fb_df[['daily_return','positive_return','awe_osc_trading_signal','kama_trading_signal','roc_trading_signal','rsi_trading_signal','so_trading_signal','tsi_trading_signal','cci_trading_signal','cmf_trading_signal','eom_trading_signal','mfi_trading signal','nvi_trading_signal','kst_trading_signal','macd_trading_signal']].copy()\n",
    "aapl_trading_signals = aapl_df[['daily_return','positive_return','awe_osc_trading_signal','kama_trading_signal','roc_trading_signal','rsi_trading_signal','so_trading_signal','tsi_trading_signal','cci_trading_signal','cmf_trading_signal','eom_trading_signal','mfi_trading signal','nvi_trading_signal','kst_trading_signal','macd_trading_signal']].copy()\n",
    "amzn_trading_signals = amzn_df[['daily_return','positive_return','awe_osc_trading_signal','kama_trading_signal','roc_trading_signal','rsi_trading_signal','so_trading_signal','tsi_trading_signal','cci_trading_signal','cmf_trading_signal','eom_trading_signal','mfi_trading signal','nvi_trading_signal','kst_trading_signal','macd_trading_signal']].copy()\n",
    "nflx_trading_signals = nflx_df[['daily_return','positive_return','awe_osc_trading_signal','kama_trading_signal','roc_trading_signal','rsi_trading_signal','so_trading_signal','tsi_trading_signal','cci_trading_signal','cmf_trading_signal','eom_trading_signal','mfi_trading signal','nvi_trading_signal','kst_trading_signal','macd_trading_signal']].copy()\n",
    "goog_trading_signals = goog_df[['daily_return','positive_return','awe_osc_trading_signal','kama_trading_signal','roc_trading_signal','rsi_trading_signal','so_trading_signal','tsi_trading_signal','cci_trading_signal','cmf_trading_signal','eom_trading_signal','mfi_trading signal','nvi_trading_signal','kst_trading_signal','macd_trading_signal']].copy()"
   ]
  },
  {
   "cell_type": "code",
   "execution_count": 204,
   "metadata": {},
   "outputs": [],
   "source": [
    "# START BY COPYING PREVIOUS DATASET\n",
    "\n",
    "fb_df_rff = fb_trading_signals.copy()\n",
    "aapl_df_rff = aapl_trading_signals.copy()\n",
    "amzn_df_rff = amzn_trading_signals.copy()\n",
    "nflx_df_rff = nflx_trading_signals.copy()\n",
    "goog_df_rff = goog_trading_signals.copy()\n",
    "\n",
    "#fb_df_rff.head()"
   ]
  },
  {
   "cell_type": "code",
   "execution_count": 205,
   "metadata": {},
   "outputs": [],
   "source": [
    "# SHIFT DATAFRAME INDEX BY ONE\n",
    "\n",
    "fb_df_rff= fb_df_rff.shift(1)\n",
    "aapl_df_rff= aapl_df_rff.shift(1)\n",
    "amzn_df_rff= amzn_df_rff.shift(1)\n",
    "nflx_df_rff= nflx_df_rff.shift(1)\n",
    "goog_df_rff= goog_df_rff.shift(1)"
   ]
  },
  {
   "cell_type": "code",
   "execution_count": 206,
   "metadata": {},
   "outputs": [],
   "source": [
    "# Drop NAs and replace positive/negative infinity values\n",
    "fb_df_rff.dropna(inplace=True)\n",
    "fb_df_rff.dropna(subset=['positive_return'], inplace=True)\n",
    "goog_df_rff = goog_df_rff.replace([np.inf, -np.inf], np.nan)"
   ]
  },
  {
   "cell_type": "code",
   "execution_count": 207,
   "metadata": {},
   "outputs": [],
   "source": [
    "# Drop NAs and replace positive/negative infinity values\n",
    "fb_df_rff.dropna(inplace=True)\n",
    "fb_df_rff.dropna(subset=['positive_return'], inplace=True)\n",
    "fb_df_rff = fb_df_rff.replace([np.inf, -np.inf], np.nan)\n",
    "\n",
    "amzn_df_rff.dropna(inplace=True)\n",
    "amzn_df_rff.dropna(subset=['positive_return'], inplace=True)\n",
    "amzn_df_rff = amzn_df_rff.replace([np.inf, -np.inf], np.nan)\n",
    "\n",
    "aapl_df_rff.dropna(inplace=True)\n",
    "aapl_df_rff.dropna(subset=['positive_return'], inplace=True)\n",
    "aapl_df_rff = aapl_df_rff.replace([np.inf, -np.inf], np.nan)\n",
    "\n",
    "nflx_df_rff.dropna(inplace=True)\n",
    "nflx_df_rff.dropna(subset=['positive_return'], inplace=True)\n",
    "nflx_df_rff = nflx_df_rff.replace([np.inf, -np.inf], np.nan)\n",
    "\n",
    "goog_df_rff.dropna(inplace=True)\n",
    "goog_df_rff.dropna(subset=['positive_return'], inplace=True)\n",
    "goog_df_rff = goog_df_rff.replace([np.inf, -np.inf], np.nan)"
   ]
  },
  {
   "cell_type": "code",
   "execution_count": 208,
   "metadata": {},
   "outputs": [],
   "source": [
    "nrows, ncols = fb_df_rff.shape\n",
    "\n",
    "ntest=500"
   ]
  },
  {
   "cell_type": "code",
   "execution_count": 209,
   "metadata": {},
   "outputs": [],
   "source": [
    "from sklearn.ensemble import RandomForestClassifier\n",
    "from sklearn.datasets import make_classification\n",
    "from sklearn.metrics import confusion_matrix, accuracy_score, classification_report"
   ]
  },
  {
   "cell_type": "code",
   "execution_count": null,
   "metadata": {},
   "outputs": [],
   "source": [
    "## ADDING TO THE FOREST - WE RUN THE ANALYSIS WITH 7 MORE INDICATORS, INCREASING THE ACCURACY\n",
    "\n",
    "# The following RF analysis add seven more techincal indicators to the analysis. Awesome Oscillator, Kaufman's\n",
    "# Moving Average, Rate of Change, Relative Strength Inddx, True Strengh Index, Chalkin Money Flow, and most \n",
    "# importantly Ease of Movement (EOM). Adding these additional features move the accuracy from the mid fifties to \n",
    "# the mid sixties in most cases. The analysis are then re-run with two much simpler sets of features. The first\n",
    "# set uses only EOM & MACD, which were the top two features for all five stocks. This produces a really low\n",
    "# rate of false positives for AAPL & AMZN. The analysis is then run again using the best features for eah stock \n",
    "# from the all 13 analysis, which doesn't improve much."
   ]
  },
  {
   "cell_type": "code",
   "execution_count": 210,
   "metadata": {},
   "outputs": [],
   "source": [
    "# FB RANDOM FOREST\n",
    "\n",
    "X_train = fb_df_rff[['awe_osc_trading_signal','kama_trading_signal','roc_trading_signal','rsi_trading_signal','so_trading_signal','tsi_trading_signal','cci_trading_signal','cmf_trading_signal','eom_trading_signal','mfi_trading signal','nvi_trading_signal','kst_trading_signal','macd_trading_signal']][0:(nrows - ntest)]\n",
    "y_train = fb_df_rff['positive_return'][0:(nrows - ntest)]  \n",
    "X_test = fb_df_rff[['awe_osc_trading_signal','kama_trading_signal','roc_trading_signal','rsi_trading_signal','so_trading_signal','tsi_trading_signal','cci_trading_signal','cmf_trading_signal','eom_trading_signal','mfi_trading signal','nvi_trading_signal','kst_trading_signal','macd_trading_signal']][(nrows - ntest):]\n",
    "y_test = fb_df_rff['positive_return'][(nrows - ntest):]\n",
    "\n",
    "# Fit a SKLearn linear regression using just the training set (X_train, Y_train):\n",
    "fb_model = RandomForestClassifier(n_estimators=100, max_depth=3, random_state=0)\n",
    "\n",
    "fb_model.fit(X_train, y_train)\n",
    "\n",
    "# Make a prediction of \"y\" values from the X_test dataset\n",
    "predictions = fb_model.predict(X_test)\n",
    "\n",
    "# Assemble actual y data (Y_test) with predicted y data (from just above) into two columns in a dataframe:\n",
    "fb_results = y_test.to_frame()\n",
    "fb_results.columns = ['Actual Value']\n",
    "fb_results[\"Predicted Value\"] = predictions"
   ]
  },
  {
   "cell_type": "code",
   "execution_count": 211,
   "metadata": {},
   "outputs": [
    {
     "name": "stdout",
     "output_type": "stream",
     "text": [
      "FB Accuracy: 0.684\n"
     ]
    }
   ],
   "source": [
    "score = accuracy_score(fb_results['Actual Value'], fb_results['Predicted Value'])\n",
    "print(f\"FB Accuracy: {score}\")"
   ]
  },
  {
   "cell_type": "code",
   "execution_count": 212,
   "metadata": {},
   "outputs": [
    {
     "name": "stdout",
     "output_type": "stream",
     "text": [
      "Confusion Matrix\n"
     ]
    },
    {
     "data": {
      "text/html": [
       "<div>\n",
       "<style scoped>\n",
       "    .dataframe tbody tr th:only-of-type {\n",
       "        vertical-align: middle;\n",
       "    }\n",
       "\n",
       "    .dataframe tbody tr th {\n",
       "        vertical-align: top;\n",
       "    }\n",
       "\n",
       "    .dataframe thead th {\n",
       "        text-align: right;\n",
       "    }\n",
       "</style>\n",
       "<table border=\"1\" class=\"dataframe\">\n",
       "  <thead>\n",
       "    <tr style=\"text-align: right;\">\n",
       "      <th></th>\n",
       "      <th>Predicted 0</th>\n",
       "      <th>Predicted 1</th>\n",
       "    </tr>\n",
       "  </thead>\n",
       "  <tbody>\n",
       "    <tr>\n",
       "      <th>Actual 0</th>\n",
       "      <td>109</td>\n",
       "      <td>121</td>\n",
       "    </tr>\n",
       "    <tr>\n",
       "      <th>Actual 1</th>\n",
       "      <td>37</td>\n",
       "      <td>233</td>\n",
       "    </tr>\n",
       "  </tbody>\n",
       "</table>\n",
       "</div>"
      ],
      "text/plain": [
       "          Predicted 0  Predicted 1\n",
       "Actual 0          109          121\n",
       "Actual 1           37          233"
      ]
     },
     "metadata": {},
     "output_type": "display_data"
    },
    {
     "name": "stdout",
     "output_type": "stream",
     "text": [
      "Classification Report\n",
      "              precision    recall  f1-score   support\n",
      "\n",
      "         0.0       0.75      0.47      0.58       230\n",
      "         1.0       0.66      0.86      0.75       270\n",
      "\n",
      "    accuracy                           0.68       500\n",
      "   macro avg       0.70      0.67      0.66       500\n",
      "weighted avg       0.70      0.68      0.67       500\n",
      "\n"
     ]
    }
   ],
   "source": [
    "# Calculating the confusion matrix\n",
    "cm = confusion_matrix(y_test, predictions)\n",
    "cm_df = pd.DataFrame(\n",
    "    cm, index=[\"Actual 0\", \"Actual 1\"], columns=[\"Predicted 0\", \"Predicted 1\"]\n",
    ")\n",
    "\n",
    "\n",
    "print(\"Confusion Matrix\")\n",
    "display(cm_df)\n",
    "print(\"Classification Report\")\n",
    "print(classification_report(y_test, predictions))"
   ]
  },
  {
   "cell_type": "code",
   "execution_count": 213,
   "metadata": {},
   "outputs": [
    {
     "data": {
      "text/plain": [
       "[(0.4836249707521778, 'eom_trading_signal'),\n",
       " (0.19880447300998383, 'macd_trading_signal'),\n",
       " (0.08088568143259994, 'so_trading_signal'),\n",
       " (0.06802543245014371, 'rsi_trading_signal'),\n",
       " (0.051457649644583076, 'cci_trading_signal'),\n",
       " (0.044012015455120145, 'nvi_trading_signal'),\n",
       " (0.03314069175992462, 'cmf_trading_signal'),\n",
       " (0.020188091332416804, 'tsi_trading_signal'),\n",
       " (0.008977093504459615, 'kst_trading_signal'),\n",
       " (0.005753274976273573, 'roc_trading_signal')]"
      ]
     },
     "execution_count": 213,
     "metadata": {},
     "output_type": "execute_result"
    }
   ],
   "source": [
    "importances = fb_model.feature_importances_\n",
    "\n",
    "importances_sorted = sorted(zip(fb_model.feature_importances_, X_test.columns), reverse=True)\n",
    "importances_sorted[:10]"
   ]
  },
  {
   "cell_type": "code",
   "execution_count": 214,
   "metadata": {},
   "outputs": [],
   "source": [
    "# AAPL RANDOM FOREST\n",
    "\n",
    "X_train = aapl_df_rff[['awe_osc_trading_signal','kama_trading_signal','roc_trading_signal','rsi_trading_signal','so_trading_signal','tsi_trading_signal','cci_trading_signal','cmf_trading_signal','eom_trading_signal','mfi_trading signal','nvi_trading_signal','kst_trading_signal','macd_trading_signal']][0:(nrows - ntest)]\n",
    "y_train = aapl_df_rff['positive_return'][0:(nrows - ntest)]  \n",
    "X_test = aapl_df_rff[['awe_osc_trading_signal','kama_trading_signal','roc_trading_signal','rsi_trading_signal','so_trading_signal','tsi_trading_signal','cci_trading_signal','cmf_trading_signal','eom_trading_signal','mfi_trading signal','nvi_trading_signal','kst_trading_signal','macd_trading_signal']][(nrows - ntest):]\n",
    "y_test = aapl_df_rff['positive_return'][(nrows - ntest):]\n",
    "\n",
    "# Fit a SKLearn linear regression using just the training set (X_train, Y_train):\n",
    "aapl_model = RandomForestClassifier(n_estimators=100, max_depth=3, random_state=0)\n",
    "\n",
    "aapl_model.fit(X_train, y_train)\n",
    "\n",
    "# Make a prediction of \"y\" values from the X_test dataset\n",
    "predictions =aapl_model.predict(X_test)\n",
    "\n",
    "# Assemble actual y data (Y_test) with predicted y data (from just above) into two columns in a dataframe:\n",
    "aapl_results = y_test.to_frame()\n",
    "aapl_results.columns = ['Actual Value']\n",
    "aapl_results[\"Predicted Value\"] = predictions"
   ]
  },
  {
   "cell_type": "code",
   "execution_count": 215,
   "metadata": {},
   "outputs": [
    {
     "name": "stdout",
     "output_type": "stream",
     "text": [
      "AAPL Accuracy: 0.6160145586897179\n"
     ]
    }
   ],
   "source": [
    "score = accuracy_score(aapl_results['Actual Value'], aapl_results['Predicted Value'])\n",
    "print(f\"AAPL Accuracy: {score}\")"
   ]
  },
  {
   "cell_type": "code",
   "execution_count": 216,
   "metadata": {},
   "outputs": [
    {
     "name": "stdout",
     "output_type": "stream",
     "text": [
      "Confusion Matrix\n"
     ]
    },
    {
     "data": {
      "text/html": [
       "<div>\n",
       "<style scoped>\n",
       "    .dataframe tbody tr th:only-of-type {\n",
       "        vertical-align: middle;\n",
       "    }\n",
       "\n",
       "    .dataframe tbody tr th {\n",
       "        vertical-align: top;\n",
       "    }\n",
       "\n",
       "    .dataframe thead th {\n",
       "        text-align: right;\n",
       "    }\n",
       "</style>\n",
       "<table border=\"1\" class=\"dataframe\">\n",
       "  <thead>\n",
       "    <tr style=\"text-align: right;\">\n",
       "      <th></th>\n",
       "      <th>Predicted 0</th>\n",
       "      <th>Predicted 1</th>\n",
       "    </tr>\n",
       "  </thead>\n",
       "  <tbody>\n",
       "    <tr>\n",
       "      <th>Actual 0</th>\n",
       "      <td>444</td>\n",
       "      <td>56</td>\n",
       "    </tr>\n",
       "    <tr>\n",
       "      <th>Actual 1</th>\n",
       "      <td>366</td>\n",
       "      <td>233</td>\n",
       "    </tr>\n",
       "  </tbody>\n",
       "</table>\n",
       "</div>"
      ],
      "text/plain": [
       "          Predicted 0  Predicted 1\n",
       "Actual 0          444           56\n",
       "Actual 1          366          233"
      ]
     },
     "metadata": {},
     "output_type": "display_data"
    },
    {
     "name": "stdout",
     "output_type": "stream",
     "text": [
      "Classification Report\n",
      "              precision    recall  f1-score   support\n",
      "\n",
      "         0.0       0.55      0.89      0.68       500\n",
      "         1.0       0.81      0.39      0.52       599\n",
      "\n",
      "    accuracy                           0.62      1099\n",
      "   macro avg       0.68      0.64      0.60      1099\n",
      "weighted avg       0.69      0.62      0.59      1099\n",
      "\n"
     ]
    }
   ],
   "source": [
    "# Calculating the confusion matrix\n",
    "cm = confusion_matrix(y_test, predictions)\n",
    "cm_df = pd.DataFrame(\n",
    "    cm, index=[\"Actual 0\", \"Actual 1\"], columns=[\"Predicted 0\", \"Predicted 1\"]\n",
    ")\n",
    "\n",
    "\n",
    "print(\"Confusion Matrix\")\n",
    "display(cm_df)\n",
    "print(\"Classification Report\")\n",
    "print(classification_report(y_test, predictions))"
   ]
  },
  {
   "cell_type": "code",
   "execution_count": 217,
   "metadata": {},
   "outputs": [
    {
     "data": {
      "text/plain": [
       "[(0.37010875526845577, 'macd_trading_signal'),\n",
       " (0.3465168364741131, 'eom_trading_signal'),\n",
       " (0.08914054184347145, 'roc_trading_signal'),\n",
       " (0.06612344810849614, 'kst_trading_signal'),\n",
       " (0.04599872422938828, 'cci_trading_signal'),\n",
       " (0.029125862209975966, 'so_trading_signal'),\n",
       " (0.02132413457837537, 'nvi_trading_signal'),\n",
       " (0.013320080647672448, 'awe_osc_trading_signal'),\n",
       " (0.011458177167072914, 'rsi_trading_signal'),\n",
       " (0.003390219086652008, 'tsi_trading_signal')]"
      ]
     },
     "execution_count": 217,
     "metadata": {},
     "output_type": "execute_result"
    }
   ],
   "source": [
    "importances = aapl_model.feature_importances_\n",
    "\n",
    "importances_sorted = sorted(zip(aapl_model.feature_importances_, X_test.columns), reverse=True)\n",
    "importances_sorted[:10]"
   ]
  },
  {
   "cell_type": "code",
   "execution_count": 218,
   "metadata": {},
   "outputs": [],
   "source": [
    "## AMZN RANDOM FOREST\n",
    "\n",
    "X_train = amzn_df_rff[['awe_osc_trading_signal','kama_trading_signal','roc_trading_signal','rsi_trading_signal','so_trading_signal','tsi_trading_signal','cci_trading_signal','cmf_trading_signal','eom_trading_signal','mfi_trading signal','nvi_trading_signal','kst_trading_signal','macd_trading_signal']][0:(nrows - ntest)]\n",
    "y_train = amzn_df_rff['positive_return'][0:(nrows - ntest)]  \n",
    "X_test = amzn_df_rff[['awe_osc_trading_signal','kama_trading_signal','roc_trading_signal','rsi_trading_signal','so_trading_signal','tsi_trading_signal','cci_trading_signal','cmf_trading_signal','eom_trading_signal','mfi_trading signal','nvi_trading_signal','kst_trading_signal','macd_trading_signal']][(nrows - ntest):]\n",
    "y_test = amzn_df_rff['positive_return'][(nrows - ntest):]\n",
    "\n",
    "# Fit a SKLearn linear regression using just the training set (X_train, Y_train):\n",
    "amzn_model = RandomForestClassifier(n_estimators=100, max_depth=3, random_state=0)\n",
    "\n",
    "amzn_model.fit(X_train, y_train)\n",
    "\n",
    "# Make a prediction of \"y\" values from the X_test dataset\n",
    "predictions = amzn_model.predict(X_test)\n",
    "\n",
    "# Assemble actual y data (Y_test) with predicted y data (from just above) into two columns in a dataframe:\n",
    "amzn_results = y_test.to_frame()\n",
    "amzn_results.columns = ['Actual Value']\n",
    "amzn_results[\"Predicted Value\"] = predictions"
   ]
  },
  {
   "cell_type": "code",
   "execution_count": 219,
   "metadata": {},
   "outputs": [
    {
     "name": "stdout",
     "output_type": "stream",
     "text": [
      "AMZN Accuracy: 0.6560509554140127\n"
     ]
    }
   ],
   "source": [
    "score = accuracy_score(amzn_results['Actual Value'], amzn_results['Predicted Value'])\n",
    "print(f\"AMZN Accuracy: {score}\")"
   ]
  },
  {
   "cell_type": "code",
   "execution_count": 220,
   "metadata": {},
   "outputs": [
    {
     "name": "stdout",
     "output_type": "stream",
     "text": [
      "Confusion Matrix\n"
     ]
    },
    {
     "data": {
      "text/html": [
       "<div>\n",
       "<style scoped>\n",
       "    .dataframe tbody tr th:only-of-type {\n",
       "        vertical-align: middle;\n",
       "    }\n",
       "\n",
       "    .dataframe tbody tr th {\n",
       "        vertical-align: top;\n",
       "    }\n",
       "\n",
       "    .dataframe thead th {\n",
       "        text-align: right;\n",
       "    }\n",
       "</style>\n",
       "<table border=\"1\" class=\"dataframe\">\n",
       "  <thead>\n",
       "    <tr style=\"text-align: right;\">\n",
       "      <th></th>\n",
       "      <th>Predicted 0</th>\n",
       "      <th>Predicted 1</th>\n",
       "    </tr>\n",
       "  </thead>\n",
       "  <tbody>\n",
       "    <tr>\n",
       "      <th>Actual 0</th>\n",
       "      <td>410</td>\n",
       "      <td>72</td>\n",
       "    </tr>\n",
       "    <tr>\n",
       "      <th>Actual 1</th>\n",
       "      <td>306</td>\n",
       "      <td>311</td>\n",
       "    </tr>\n",
       "  </tbody>\n",
       "</table>\n",
       "</div>"
      ],
      "text/plain": [
       "          Predicted 0  Predicted 1\n",
       "Actual 0          410           72\n",
       "Actual 1          306          311"
      ]
     },
     "metadata": {},
     "output_type": "display_data"
    },
    {
     "name": "stdout",
     "output_type": "stream",
     "text": [
      "Classification Report\n",
      "              precision    recall  f1-score   support\n",
      "\n",
      "         0.0       0.57      0.85      0.68       482\n",
      "         1.0       0.81      0.50      0.62       617\n",
      "\n",
      "    accuracy                           0.66      1099\n",
      "   macro avg       0.69      0.68      0.65      1099\n",
      "weighted avg       0.71      0.66      0.65      1099\n",
      "\n"
     ]
    }
   ],
   "source": [
    "# Calculating the confusion matrix\n",
    "cm = confusion_matrix(y_test, predictions)\n",
    "cm_df = pd.DataFrame(\n",
    "    cm, index=[\"Actual 0\", \"Actual 1\"], columns=[\"Predicted 0\", \"Predicted 1\"]\n",
    ")\n",
    "\n",
    "\n",
    "print(\"Confusion Matrix\")\n",
    "display(cm_df)\n",
    "print(\"Classification Report\")\n",
    "print(classification_report(y_test, predictions))"
   ]
  },
  {
   "cell_type": "code",
   "execution_count": 221,
   "metadata": {},
   "outputs": [
    {
     "data": {
      "text/plain": [
       "[(0.48354530898675624, 'eom_trading_signal'),\n",
       " (0.20075790957273673, 'macd_trading_signal'),\n",
       " (0.09937032284705258, 'nvi_trading_signal'),\n",
       " (0.059452106667049774, 'so_trading_signal'),\n",
       " (0.03503782472182251, 'rsi_trading_signal'),\n",
       " (0.03133045171480447, 'kst_trading_signal'),\n",
       " (0.028184536799659307, 'awe_osc_trading_signal'),\n",
       " (0.027867661701724084, 'roc_trading_signal'),\n",
       " (0.023697506043088092, 'cci_trading_signal'),\n",
       " (0.006689088442555333, 'cmf_trading_signal')]"
      ]
     },
     "execution_count": 221,
     "metadata": {},
     "output_type": "execute_result"
    }
   ],
   "source": [
    "importances = amzn_model.feature_importances_\n",
    "\n",
    "importances_sorted = sorted(zip(amzn_model.feature_importances_, X_test.columns), reverse=True)\n",
    "importances_sorted[:10]"
   ]
  },
  {
   "cell_type": "code",
   "execution_count": 222,
   "metadata": {},
   "outputs": [],
   "source": [
    "## NFLX RANDOM FOREST\n",
    "\n",
    "X_train = nflx_df_rff[['awe_osc_trading_signal','kama_trading_signal','roc_trading_signal','rsi_trading_signal','so_trading_signal','tsi_trading_signal','cci_trading_signal','cmf_trading_signal','eom_trading_signal','mfi_trading signal','nvi_trading_signal','kst_trading_signal','macd_trading_signal']][0:(nrows - ntest)]\n",
    "y_train = nflx_df_rff['positive_return'][0:(nrows - ntest)]  \n",
    "X_test = nflx_df_rff[['awe_osc_trading_signal','kama_trading_signal','roc_trading_signal','rsi_trading_signal','so_trading_signal','tsi_trading_signal','cci_trading_signal','cmf_trading_signal','eom_trading_signal','mfi_trading signal','nvi_trading_signal','kst_trading_signal','macd_trading_signal']][(nrows - ntest):]\n",
    "y_test = nflx_df_rff['positive_return'][(nrows - ntest):]\n",
    "\n",
    "# Fit a SKLearn linear regression using just the training set (X_train, Y_train):\n",
    "nflx_model = RandomForestClassifier(n_estimators=100, max_depth=3, random_state=0)\n",
    "\n",
    "nflx_model.fit(X_train, y_train)\n",
    "\n",
    "# Make a prediction of \"y\" values from the X_test dataset\n",
    "predictions = nflx_model.predict(X_test)\n",
    "\n",
    "# Assemble actual y data (Y_test) with predicted y data (from just above) into two columns in a dataframe:\n",
    "nflx_results = y_test.to_frame()\n",
    "nflx_results.columns = ['Actual Value']\n",
    "nflx_results[\"Predicted Value\"] = predictions"
   ]
  },
  {
   "cell_type": "code",
   "execution_count": 223,
   "metadata": {},
   "outputs": [
    {
     "name": "stdout",
     "output_type": "stream",
     "text": [
      "NFLX Accuracy: 0.6575591985428051\n"
     ]
    }
   ],
   "source": [
    "score = accuracy_score(nflx_results['Actual Value'], nflx_results['Predicted Value'])\n",
    "print(f\"NFLX Accuracy: {score}\")"
   ]
  },
  {
   "cell_type": "code",
   "execution_count": 224,
   "metadata": {},
   "outputs": [
    {
     "name": "stdout",
     "output_type": "stream",
     "text": [
      "Confusion Matrix\n"
     ]
    },
    {
     "data": {
      "text/html": [
       "<div>\n",
       "<style scoped>\n",
       "    .dataframe tbody tr th:only-of-type {\n",
       "        vertical-align: middle;\n",
       "    }\n",
       "\n",
       "    .dataframe tbody tr th {\n",
       "        vertical-align: top;\n",
       "    }\n",
       "\n",
       "    .dataframe thead th {\n",
       "        text-align: right;\n",
       "    }\n",
       "</style>\n",
       "<table border=\"1\" class=\"dataframe\">\n",
       "  <thead>\n",
       "    <tr style=\"text-align: right;\">\n",
       "      <th></th>\n",
       "      <th>Predicted 0</th>\n",
       "      <th>Predicted 1</th>\n",
       "    </tr>\n",
       "  </thead>\n",
       "  <tbody>\n",
       "    <tr>\n",
       "      <th>Actual 0</th>\n",
       "      <td>428</td>\n",
       "      <td>107</td>\n",
       "    </tr>\n",
       "    <tr>\n",
       "      <th>Actual 1</th>\n",
       "      <td>269</td>\n",
       "      <td>294</td>\n",
       "    </tr>\n",
       "  </tbody>\n",
       "</table>\n",
       "</div>"
      ],
      "text/plain": [
       "          Predicted 0  Predicted 1\n",
       "Actual 0          428          107\n",
       "Actual 1          269          294"
      ]
     },
     "metadata": {},
     "output_type": "display_data"
    },
    {
     "name": "stdout",
     "output_type": "stream",
     "text": [
      "Classification Report\n",
      "              precision    recall  f1-score   support\n",
      "\n",
      "         0.0       0.61      0.80      0.69       535\n",
      "         1.0       0.73      0.52      0.61       563\n",
      "\n",
      "    accuracy                           0.66      1098\n",
      "   macro avg       0.67      0.66      0.65      1098\n",
      "weighted avg       0.68      0.66      0.65      1098\n",
      "\n"
     ]
    }
   ],
   "source": [
    "# Calculating the confusion matrix\n",
    "cm = confusion_matrix(y_test, predictions)\n",
    "cm_df = pd.DataFrame(\n",
    "    cm, index=[\"Actual 0\", \"Actual 1\"], columns=[\"Predicted 0\", \"Predicted 1\"]\n",
    ")\n",
    "\n",
    "\n",
    "print(\"Confusion Matrix\")\n",
    "display(cm_df)\n",
    "print(\"Classification Report\")\n",
    "print(classification_report(y_test, predictions))"
   ]
  },
  {
   "cell_type": "code",
   "execution_count": 225,
   "metadata": {},
   "outputs": [
    {
     "data": {
      "text/plain": [
       "[(0.369615595149585, 'eom_trading_signal'),\n",
       " (0.2367451979650474, 'macd_trading_signal'),\n",
       " (0.12753148061041616, 'rsi_trading_signal'),\n",
       " (0.08784936677932055, 'nvi_trading_signal'),\n",
       " (0.05072102561674862, 'so_trading_signal'),\n",
       " (0.03541797501592201, 'roc_trading_signal'),\n",
       " (0.02765369273880756, 'cci_trading_signal'),\n",
       " (0.027402470708375527, 'awe_osc_trading_signal'),\n",
       " (0.02190023417523776, 'kst_trading_signal'),\n",
       " (0.009160224086877812, 'cmf_trading_signal')]"
      ]
     },
     "execution_count": 225,
     "metadata": {},
     "output_type": "execute_result"
    }
   ],
   "source": [
    "importances = nflx_model.feature_importances_\n",
    "\n",
    "importances_sorted = sorted(zip(nflx_model.feature_importances_, X_test.columns), reverse=True)\n",
    "importances_sorted[:10]"
   ]
  },
  {
   "cell_type": "code",
   "execution_count": 226,
   "metadata": {},
   "outputs": [],
   "source": [
    "## GOOG RANDOM FOREST\n",
    "\n",
    "X_train = goog_df_rff[['awe_osc_trading_signal','kama_trading_signal','roc_trading_signal','rsi_trading_signal','so_trading_signal','tsi_trading_signal','cci_trading_signal','cmf_trading_signal','eom_trading_signal','mfi_trading signal','nvi_trading_signal','kst_trading_signal','macd_trading_signal']][0:(nrows - ntest)]\n",
    "y_train = goog_df_rff['positive_return'][0:(nrows - ntest)]  \n",
    "X_test = goog_df_rff[['awe_osc_trading_signal','kama_trading_signal','roc_trading_signal','rsi_trading_signal','so_trading_signal','tsi_trading_signal','cci_trading_signal','cmf_trading_signal','eom_trading_signal','mfi_trading signal','nvi_trading_signal','kst_trading_signal','macd_trading_signal']][(nrows - ntest):]\n",
    "y_test = goog_df_rff['positive_return'][(nrows - ntest):]\n",
    "\n",
    "# Fit a SKLearn linear regression using just the training set (X_train, Y_train):\n",
    "goog_model = RandomForestClassifier(n_estimators=100, max_depth=3, random_state=0)\n",
    "\n",
    "goog_model.fit(X_train, y_train)\n",
    "\n",
    "# Make a prediction of \"y\" values from the X_test dataset\n",
    "predictions = goog_model.predict(X_test)\n",
    "\n",
    "# Assemble actual y data (Y_test) with predicted y data (from just above) into two columns in a dataframe:\n",
    "goog_results = y_test.to_frame()\n",
    "goog_results.columns = ['Actual Value']\n",
    "goog_results[\"Predicted Value\"] = predictions"
   ]
  },
  {
   "cell_type": "code",
   "execution_count": 227,
   "metadata": {},
   "outputs": [
    {
     "name": "stdout",
     "output_type": "stream",
     "text": [
      "GOOG Accuracy: 0.6377880184331797\n"
     ]
    }
   ],
   "source": [
    "score = accuracy_score(goog_results['Actual Value'], goog_results['Predicted Value'])\n",
    "print(f\"GOOG Accuracy: {score}\")"
   ]
  },
  {
   "cell_type": "code",
   "execution_count": 228,
   "metadata": {},
   "outputs": [
    {
     "name": "stdout",
     "output_type": "stream",
     "text": [
      "Confusion Matrix\n"
     ]
    },
    {
     "data": {
      "text/html": [
       "<div>\n",
       "<style scoped>\n",
       "    .dataframe tbody tr th:only-of-type {\n",
       "        vertical-align: middle;\n",
       "    }\n",
       "\n",
       "    .dataframe tbody tr th {\n",
       "        vertical-align: top;\n",
       "    }\n",
       "\n",
       "    .dataframe thead th {\n",
       "        text-align: right;\n",
       "    }\n",
       "</style>\n",
       "<table border=\"1\" class=\"dataframe\">\n",
       "  <thead>\n",
       "    <tr style=\"text-align: right;\">\n",
       "      <th></th>\n",
       "      <th>Predicted 0</th>\n",
       "      <th>Predicted 1</th>\n",
       "    </tr>\n",
       "  </thead>\n",
       "  <tbody>\n",
       "    <tr>\n",
       "      <th>Actual 0</th>\n",
       "      <td>183</td>\n",
       "      <td>311</td>\n",
       "    </tr>\n",
       "    <tr>\n",
       "      <th>Actual 1</th>\n",
       "      <td>82</td>\n",
       "      <td>509</td>\n",
       "    </tr>\n",
       "  </tbody>\n",
       "</table>\n",
       "</div>"
      ],
      "text/plain": [
       "          Predicted 0  Predicted 1\n",
       "Actual 0          183          311\n",
       "Actual 1           82          509"
      ]
     },
     "metadata": {},
     "output_type": "display_data"
    },
    {
     "name": "stdout",
     "output_type": "stream",
     "text": [
      "Classification Report\n",
      "              precision    recall  f1-score   support\n",
      "\n",
      "         0.0       0.69      0.37      0.48       494\n",
      "         1.0       0.62      0.86      0.72       591\n",
      "\n",
      "    accuracy                           0.64      1085\n",
      "   macro avg       0.66      0.62      0.60      1085\n",
      "weighted avg       0.65      0.64      0.61      1085\n",
      "\n"
     ]
    }
   ],
   "source": [
    "# Calculating the confusion matrix\n",
    "cm = confusion_matrix(y_test, predictions)\n",
    "cm_df = pd.DataFrame(\n",
    "    cm, index=[\"Actual 0\", \"Actual 1\"], columns=[\"Predicted 0\", \"Predicted 1\"]\n",
    ")\n",
    "\n",
    "\n",
    "print(\"Confusion Matrix\")\n",
    "display(cm_df)\n",
    "print(\"Classification Report\")\n",
    "print(classification_report(y_test, predictions))"
   ]
  },
  {
   "cell_type": "code",
   "execution_count": 229,
   "metadata": {},
   "outputs": [
    {
     "data": {
      "text/plain": [
       "[(0.5036382234645778, 'eom_trading_signal'),\n",
       " (0.15132358159830986, 'macd_trading_signal'),\n",
       " (0.08583151477200998, 'nvi_trading_signal'),\n",
       " (0.08033302154040318, 'kst_trading_signal'),\n",
       " (0.06715371900775947, 'rsi_trading_signal'),\n",
       " (0.04280323447688591, 'awe_osc_trading_signal'),\n",
       " (0.023951232822196834, 'tsi_trading_signal'),\n",
       " (0.017723724225382452, 'so_trading_signal'),\n",
       " (0.010511433750691846, 'cmf_trading_signal'),\n",
       " (0.00703401630405222, 'cci_trading_signal')]"
      ]
     },
     "execution_count": 229,
     "metadata": {},
     "output_type": "execute_result"
    }
   ],
   "source": [
    "importances = goog_model.feature_importances_\n",
    "\n",
    "importances_sorted = sorted(zip(goog_model.feature_importances_, X_test.columns), reverse=True)\n",
    "importances_sorted[:10]"
   ]
  },
  {
   "cell_type": "code",
   "execution_count": 230,
   "metadata": {},
   "outputs": [],
   "source": [
    "## This time around we run the analysis again using a much simpler set of features - only EOM & MACD, which\n",
    "## were the top two indicators for all stocks."
   ]
  },
  {
   "cell_type": "code",
   "execution_count": 231,
   "metadata": {},
   "outputs": [],
   "source": [
    "## FB W/ EOM & MACD\n",
    "\n",
    "X_train = fb_df_rff[['eom_trading_signal','macd_trading_signal']][0:(nrows - ntest)]\n",
    "y_train = fb_df_rff['positive_return'][0:(nrows - ntest)]  \n",
    "X_test = fb_df_rff[['eom_trading_signal','macd_trading_signal']][(nrows - ntest):]\n",
    "y_test = fb_df_rff['positive_return'][(nrows - ntest):]\n",
    "\n",
    "# Fit a SKLearn linear regression using just the training set (X_train, Y_train):\n",
    "fb_model_t2 = RandomForestClassifier(n_estimators=100, max_depth=3, random_state=0)\n",
    "\n",
    "fb_model_t2.fit(X_train, y_train)\n",
    "\n",
    "# Make a prediction of \"y\" values from the X_test dataset\n",
    "predictions = fb_model_t2.predict(X_test)\n",
    "\n",
    "# Assemble actual y data (Y_test) with predicted y data (from just above) into two columns in a dataframe:\n",
    "fb_t2_results = y_test.to_frame()\n",
    "fb_t2_results.columns = ['Actual Value']\n",
    "fb_t2_results[\"Predicted Value\"] = predictions"
   ]
  },
  {
   "cell_type": "code",
   "execution_count": 232,
   "metadata": {},
   "outputs": [
    {
     "name": "stdout",
     "output_type": "stream",
     "text": [
      "FB Accuracy: 0.68\n"
     ]
    }
   ],
   "source": [
    "score = accuracy_score(fb_t2_results['Actual Value'], fb_t2_results['Predicted Value'])\n",
    "print(f\"FB Accuracy: {score}\")"
   ]
  },
  {
   "cell_type": "code",
   "execution_count": 233,
   "metadata": {},
   "outputs": [
    {
     "name": "stdout",
     "output_type": "stream",
     "text": [
      "Confusion Matrix\n"
     ]
    },
    {
     "data": {
      "text/html": [
       "<div>\n",
       "<style scoped>\n",
       "    .dataframe tbody tr th:only-of-type {\n",
       "        vertical-align: middle;\n",
       "    }\n",
       "\n",
       "    .dataframe tbody tr th {\n",
       "        vertical-align: top;\n",
       "    }\n",
       "\n",
       "    .dataframe thead th {\n",
       "        text-align: right;\n",
       "    }\n",
       "</style>\n",
       "<table border=\"1\" class=\"dataframe\">\n",
       "  <thead>\n",
       "    <tr style=\"text-align: right;\">\n",
       "      <th></th>\n",
       "      <th>Predicted 0</th>\n",
       "      <th>Predicted 1</th>\n",
       "    </tr>\n",
       "  </thead>\n",
       "  <tbody>\n",
       "    <tr>\n",
       "      <th>Actual 0</th>\n",
       "      <td>100</td>\n",
       "      <td>130</td>\n",
       "    </tr>\n",
       "    <tr>\n",
       "      <th>Actual 1</th>\n",
       "      <td>30</td>\n",
       "      <td>240</td>\n",
       "    </tr>\n",
       "  </tbody>\n",
       "</table>\n",
       "</div>"
      ],
      "text/plain": [
       "          Predicted 0  Predicted 1\n",
       "Actual 0          100          130\n",
       "Actual 1           30          240"
      ]
     },
     "metadata": {},
     "output_type": "display_data"
    },
    {
     "name": "stdout",
     "output_type": "stream",
     "text": [
      "Classification Report\n",
      "              precision    recall  f1-score   support\n",
      "\n",
      "         0.0       0.77      0.43      0.56       230\n",
      "         1.0       0.65      0.89      0.75       270\n",
      "\n",
      "    accuracy                           0.68       500\n",
      "   macro avg       0.71      0.66      0.65       500\n",
      "weighted avg       0.70      0.68      0.66       500\n",
      "\n"
     ]
    }
   ],
   "source": [
    "# Calculating the confusion matrix\n",
    "cm = confusion_matrix(y_test, predictions)\n",
    "cm_df = pd.DataFrame(\n",
    "    cm, index=[\"Actual 0\", \"Actual 1\"], columns=[\"Predicted 0\", \"Predicted 1\"]\n",
    ")\n",
    "\n",
    "\n",
    "print(\"Confusion Matrix\")\n",
    "display(cm_df)\n",
    "print(\"Classification Report\")\n",
    "print(classification_report(y_test, predictions))"
   ]
  },
  {
   "cell_type": "code",
   "execution_count": 234,
   "metadata": {},
   "outputs": [
    {
     "data": {
      "text/plain": [
       "[(0.745883791391962, 'eom_trading_signal'),\n",
       " (0.254116208608038, 'macd_trading_signal')]"
      ]
     },
     "execution_count": 234,
     "metadata": {},
     "output_type": "execute_result"
    }
   ],
   "source": [
    "importances = fb_model_t2.feature_importances_\n",
    "\n",
    "importances_sorted = sorted(zip(fb_model_t2.feature_importances_, X_test.columns), reverse=True)\n",
    "importances_sorted[:10]"
   ]
  },
  {
   "cell_type": "code",
   "execution_count": 235,
   "metadata": {},
   "outputs": [],
   "source": [
    "## This does almost the same as the 13 feature model, which is interesting, but the number of false buy singals\n",
    "## for this stock is still really high."
   ]
  },
  {
   "cell_type": "code",
   "execution_count": 236,
   "metadata": {},
   "outputs": [],
   "source": [
    "## AAPL W/EOM & MACD\n",
    "\n",
    "X_train = aapl_df_rff[['eom_trading_signal','macd_trading_signal']][0:(nrows - ntest)]\n",
    "y_train = aapl_df_rff['positive_return'][0:(nrows - ntest)]  \n",
    "X_test = aapl_df_rff[['eom_trading_signal','macd_trading_signal']][(nrows - ntest):]\n",
    "y_test = aapl_df_rff['positive_return'][(nrows - ntest):]\n",
    "\n",
    "# Fit a SKLearn linear regression using just the training set (X_train, Y_train):\n",
    "aapl_model_t2 = RandomForestClassifier(n_estimators=100, max_depth=3, random_state=0)\n",
    "\n",
    "aapl_model_t2.fit(X_train, y_train)\n",
    "\n",
    "# Make a prediction of \"y\" values from the X_test dataset\n",
    "predictions = aapl_model_t2.predict(X_test)\n",
    "\n",
    "# Assemble actual y data (Y_test) with predicted y data (from just above) into two columns in a dataframe:\n",
    "aapl_t2_results = y_test.to_frame()\n",
    "aapl_t2_results.columns = ['Actual Value']\n",
    "aapl_t2_results[\"Predicted Value\"] = predictions"
   ]
  },
  {
   "cell_type": "code",
   "execution_count": 237,
   "metadata": {},
   "outputs": [
    {
     "name": "stdout",
     "output_type": "stream",
     "text": [
      "AAPL Accuracy: 0.6132848043676069\n"
     ]
    }
   ],
   "source": [
    "score = accuracy_score(aapl_t2_results['Actual Value'], aapl_t2_results['Predicted Value'])\n",
    "print(f\"AAPL Accuracy: {score}\")"
   ]
  },
  {
   "cell_type": "code",
   "execution_count": 238,
   "metadata": {},
   "outputs": [
    {
     "name": "stdout",
     "output_type": "stream",
     "text": [
      "Confusion Matrix\n"
     ]
    },
    {
     "data": {
      "text/html": [
       "<div>\n",
       "<style scoped>\n",
       "    .dataframe tbody tr th:only-of-type {\n",
       "        vertical-align: middle;\n",
       "    }\n",
       "\n",
       "    .dataframe tbody tr th {\n",
       "        vertical-align: top;\n",
       "    }\n",
       "\n",
       "    .dataframe thead th {\n",
       "        text-align: right;\n",
       "    }\n",
       "</style>\n",
       "<table border=\"1\" class=\"dataframe\">\n",
       "  <thead>\n",
       "    <tr style=\"text-align: right;\">\n",
       "      <th></th>\n",
       "      <th>Predicted 0</th>\n",
       "      <th>Predicted 1</th>\n",
       "    </tr>\n",
       "  </thead>\n",
       "  <tbody>\n",
       "    <tr>\n",
       "      <th>Actual 0</th>\n",
       "      <td>455</td>\n",
       "      <td>45</td>\n",
       "    </tr>\n",
       "    <tr>\n",
       "      <th>Actual 1</th>\n",
       "      <td>380</td>\n",
       "      <td>219</td>\n",
       "    </tr>\n",
       "  </tbody>\n",
       "</table>\n",
       "</div>"
      ],
      "text/plain": [
       "          Predicted 0  Predicted 1\n",
       "Actual 0          455           45\n",
       "Actual 1          380          219"
      ]
     },
     "metadata": {},
     "output_type": "display_data"
    },
    {
     "name": "stdout",
     "output_type": "stream",
     "text": [
      "Classification Report\n",
      "              precision    recall  f1-score   support\n",
      "\n",
      "         0.0       0.54      0.91      0.68       500\n",
      "         1.0       0.83      0.37      0.51       599\n",
      "\n",
      "    accuracy                           0.61      1099\n",
      "   macro avg       0.69      0.64      0.59      1099\n",
      "weighted avg       0.70      0.61      0.59      1099\n",
      "\n"
     ]
    }
   ],
   "source": [
    "# Calculating the confusion matrix\n",
    "cm = confusion_matrix(y_test, predictions)\n",
    "cm_df = pd.DataFrame(\n",
    "    cm, index=[\"Actual 0\", \"Actual 1\"], columns=[\"Predicted 0\", \"Predicted 1\"]\n",
    ")\n",
    "\n",
    "\n",
    "print(\"Confusion Matrix\")\n",
    "display(cm_df)\n",
    "print(\"Classification Report\")\n",
    "print(classification_report(y_test, predictions))"
   ]
  },
  {
   "cell_type": "code",
   "execution_count": 239,
   "metadata": {},
   "outputs": [
    {
     "data": {
      "text/plain": [
       "[(0.5336001940947714, 'macd_trading_signal'),\n",
       " (0.4663998059052285, 'eom_trading_signal')]"
      ]
     },
     "execution_count": 239,
     "metadata": {},
     "output_type": "execute_result"
    }
   ],
   "source": [
    "importances = aapl_model_t2.feature_importances_\n",
    "\n",
    "importances_sorted = sorted(zip(aapl_model_t2.feature_importances_, X_test.columns), reverse=True)\n",
    "importances_sorted[:10]"
   ]
  },
  {
   "cell_type": "code",
   "execution_count": 240,
   "metadata": {},
   "outputs": [],
   "source": [
    "## Even though the accuracy score is worse this has a very low number of false positive for AMZN stock going up,\n",
    "## which should be good for trading."
   ]
  },
  {
   "cell_type": "code",
   "execution_count": 241,
   "metadata": {},
   "outputs": [],
   "source": [
    "## AAMZN W/EOM & MACD\n",
    "\n",
    "X_train = amzn_df_rff[['eom_trading_signal','macd_trading_signal']][0:(nrows - ntest)]\n",
    "y_train = amzn_df_rff['positive_return'][0:(nrows - ntest)]  \n",
    "X_test = amzn_df_rff[['eom_trading_signal','macd_trading_signal']][(nrows - ntest):]\n",
    "y_test = amzn_df_rff['positive_return'][(nrows - ntest):]\n",
    "\n",
    "# Fit a SKLearn linear regression using just the training set (X_train, Y_train):\n",
    "amzn_model_t2 = RandomForestClassifier(n_estimators=100, max_depth=3, random_state=0)\n",
    "\n",
    "amzn_model_t2.fit(X_train, y_train)\n",
    "\n",
    "# Make a prediction of \"y\" values from the X_test dataset\n",
    "predictions = amzn_model_t2.predict(X_test)\n",
    "\n",
    "# Assemble actual y data (Y_test) with predicted y data (from just above) into two columns in a dataframe:\n",
    "amzn_t2_results = y_test.to_frame()\n",
    "amzn_t2_results.columns = ['Actual Value']\n",
    "amzn_t2_results[\"Predicted Value\"] = predictions"
   ]
  },
  {
   "cell_type": "code",
   "execution_count": 242,
   "metadata": {},
   "outputs": [
    {
     "name": "stdout",
     "output_type": "stream",
     "text": [
      "AMZN T2 Accuracy: 0.6050955414012739\n"
     ]
    }
   ],
   "source": [
    "score = accuracy_score(amzn_t2_results['Actual Value'], amzn_t2_results['Predicted Value'])\n",
    "print(f\"AMZN T2 Accuracy: {score}\")"
   ]
  },
  {
   "cell_type": "code",
   "execution_count": 243,
   "metadata": {},
   "outputs": [
    {
     "name": "stdout",
     "output_type": "stream",
     "text": [
      "Confusion Matrix\n"
     ]
    },
    {
     "data": {
      "text/html": [
       "<div>\n",
       "<style scoped>\n",
       "    .dataframe tbody tr th:only-of-type {\n",
       "        vertical-align: middle;\n",
       "    }\n",
       "\n",
       "    .dataframe tbody tr th {\n",
       "        vertical-align: top;\n",
       "    }\n",
       "\n",
       "    .dataframe thead th {\n",
       "        text-align: right;\n",
       "    }\n",
       "</style>\n",
       "<table border=\"1\" class=\"dataframe\">\n",
       "  <thead>\n",
       "    <tr style=\"text-align: right;\">\n",
       "      <th></th>\n",
       "      <th>Predicted 0</th>\n",
       "      <th>Predicted 1</th>\n",
       "    </tr>\n",
       "  </thead>\n",
       "  <tbody>\n",
       "    <tr>\n",
       "      <th>Actual 0</th>\n",
       "      <td>439</td>\n",
       "      <td>43</td>\n",
       "    </tr>\n",
       "    <tr>\n",
       "      <th>Actual 1</th>\n",
       "      <td>391</td>\n",
       "      <td>226</td>\n",
       "    </tr>\n",
       "  </tbody>\n",
       "</table>\n",
       "</div>"
      ],
      "text/plain": [
       "          Predicted 0  Predicted 1\n",
       "Actual 0          439           43\n",
       "Actual 1          391          226"
      ]
     },
     "metadata": {},
     "output_type": "display_data"
    },
    {
     "name": "stdout",
     "output_type": "stream",
     "text": [
      "Classification Report\n",
      "              precision    recall  f1-score   support\n",
      "\n",
      "         0.0       0.53      0.91      0.67       482\n",
      "         1.0       0.84      0.37      0.51       617\n",
      "\n",
      "    accuracy                           0.61      1099\n",
      "   macro avg       0.68      0.64      0.59      1099\n",
      "weighted avg       0.70      0.61      0.58      1099\n",
      "\n"
     ]
    }
   ],
   "source": [
    "# Calculating the confusion matrix\n",
    "cm = confusion_matrix(y_test, predictions)\n",
    "cm_df = pd.DataFrame(\n",
    "    cm, index=[\"Actual 0\", \"Actual 1\"], columns=[\"Predicted 0\", \"Predicted 1\"]\n",
    ")\n",
    "\n",
    "\n",
    "print(\"Confusion Matrix\")\n",
    "display(cm_df)\n",
    "print(\"Classification Report\")\n",
    "print(classification_report(y_test, predictions))"
   ]
  },
  {
   "cell_type": "code",
   "execution_count": 244,
   "metadata": {},
   "outputs": [
    {
     "data": {
      "text/plain": [
       "[(0.6931185413775798, 'eom_trading_signal'),\n",
       " (0.3068814586224202, 'macd_trading_signal')]"
      ]
     },
     "execution_count": 244,
     "metadata": {},
     "output_type": "execute_result"
    }
   ],
   "source": [
    "importances = amzn_model_t2.feature_importances_\n",
    "\n",
    "importances_sorted = sorted(zip(amzn_model_t2.feature_importances_, X_test.columns), reverse=True)\n",
    "importances_sorted[:10]"
   ]
  },
  {
   "cell_type": "code",
   "execution_count": 245,
   "metadata": {},
   "outputs": [],
   "source": [
    "## Even though the accuracy score is worse this has a very low number of false positive for AMZN stock going up,\n",
    "## which should be good for trading."
   ]
  },
  {
   "cell_type": "code",
   "execution_count": 246,
   "metadata": {},
   "outputs": [],
   "source": [
    "## NFLX W/EOM & MACD\n",
    "\n",
    "X_train = nflx_df_rff[['eom_trading_signal','macd_trading_signal']][0:(nrows - ntest)]\n",
    "y_train = nflx_df_rff['positive_return'][0:(nrows - ntest)]  \n",
    "X_test = nflx_df_rff[['eom_trading_signal','macd_trading_signal']][(nrows - ntest):]\n",
    "y_test = nflx_df_rff['positive_return'][(nrows - ntest):]\n",
    "\n",
    "# Fit a SKLearn linear regression using just the training set (X_train, Y_train):\n",
    "nflx_model_t2 = RandomForestClassifier(n_estimators=100, max_depth=3, random_state=0)\n",
    "\n",
    "nflx_model_t2.fit(X_train, y_train)\n",
    "\n",
    "# Make a prediction of \"y\" values from the X_test dataset\n",
    "predictions = nflx_model_t2.predict(X_test)\n",
    "\n",
    "# Assemble actual y data (Y_test) with predicted y data (from just above) into two columns in a dataframe:\n",
    "nflx_t2_results = y_test.to_frame()\n",
    "nflx_t2_results.columns = ['Actual Value']\n",
    "nflx_t2_results[\"Predicted Value\"] = predictions"
   ]
  },
  {
   "cell_type": "code",
   "execution_count": 247,
   "metadata": {},
   "outputs": [
    {
     "name": "stdout",
     "output_type": "stream",
     "text": [
      "NFLX T2 Accuracy: 0.6302367941712204\n"
     ]
    }
   ],
   "source": [
    "score = accuracy_score(nflx_t2_results['Actual Value'], nflx_t2_results['Predicted Value'])\n",
    "print(f\"NFLX T2 Accuracy: {score}\")"
   ]
  },
  {
   "cell_type": "code",
   "execution_count": 248,
   "metadata": {},
   "outputs": [
    {
     "name": "stdout",
     "output_type": "stream",
     "text": [
      "Confusion Matrix\n"
     ]
    },
    {
     "data": {
      "text/html": [
       "<div>\n",
       "<style scoped>\n",
       "    .dataframe tbody tr th:only-of-type {\n",
       "        vertical-align: middle;\n",
       "    }\n",
       "\n",
       "    .dataframe tbody tr th {\n",
       "        vertical-align: top;\n",
       "    }\n",
       "\n",
       "    .dataframe thead th {\n",
       "        text-align: right;\n",
       "    }\n",
       "</style>\n",
       "<table border=\"1\" class=\"dataframe\">\n",
       "  <thead>\n",
       "    <tr style=\"text-align: right;\">\n",
       "      <th></th>\n",
       "      <th>Predicted 0</th>\n",
       "      <th>Predicted 1</th>\n",
       "    </tr>\n",
       "  </thead>\n",
       "  <tbody>\n",
       "    <tr>\n",
       "      <th>Actual 0</th>\n",
       "      <td>484</td>\n",
       "      <td>51</td>\n",
       "    </tr>\n",
       "    <tr>\n",
       "      <th>Actual 1</th>\n",
       "      <td>355</td>\n",
       "      <td>208</td>\n",
       "    </tr>\n",
       "  </tbody>\n",
       "</table>\n",
       "</div>"
      ],
      "text/plain": [
       "          Predicted 0  Predicted 1\n",
       "Actual 0          484           51\n",
       "Actual 1          355          208"
      ]
     },
     "metadata": {},
     "output_type": "display_data"
    },
    {
     "name": "stdout",
     "output_type": "stream",
     "text": [
      "Classification Report\n",
      "              precision    recall  f1-score   support\n",
      "\n",
      "         0.0       0.58      0.90      0.70       535\n",
      "         1.0       0.80      0.37      0.51       563\n",
      "\n",
      "    accuracy                           0.63      1098\n",
      "   macro avg       0.69      0.64      0.61      1098\n",
      "weighted avg       0.69      0.63      0.60      1098\n",
      "\n"
     ]
    }
   ],
   "source": [
    "# Calculating the confusion matrix\n",
    "cm = confusion_matrix(y_test, predictions)\n",
    "cm_df = pd.DataFrame(\n",
    "    cm, index=[\"Actual 0\", \"Actual 1\"], columns=[\"Predicted 0\", \"Predicted 1\"]\n",
    ")\n",
    "\n",
    "\n",
    "print(\"Confusion Matrix\")\n",
    "display(cm_df)\n",
    "print(\"Classification Report\")\n",
    "print(classification_report(y_test, predictions))"
   ]
  },
  {
   "cell_type": "code",
   "execution_count": 249,
   "metadata": {},
   "outputs": [
    {
     "data": {
      "text/plain": [
       "[(0.6079465071875402, 'eom_trading_signal'),\n",
       " (0.3920534928124599, 'macd_trading_signal')]"
      ]
     },
     "execution_count": 249,
     "metadata": {},
     "output_type": "execute_result"
    }
   ],
   "source": [
    "importances = nflx_model_t2.feature_importances_\n",
    "\n",
    "importances_sorted = sorted(zip(nflx_model_t2.feature_importances_, X_test.columns), reverse=True)\n",
    "importances_sorted[:2]"
   ]
  },
  {
   "cell_type": "code",
   "execution_count": 250,
   "metadata": {},
   "outputs": [],
   "source": [
    "## GOOG W/EOM & MACD\n",
    "\n",
    "X_train = goog_df_rff[['eom_trading_signal','macd_trading_signal']][0:(nrows - ntest)]\n",
    "y_train = goog_df_rff['positive_return'][0:(nrows - ntest)]  \n",
    "X_test = goog_df_rff[['eom_trading_signal','macd_trading_signal']][(nrows - ntest):]\n",
    "y_test = goog_df_rff['positive_return'][(nrows - ntest):]\n",
    "\n",
    "# Fit a SKLearn linear regression using just the training set (X_train, Y_train):\n",
    "goog_model_t2 = RandomForestClassifier(n_estimators=100, max_depth=3, random_state=0)\n",
    "\n",
    "goog_model_t2.fit(X_train, y_train)\n",
    "\n",
    "# Make a prediction of \"y\" values from the X_test dataset\n",
    "predictions = goog_model_t2.predict(X_test)\n",
    "\n",
    "# Assemble actual y data (Y_test) with predicted y data (from just above) into two columns in a dataframe:\n",
    "goog_t2_results = y_test.to_frame()\n",
    "goog_t2_results.columns = ['Actual Value']\n",
    "goog_t2_results[\"Predicted Value\"] = predictions"
   ]
  },
  {
   "cell_type": "code",
   "execution_count": 251,
   "metadata": {},
   "outputs": [
    {
     "name": "stdout",
     "output_type": "stream",
     "text": [
      "GOOG T2 Accuracy: 0.6285714285714286\n"
     ]
    }
   ],
   "source": [
    "score = accuracy_score(goog_t2_results['Actual Value'], goog_t2_results['Predicted Value'])\n",
    "print(f\"GOOG T2 Accuracy: {score}\")"
   ]
  },
  {
   "cell_type": "code",
   "execution_count": 252,
   "metadata": {},
   "outputs": [
    {
     "name": "stdout",
     "output_type": "stream",
     "text": [
      "Confusion Matrix\n"
     ]
    },
    {
     "data": {
      "text/html": [
       "<div>\n",
       "<style scoped>\n",
       "    .dataframe tbody tr th:only-of-type {\n",
       "        vertical-align: middle;\n",
       "    }\n",
       "\n",
       "    .dataframe tbody tr th {\n",
       "        vertical-align: top;\n",
       "    }\n",
       "\n",
       "    .dataframe thead th {\n",
       "        text-align: right;\n",
       "    }\n",
       "</style>\n",
       "<table border=\"1\" class=\"dataframe\">\n",
       "  <thead>\n",
       "    <tr style=\"text-align: right;\">\n",
       "      <th></th>\n",
       "      <th>Predicted 0</th>\n",
       "      <th>Predicted 1</th>\n",
       "    </tr>\n",
       "  </thead>\n",
       "  <tbody>\n",
       "    <tr>\n",
       "      <th>Actual 0</th>\n",
       "      <td>170</td>\n",
       "      <td>324</td>\n",
       "    </tr>\n",
       "    <tr>\n",
       "      <th>Actual 1</th>\n",
       "      <td>79</td>\n",
       "      <td>512</td>\n",
       "    </tr>\n",
       "  </tbody>\n",
       "</table>\n",
       "</div>"
      ],
      "text/plain": [
       "          Predicted 0  Predicted 1\n",
       "Actual 0          170          324\n",
       "Actual 1           79          512"
      ]
     },
     "metadata": {},
     "output_type": "display_data"
    },
    {
     "name": "stdout",
     "output_type": "stream",
     "text": [
      "Classification Report\n",
      "              precision    recall  f1-score   support\n",
      "\n",
      "         0.0       0.68      0.34      0.46       494\n",
      "         1.0       0.61      0.87      0.72       591\n",
      "\n",
      "    accuracy                           0.63      1085\n",
      "   macro avg       0.65      0.61      0.59      1085\n",
      "weighted avg       0.64      0.63      0.60      1085\n",
      "\n"
     ]
    }
   ],
   "source": [
    "# Calculating the confusion matrix\n",
    "cm = confusion_matrix(y_test, predictions)\n",
    "cm_df = pd.DataFrame(\n",
    "    cm, index=[\"Actual 0\", \"Actual 1\"], columns=[\"Predicted 0\", \"Predicted 1\"]\n",
    ")\n",
    "\n",
    "\n",
    "print(\"Confusion Matrix\")\n",
    "display(cm_df)\n",
    "print(\"Classification Report\")\n",
    "print(classification_report(y_test, predictions))"
   ]
  },
  {
   "cell_type": "code",
   "execution_count": 253,
   "metadata": {},
   "outputs": [
    {
     "data": {
      "text/plain": [
       "[(0.7821697904609463, 'eom_trading_signal'),\n",
       " (0.21783020953905366, 'macd_trading_signal')]"
      ]
     },
     "execution_count": 253,
     "metadata": {},
     "output_type": "execute_result"
    }
   ],
   "source": [
    "importances = goog_model_t2.feature_importances_\n",
    "\n",
    "importances_sorted = sorted(zip(goog_model_t2.feature_importances_, X_test.columns), reverse=True)\n",
    "importances_sorted[:2]"
   ]
  },
  {
   "cell_type": "code",
   "execution_count": 254,
   "metadata": {},
   "outputs": [],
   "source": [
    "## So looking at the top two indicators was interesting, it doesn't work that well for FB of GOOG, does a \n",
    "## little better for NFLX, but there are very low level of false positives for the buy signals for AAPL &\n",
    "## AMZN. It's also interesting that they use fairly different proportions of EOM & MACD."
   ]
  },
  {
   "cell_type": "code",
   "execution_count": 255,
   "metadata": {},
   "outputs": [],
   "source": [
    "## For the next round of models we took any indicator that made up more than 5% of the final result when\n",
    "## running the 13 indicator list on each stock."
   ]
  },
  {
   "cell_type": "code",
   "execution_count": 256,
   "metadata": {},
   "outputs": [],
   "source": [
    "## FB WITH IT'S BEST INDICATORS - EOM, MACD, CCI, RSI, SO\n",
    "\n",
    "X_train = fb_df_rff[['rsi_trading_signal','so_trading_signal','cci_trading_signal','eom_trading_signal','macd_trading_signal']][0:(nrows - ntest)]\n",
    "y_train = fb_df_rff['positive_return'][0:(nrows - ntest)]  \n",
    "X_test = fb_df_rff[['rsi_trading_signal','so_trading_signal','cci_trading_signal','eom_trading_signal','macd_trading_signal']][(nrows - ntest):]\n",
    "y_test = fb_df_rff['positive_return'][(nrows - ntest):]\n",
    "\n",
    "# Fit a SKLearn linear regression using just the training set (X_train, Y_train):\n",
    "fb_selected_model = RandomForestClassifier(n_estimators=100, max_depth=3, random_state=0)\n",
    "\n",
    "fb_selected_model.fit(X_train, y_train)\n",
    "\n",
    "# Make a prediction of \"y\" values from the X_test dataset\n",
    "predictions = fb_selected_model.predict(X_test)\n",
    "\n",
    "# Assemble actual y data (Y_test) with predicted y data (from just above) into two columns in a dataframe:\n",
    "fb_selected_results = y_test.to_frame()\n",
    "fb_selected_results.columns = ['Actual Value']\n",
    "fb_selected_results[\"Predicted Value\"] = predictions"
   ]
  },
  {
   "cell_type": "code",
   "execution_count": 257,
   "metadata": {},
   "outputs": [
    {
     "name": "stdout",
     "output_type": "stream",
     "text": [
      "FB Selected Accuracy: 0.684\n"
     ]
    }
   ],
   "source": [
    "score = accuracy_score(fb_selected_results['Actual Value'], fb_selected_results['Predicted Value'])\n",
    "print(f\"FB Selected Accuracy: {score}\")"
   ]
  },
  {
   "cell_type": "code",
   "execution_count": 258,
   "metadata": {},
   "outputs": [
    {
     "name": "stdout",
     "output_type": "stream",
     "text": [
      "Confusion Matrix\n"
     ]
    },
    {
     "data": {
      "text/html": [
       "<div>\n",
       "<style scoped>\n",
       "    .dataframe tbody tr th:only-of-type {\n",
       "        vertical-align: middle;\n",
       "    }\n",
       "\n",
       "    .dataframe tbody tr th {\n",
       "        vertical-align: top;\n",
       "    }\n",
       "\n",
       "    .dataframe thead th {\n",
       "        text-align: right;\n",
       "    }\n",
       "</style>\n",
       "<table border=\"1\" class=\"dataframe\">\n",
       "  <thead>\n",
       "    <tr style=\"text-align: right;\">\n",
       "      <th></th>\n",
       "      <th>Predicted 0</th>\n",
       "      <th>Predicted 1</th>\n",
       "    </tr>\n",
       "  </thead>\n",
       "  <tbody>\n",
       "    <tr>\n",
       "      <th>Actual 0</th>\n",
       "      <td>107</td>\n",
       "      <td>123</td>\n",
       "    </tr>\n",
       "    <tr>\n",
       "      <th>Actual 1</th>\n",
       "      <td>35</td>\n",
       "      <td>235</td>\n",
       "    </tr>\n",
       "  </tbody>\n",
       "</table>\n",
       "</div>"
      ],
      "text/plain": [
       "          Predicted 0  Predicted 1\n",
       "Actual 0          107          123\n",
       "Actual 1           35          235"
      ]
     },
     "metadata": {},
     "output_type": "display_data"
    },
    {
     "name": "stdout",
     "output_type": "stream",
     "text": [
      "Classification Report\n",
      "              precision    recall  f1-score   support\n",
      "\n",
      "         0.0       0.75      0.47      0.58       230\n",
      "         1.0       0.66      0.87      0.75       270\n",
      "\n",
      "    accuracy                           0.68       500\n",
      "   macro avg       0.70      0.67      0.66       500\n",
      "weighted avg       0.70      0.68      0.67       500\n",
      "\n"
     ]
    }
   ],
   "source": [
    "# Calculating the confusion matrix\n",
    "cm = confusion_matrix(y_test, predictions)\n",
    "cm_df = pd.DataFrame(\n",
    "    cm, index=[\"Actual 0\", \"Actual 1\"], columns=[\"Predicted 0\", \"Predicted 1\"]\n",
    ")\n",
    "\n",
    "\n",
    "print(\"Confusion Matrix\")\n",
    "display(cm_df)\n",
    "print(\"Classification Report\")\n",
    "print(classification_report(y_test, predictions))"
   ]
  },
  {
   "cell_type": "code",
   "execution_count": 259,
   "metadata": {},
   "outputs": [
    {
     "data": {
      "text/plain": [
       "[(0.5878131861107561, 'eom_trading_signal'),\n",
       " (0.23406039156515893, 'macd_trading_signal'),\n",
       " (0.08181856655125046, 'so_trading_signal'),\n",
       " (0.052843727958694554, 'rsi_trading_signal'),\n",
       " (0.04346412781414012, 'cci_trading_signal')]"
      ]
     },
     "execution_count": 259,
     "metadata": {},
     "output_type": "execute_result"
    }
   ],
   "source": [
    "importances = fb_selected_model.feature_importances_\n",
    "\n",
    "importances_sorted = sorted(zip(fb_selected_model.feature_importances_, X_test.columns), reverse=True)\n",
    "importances_sorted[:10]"
   ]
  },
  {
   "cell_type": "code",
   "execution_count": 260,
   "metadata": {},
   "outputs": [],
   "source": [
    "## This is really close to the results with all 13, the accuracy score is identical but the classificatin report\n",
    "## is slightly different."
   ]
  },
  {
   "cell_type": "code",
   "execution_count": 261,
   "metadata": {},
   "outputs": [],
   "source": [
    "## AAPL W/IT'S BEST INDICATORS - ROC, EOM, KST, MACD\n",
    "\n",
    "X_train = aapl_df_rff[['roc_trading_signal','eom_trading_signal','kst_trading_signal','macd_trading_signal']][0:(nrows - ntest)]\n",
    "y_train = aapl_df_rff['positive_return'][0:(nrows - ntest)]  \n",
    "X_test = aapl_df_rff[['roc_trading_signal','eom_trading_signal','kst_trading_signal','macd_trading_signal']][(nrows - ntest):]\n",
    "y_test = aapl_df_rff['positive_return'][(nrows - ntest):]\n",
    "\n",
    "# Fit a SKLearn linear regression using just the training set (X_train, Y_train):\n",
    "aapl_selected_model = RandomForestClassifier(n_estimators=100, max_depth=3, random_state=0)\n",
    "\n",
    "aapl_selected_model.fit(X_train, y_train)\n",
    "\n",
    "# Make a prediction of \"y\" values from the X_test dataset\n",
    "predictions =aapl_best_model.predict(X_test)\n",
    "\n",
    "# Assemble actual y data (Y_test) with predicted y data (from just above) into two columns in a dataframe:\n",
    "aapl_selected_results = y_test.to_frame()\n",
    "aapl_selected_results.columns = ['Actual Value']\n",
    "aapl_selected_results[\"Predicted Value\"] = predictions"
   ]
  },
  {
   "cell_type": "code",
   "execution_count": 262,
   "metadata": {},
   "outputs": [
    {
     "name": "stdout",
     "output_type": "stream",
     "text": [
      "AAPL Selected Accuracy: 0.6169244767970883\n"
     ]
    }
   ],
   "source": [
    "score = accuracy_score(aapl_selected_results['Actual Value'], aapl_selected_results['Predicted Value'])\n",
    "print(f\"AAPL Selected Accuracy: {score}\")"
   ]
  },
  {
   "cell_type": "code",
   "execution_count": 263,
   "metadata": {},
   "outputs": [
    {
     "name": "stdout",
     "output_type": "stream",
     "text": [
      "Confusion Matrix\n"
     ]
    },
    {
     "data": {
      "text/html": [
       "<div>\n",
       "<style scoped>\n",
       "    .dataframe tbody tr th:only-of-type {\n",
       "        vertical-align: middle;\n",
       "    }\n",
       "\n",
       "    .dataframe tbody tr th {\n",
       "        vertical-align: top;\n",
       "    }\n",
       "\n",
       "    .dataframe thead th {\n",
       "        text-align: right;\n",
       "    }\n",
       "</style>\n",
       "<table border=\"1\" class=\"dataframe\">\n",
       "  <thead>\n",
       "    <tr style=\"text-align: right;\">\n",
       "      <th></th>\n",
       "      <th>Predicted 0</th>\n",
       "      <th>Predicted 1</th>\n",
       "    </tr>\n",
       "  </thead>\n",
       "  <tbody>\n",
       "    <tr>\n",
       "      <th>Actual 0</th>\n",
       "      <td>450</td>\n",
       "      <td>50</td>\n",
       "    </tr>\n",
       "    <tr>\n",
       "      <th>Actual 1</th>\n",
       "      <td>371</td>\n",
       "      <td>228</td>\n",
       "    </tr>\n",
       "  </tbody>\n",
       "</table>\n",
       "</div>"
      ],
      "text/plain": [
       "          Predicted 0  Predicted 1\n",
       "Actual 0          450           50\n",
       "Actual 1          371          228"
      ]
     },
     "metadata": {},
     "output_type": "display_data"
    },
    {
     "name": "stdout",
     "output_type": "stream",
     "text": [
      "Classification Report\n",
      "              precision    recall  f1-score   support\n",
      "\n",
      "         0.0       0.55      0.90      0.68       500\n",
      "         1.0       0.82      0.38      0.52       599\n",
      "\n",
      "    accuracy                           0.62      1099\n",
      "   macro avg       0.68      0.64      0.60      1099\n",
      "weighted avg       0.70      0.62      0.59      1099\n",
      "\n"
     ]
    }
   ],
   "source": [
    "# Calculating the confusion matrix\n",
    "cm = confusion_matrix(y_test, predictions)\n",
    "cm_df = pd.DataFrame(\n",
    "    cm, index=[\"Actual 0\", \"Actual 1\"], columns=[\"Predicted 0\", \"Predicted 1\"]\n",
    ")\n",
    "\n",
    "\n",
    "print(\"Confusion Matrix\")\n",
    "display(cm_df)\n",
    "print(\"Classification Report\")\n",
    "print(classification_report(y_test, predictions))"
   ]
  },
  {
   "cell_type": "code",
   "execution_count": 264,
   "metadata": {},
   "outputs": [
    {
     "data": {
      "text/plain": [
       "[(0.456327110040037, 'macd_trading_signal'),\n",
       " (0.42725573980299136, 'eom_trading_signal'),\n",
       " (0.07523415356447705, 'roc_trading_signal'),\n",
       " (0.04118299659249464, 'kst_trading_signal')]"
      ]
     },
     "execution_count": 264,
     "metadata": {},
     "output_type": "execute_result"
    }
   ],
   "source": [
    "importances = aapl_selected_model.feature_importances_\n",
    "\n",
    "importances_sorted = sorted(zip(aapl_selected_model.feature_importances_, X_test.columns), reverse=True)\n",
    "importances_sorted[:4]"
   ]
  },
  {
   "cell_type": "code",
   "execution_count": 265,
   "metadata": {},
   "outputs": [],
   "source": [
    "## AMZN RANDOM FOREST W/IT'S BEST INDICATORS - SO, NVI, EOM, MACD\n",
    "\n",
    "X_train = amzn_df_rff[['so_trading_signal','eom_trading_signal','nvi_trading_signal','macd_trading_signal']][0:(nrows - ntest)]\n",
    "y_train = amzn_df_rff['positive_return'][0:(nrows - ntest)]  \n",
    "X_test = amzn_df_rff[['so_trading_signal','eom_trading_signal','nvi_trading_signal','macd_trading_signal']][(nrows - ntest):]\n",
    "y_test = amzn_df_rff['positive_return'][(nrows - ntest):]\n",
    "\n",
    "# Fit a SKLearn linear regression using just the training set (X_train, Y_train):\n",
    "amzn_selected_model = RandomForestClassifier(n_estimators=100, max_depth=3, random_state=0)\n",
    "\n",
    "amzn_selected_model.fit(X_train, y_train)\n",
    "\n",
    "# Make a prediction of \"y\" values from the X_test dataset\n",
    "predictions = amzn_selected_model.predict(X_test)\n",
    "\n",
    "# Assemble actual y data (Y_test) with predicted y data (from just above) into two columns in a dataframe:\n",
    "amzn_selected_results = y_test.to_frame()\n",
    "amzn_selected_results.columns = ['Actual Value']\n",
    "amzn_selected_results[\"Predicted Value\"] = predictions"
   ]
  },
  {
   "cell_type": "code",
   "execution_count": 266,
   "metadata": {},
   "outputs": [
    {
     "name": "stdout",
     "output_type": "stream",
     "text": [
      "AMZN Selected Accuracy: 0.705186533212011\n"
     ]
    }
   ],
   "source": [
    "score = accuracy_score(amzn_selected_results['Actual Value'], amzn_selected_results['Predicted Value'])\n",
    "print(f\"AMZN Selected Accuracy: {score}\")"
   ]
  },
  {
   "cell_type": "code",
   "execution_count": 267,
   "metadata": {},
   "outputs": [
    {
     "name": "stdout",
     "output_type": "stream",
     "text": [
      "Confusion Matrix\n"
     ]
    },
    {
     "data": {
      "text/html": [
       "<div>\n",
       "<style scoped>\n",
       "    .dataframe tbody tr th:only-of-type {\n",
       "        vertical-align: middle;\n",
       "    }\n",
       "\n",
       "    .dataframe tbody tr th {\n",
       "        vertical-align: top;\n",
       "    }\n",
       "\n",
       "    .dataframe thead th {\n",
       "        text-align: right;\n",
       "    }\n",
       "</style>\n",
       "<table border=\"1\" class=\"dataframe\">\n",
       "  <thead>\n",
       "    <tr style=\"text-align: right;\">\n",
       "      <th></th>\n",
       "      <th>Predicted 0</th>\n",
       "      <th>Predicted 1</th>\n",
       "    </tr>\n",
       "  </thead>\n",
       "  <tbody>\n",
       "    <tr>\n",
       "      <th>Actual 0</th>\n",
       "      <td>235</td>\n",
       "      <td>247</td>\n",
       "    </tr>\n",
       "    <tr>\n",
       "      <th>Actual 1</th>\n",
       "      <td>77</td>\n",
       "      <td>540</td>\n",
       "    </tr>\n",
       "  </tbody>\n",
       "</table>\n",
       "</div>"
      ],
      "text/plain": [
       "          Predicted 0  Predicted 1\n",
       "Actual 0          235          247\n",
       "Actual 1           77          540"
      ]
     },
     "metadata": {},
     "output_type": "display_data"
    },
    {
     "name": "stdout",
     "output_type": "stream",
     "text": [
      "Classification Report\n",
      "              precision    recall  f1-score   support\n",
      "\n",
      "         0.0       0.75      0.49      0.59       482\n",
      "         1.0       0.69      0.88      0.77       617\n",
      "\n",
      "    accuracy                           0.71      1099\n",
      "   macro avg       0.72      0.68      0.68      1099\n",
      "weighted avg       0.72      0.71      0.69      1099\n",
      "\n"
     ]
    }
   ],
   "source": [
    "# Calculating the confusion matrix\n",
    "cm = confusion_matrix(y_test, predictions)\n",
    "cm_df = pd.DataFrame(\n",
    "    cm, index=[\"Actual 0\", \"Actual 1\"], columns=[\"Predicted 0\", \"Predicted 1\"]\n",
    ")\n",
    "\n",
    "\n",
    "print(\"Confusion Matrix\")\n",
    "display(cm_df)\n",
    "print(\"Classification Report\")\n",
    "print(classification_report(y_test, predictions))"
   ]
  },
  {
   "cell_type": "code",
   "execution_count": 268,
   "metadata": {},
   "outputs": [
    {
     "data": {
      "text/plain": [
       "[(0.6058051354908652, 'eom_trading_signal'),\n",
       " (0.24887001731582178, 'macd_trading_signal'),\n",
       " (0.08155810284627503, 'so_trading_signal'),\n",
       " (0.06376674434703791, 'nvi_trading_signal')]"
      ]
     },
     "execution_count": 268,
     "metadata": {},
     "output_type": "execute_result"
    }
   ],
   "source": [
    "importances = amzn_selected_model.feature_importances_\n",
    "\n",
    "importances_sorted = sorted(zip(amzn_selected_model.feature_importances_, X_test.columns), reverse=True)\n",
    "importances_sorted[:4]"
   ]
  },
  {
   "cell_type": "code",
   "execution_count": 269,
   "metadata": {},
   "outputs": [],
   "source": [
    "## The accuracy here is slighly better, but if you look at the confusion matrix it's nowhere near as good\n",
    "## as just EOM & MACD are."
   ]
  },
  {
   "cell_type": "code",
   "execution_count": 270,
   "metadata": {},
   "outputs": [],
   "source": [
    "## NFLX W/IT'S BEST INDICATORS - EOM, MACD, SO, NVI, RSI\n",
    "\n",
    "X_train = nflx_df_rff[['rsi_trading_signal','so_trading_signal','eom_trading_signal','nvi_trading_signal','macd_trading_signal']][0:(nrows - ntest)]\n",
    "y_train = nflx_df_rff['positive_return'][0:(nrows - ntest)]  \n",
    "X_test = nflx_df_rff[['rsi_trading_signal','so_trading_signal','eom_trading_signal','nvi_trading_signal','macd_trading_signal']][(nrows - ntest):]\n",
    "y_test = nflx_df_rff['positive_return'][(nrows - ntest):]\n",
    "\n",
    "# Fit a SKLearn linear regression using just the training set (X_train, Y_train):\n",
    "nflx_selected_model = RandomForestClassifier(n_estimators=100, max_depth=3, random_state=0)\n",
    "\n",
    "nflx_selected_model.fit(X_train, y_train)\n",
    "\n",
    "# Make a prediction of \"y\" values from the X_test dataset\n",
    "predictions = nflx_selected_model.predict(X_test)\n",
    "\n",
    "# Assemble actual y data (Y_test) with predicted y data (from just above) into two columns in a dataframe:\n",
    "nflx_selected_results = y_test.to_frame()\n",
    "nflx_selected_results.columns = ['Actual Value']\n",
    "nflx_selected_results[\"Predicted Value\"] = predictions"
   ]
  },
  {
   "cell_type": "code",
   "execution_count": 271,
   "metadata": {},
   "outputs": [
    {
     "name": "stdout",
     "output_type": "stream",
     "text": [
      "NFLX Selected Accuracy: 0.6484517304189436\n"
     ]
    }
   ],
   "source": [
    "score = accuracy_score(nflx_selected_results['Actual Value'], nflx_selected_results['Predicted Value'])\n",
    "print(f\"NFLX Selected Accuracy: {score}\")"
   ]
  },
  {
   "cell_type": "code",
   "execution_count": 272,
   "metadata": {},
   "outputs": [
    {
     "name": "stdout",
     "output_type": "stream",
     "text": [
      "Confusion Matrix\n"
     ]
    },
    {
     "data": {
      "text/html": [
       "<div>\n",
       "<style scoped>\n",
       "    .dataframe tbody tr th:only-of-type {\n",
       "        vertical-align: middle;\n",
       "    }\n",
       "\n",
       "    .dataframe tbody tr th {\n",
       "        vertical-align: top;\n",
       "    }\n",
       "\n",
       "    .dataframe thead th {\n",
       "        text-align: right;\n",
       "    }\n",
       "</style>\n",
       "<table border=\"1\" class=\"dataframe\">\n",
       "  <thead>\n",
       "    <tr style=\"text-align: right;\">\n",
       "      <th></th>\n",
       "      <th>Predicted 0</th>\n",
       "      <th>Predicted 1</th>\n",
       "    </tr>\n",
       "  </thead>\n",
       "  <tbody>\n",
       "    <tr>\n",
       "      <th>Actual 0</th>\n",
       "      <td>481</td>\n",
       "      <td>54</td>\n",
       "    </tr>\n",
       "    <tr>\n",
       "      <th>Actual 1</th>\n",
       "      <td>332</td>\n",
       "      <td>231</td>\n",
       "    </tr>\n",
       "  </tbody>\n",
       "</table>\n",
       "</div>"
      ],
      "text/plain": [
       "          Predicted 0  Predicted 1\n",
       "Actual 0          481           54\n",
       "Actual 1          332          231"
      ]
     },
     "metadata": {},
     "output_type": "display_data"
    },
    {
     "name": "stdout",
     "output_type": "stream",
     "text": [
      "Classification Report\n",
      "              precision    recall  f1-score   support\n",
      "\n",
      "         0.0       0.59      0.90      0.71       535\n",
      "         1.0       0.81      0.41      0.54       563\n",
      "\n",
      "    accuracy                           0.65      1098\n",
      "   macro avg       0.70      0.65      0.63      1098\n",
      "weighted avg       0.70      0.65      0.63      1098\n",
      "\n"
     ]
    }
   ],
   "source": [
    "# Calculating the confusion matrix\n",
    "cm = confusion_matrix(y_test, predictions)\n",
    "cm_df = pd.DataFrame(\n",
    "    cm, index=[\"Actual 0\", \"Actual 1\"], columns=[\"Predicted 0\", \"Predicted 1\"]\n",
    ")\n",
    "\n",
    "\n",
    "print(\"Confusion Matrix\")\n",
    "display(cm_df)\n",
    "print(\"Classification Report\")\n",
    "print(classification_report(y_test, predictions))"
   ]
  },
  {
   "cell_type": "code",
   "execution_count": 273,
   "metadata": {},
   "outputs": [
    {
     "data": {
      "text/plain": [
       "[(0.48470070149298333, 'eom_trading_signal'),\n",
       " (0.26990228737952904, 'macd_trading_signal'),\n",
       " (0.12545087963062493, 'rsi_trading_signal'),\n",
       " (0.06946894632144678, 'nvi_trading_signal')]"
      ]
     },
     "execution_count": 273,
     "metadata": {},
     "output_type": "execute_result"
    }
   ],
   "source": [
    "importances = nflx_selected_model.feature_importances_\n",
    "\n",
    "importances_sorted = sorted(zip(nflx_selected_model.feature_importances_, X_test.columns), reverse=True)\n",
    "importances_sorted[:4]"
   ]
  },
  {
   "cell_type": "code",
   "execution_count": 274,
   "metadata": {},
   "outputs": [],
   "source": [
    "## GOOG W/ IT'S BEST INDICATORS EOM, MACD, RSI, KST, NVI\n",
    "\n",
    "X_train = goog_df_rff[['rsi_trading_signal','cmf_trading_signal','eom_trading_signal','nvi_trading_signal','kst_trading_signal','macd_trading_signal']][0:(nrows - ntest)]\n",
    "y_train = goog_df_rff['positive_return'][0:(nrows - ntest)]  \n",
    "X_test = goog_df_rff[['rsi_trading_signal','cmf_trading_signal','eom_trading_signal','nvi_trading_signal','kst_trading_signal','macd_trading_signal']][(nrows - ntest):]\n",
    "y_test = goog_df_rff['positive_return'][(nrows - ntest):]\n",
    "\n",
    "# Fit a SKLearn linear regression using just the training set (X_train, Y_train):\n",
    "goog_selected_model = RandomForestClassifier(n_estimators=100, max_depth=3, random_state=0)\n",
    "\n",
    "goog_selected_model.fit(X_train, y_train)\n",
    "\n",
    "# Make a prediction of \"y\" values from the X_test dataset\n",
    "predictions = goog_selected_model.predict(X_test)\n",
    "\n",
    "# Assemble actual y data (Y_test) with predicted y data (from just above) into two columns in a dataframe:\n",
    "goog_selected_results = y_test.to_frame()\n",
    "goog_selected_results.columns = ['Actual Value']\n",
    "goog_selected_results[\"Predicted Value\"] = predictions"
   ]
  },
  {
   "cell_type": "code",
   "execution_count": 275,
   "metadata": {},
   "outputs": [
    {
     "name": "stdout",
     "output_type": "stream",
     "text": [
      "GOOG Selected Accuracy: 0.6368663594470046\n"
     ]
    }
   ],
   "source": [
    "score = accuracy_score(goog_selected_results['Actual Value'], goog_selected_results['Predicted Value'])\n",
    "print(f\"GOOG Selected Accuracy: {score}\")"
   ]
  },
  {
   "cell_type": "code",
   "execution_count": 276,
   "metadata": {},
   "outputs": [
    {
     "name": "stdout",
     "output_type": "stream",
     "text": [
      "Confusion Matrix\n"
     ]
    },
    {
     "data": {
      "text/html": [
       "<div>\n",
       "<style scoped>\n",
       "    .dataframe tbody tr th:only-of-type {\n",
       "        vertical-align: middle;\n",
       "    }\n",
       "\n",
       "    .dataframe tbody tr th {\n",
       "        vertical-align: top;\n",
       "    }\n",
       "\n",
       "    .dataframe thead th {\n",
       "        text-align: right;\n",
       "    }\n",
       "</style>\n",
       "<table border=\"1\" class=\"dataframe\">\n",
       "  <thead>\n",
       "    <tr style=\"text-align: right;\">\n",
       "      <th></th>\n",
       "      <th>Predicted 0</th>\n",
       "      <th>Predicted 1</th>\n",
       "    </tr>\n",
       "  </thead>\n",
       "  <tbody>\n",
       "    <tr>\n",
       "      <th>Actual 0</th>\n",
       "      <td>178</td>\n",
       "      <td>316</td>\n",
       "    </tr>\n",
       "    <tr>\n",
       "      <th>Actual 1</th>\n",
       "      <td>78</td>\n",
       "      <td>513</td>\n",
       "    </tr>\n",
       "  </tbody>\n",
       "</table>\n",
       "</div>"
      ],
      "text/plain": [
       "          Predicted 0  Predicted 1\n",
       "Actual 0          178          316\n",
       "Actual 1           78          513"
      ]
     },
     "metadata": {},
     "output_type": "display_data"
    },
    {
     "name": "stdout",
     "output_type": "stream",
     "text": [
      "Classification Report\n",
      "              precision    recall  f1-score   support\n",
      "\n",
      "         0.0       0.70      0.36      0.47       494\n",
      "         1.0       0.62      0.87      0.72       591\n",
      "\n",
      "    accuracy                           0.64      1085\n",
      "   macro avg       0.66      0.61      0.60      1085\n",
      "weighted avg       0.65      0.64      0.61      1085\n",
      "\n"
     ]
    }
   ],
   "source": [
    "# Calculating the confusion matrix\n",
    "cm = confusion_matrix(y_test, predictions)\n",
    "cm_df = pd.DataFrame(\n",
    "    cm, index=[\"Actual 0\", \"Actual 1\"], columns=[\"Predicted 0\", \"Predicted 1\"]\n",
    ")\n",
    "\n",
    "\n",
    "print(\"Confusion Matrix\")\n",
    "display(cm_df)\n",
    "print(\"Classification Report\")\n",
    "print(classification_report(y_test, predictions))"
   ]
  },
  {
   "cell_type": "code",
   "execution_count": 277,
   "metadata": {},
   "outputs": [
    {
     "data": {
      "text/plain": [
       "[(0.6048639445463136, 'eom_trading_signal'),\n",
       " (0.17639612573940058, 'macd_trading_signal'),\n",
       " (0.08946054158379178, 'kst_trading_signal'),\n",
       " (0.07502744651426053, 'nvi_trading_signal'),\n",
       " (0.04639980271556245, 'rsi_trading_signal')]"
      ]
     },
     "execution_count": 277,
     "metadata": {},
     "output_type": "execute_result"
    }
   ],
   "source": [
    "importances = goog_selected_model.feature_importances_\n",
    "\n",
    "importances_sorted = sorted(zip(goog_selected_model.feature_importances_, X_test.columns), reverse=True)\n",
    "importances_sorted[:5]"
   ]
  },
  {
   "cell_type": "code",
   "execution_count": 278,
   "metadata": {},
   "outputs": [],
   "source": [
    "## Although the AMZN result is slightly better than the all 13 indicator the rest are slightly worse and there's \n",
    "## no result that's simply better."
   ]
  },
  {
   "cell_type": "code",
   "execution_count": 285,
   "metadata": {},
   "outputs": [
    {
     "ename": "FileNotFoundError",
     "evalue": "[Errno 2] No such file or directory: 'C/Users/aaronbsechler/Desktop/uploads/fb_df_final.csv'",
     "output_type": "error",
     "traceback": [
      "\u001b[0;31m---------------------------------------------------------------------------\u001b[0m",
      "\u001b[0;31mFileNotFoundError\u001b[0m                         Traceback (most recent call last)",
      "\u001b[0;32m<ipython-input-285-5eff8cc67839>\u001b[0m in \u001b[0;36m<module>\u001b[0;34m\u001b[0m\n\u001b[0;32m----> 1\u001b[0;31m \u001b[0mfb_df_rff\u001b[0m\u001b[0;34m.\u001b[0m\u001b[0mto_csv\u001b[0m\u001b[0;34m(\u001b[0m\u001b[0;34mr'C/Users/aaronbsechler/Desktop/uploads/fb_df_final.csv'\u001b[0m\u001b[0;34m,\u001b[0m \u001b[0mindex\u001b[0m\u001b[0;34m=\u001b[0m\u001b[0;32mTrue\u001b[0m\u001b[0;34m,\u001b[0m \u001b[0mheader\u001b[0m\u001b[0;34m=\u001b[0m\u001b[0;32mTrue\u001b[0m\u001b[0;34m)\u001b[0m\u001b[0;34m\u001b[0m\u001b[0;34m\u001b[0m\u001b[0m\n\u001b[0m\u001b[1;32m      2\u001b[0m \u001b[0maapl_df_rff\u001b[0m\u001b[0;34m.\u001b[0m\u001b[0mto_csv\u001b[0m\u001b[0;34m(\u001b[0m\u001b[0;34mr'C/Users/aaronbsechler/Desktop/uploads/amzn_df_final.csv'\u001b[0m\u001b[0;34m)\u001b[0m\u001b[0;34m\u001b[0m\u001b[0;34m\u001b[0m\u001b[0m\n\u001b[1;32m      3\u001b[0m \u001b[0mamzn_df_rff\u001b[0m\u001b[0;34m.\u001b[0m\u001b[0mto_csv\u001b[0m\u001b[0;34m(\u001b[0m\u001b[0;34mr'C/Users/aaronbsechler/Desktop/uploads/aapl_df_final.csv'\u001b[0m\u001b[0;34m)\u001b[0m\u001b[0;34m\u001b[0m\u001b[0;34m\u001b[0m\u001b[0m\n\u001b[1;32m      4\u001b[0m \u001b[0mnflx_df_rff\u001b[0m\u001b[0;34m.\u001b[0m\u001b[0mto_csv\u001b[0m\u001b[0;34m(\u001b[0m\u001b[0;34mr'C/Users/aaronbsechler/Desktop/uploads/nflx_df_final.csv'\u001b[0m\u001b[0;34m)\u001b[0m\u001b[0;34m\u001b[0m\u001b[0;34m\u001b[0m\u001b[0m\n\u001b[1;32m      5\u001b[0m \u001b[0mgoog_df_rff\u001b[0m\u001b[0;34m.\u001b[0m\u001b[0mto_csv\u001b[0m\u001b[0;34m(\u001b[0m\u001b[0;34mr'C/Users/aaronbsechler/Desktop/uploads/goog_df_final.csv'\u001b[0m\u001b[0;34m)\u001b[0m\u001b[0;34m\u001b[0m\u001b[0;34m\u001b[0m\u001b[0m\n",
      "\u001b[0;32m~/opt/anaconda3/envs/pyvizenv2/lib/python3.7/site-packages/pandas/core/generic.py\u001b[0m in \u001b[0;36mto_csv\u001b[0;34m(self, path_or_buf, sep, na_rep, float_format, columns, header, index, index_label, mode, encoding, compression, quoting, quotechar, line_terminator, chunksize, date_format, doublequote, escapechar, decimal, errors)\u001b[0m\n\u001b[1;32m   3168\u001b[0m             \u001b[0mdecimal\u001b[0m\u001b[0;34m=\u001b[0m\u001b[0mdecimal\u001b[0m\u001b[0;34m,\u001b[0m\u001b[0;34m\u001b[0m\u001b[0;34m\u001b[0m\u001b[0m\n\u001b[1;32m   3169\u001b[0m         )\n\u001b[0;32m-> 3170\u001b[0;31m         \u001b[0mformatter\u001b[0m\u001b[0;34m.\u001b[0m\u001b[0msave\u001b[0m\u001b[0;34m(\u001b[0m\u001b[0;34m)\u001b[0m\u001b[0;34m\u001b[0m\u001b[0;34m\u001b[0m\u001b[0m\n\u001b[0m\u001b[1;32m   3171\u001b[0m \u001b[0;34m\u001b[0m\u001b[0m\n\u001b[1;32m   3172\u001b[0m         \u001b[0;32mif\u001b[0m \u001b[0mpath_or_buf\u001b[0m \u001b[0;32mis\u001b[0m \u001b[0;32mNone\u001b[0m\u001b[0;34m:\u001b[0m\u001b[0;34m\u001b[0m\u001b[0;34m\u001b[0m\u001b[0m\n",
      "\u001b[0;32m~/opt/anaconda3/envs/pyvizenv2/lib/python3.7/site-packages/pandas/io/formats/csvs.py\u001b[0m in \u001b[0;36msave\u001b[0;34m(self)\u001b[0m\n\u001b[1;32m    188\u001b[0m                 \u001b[0mencoding\u001b[0m\u001b[0;34m=\u001b[0m\u001b[0mself\u001b[0m\u001b[0;34m.\u001b[0m\u001b[0mencoding\u001b[0m\u001b[0;34m,\u001b[0m\u001b[0;34m\u001b[0m\u001b[0;34m\u001b[0m\u001b[0m\n\u001b[1;32m    189\u001b[0m                 \u001b[0merrors\u001b[0m\u001b[0;34m=\u001b[0m\u001b[0mself\u001b[0m\u001b[0;34m.\u001b[0m\u001b[0merrors\u001b[0m\u001b[0;34m,\u001b[0m\u001b[0;34m\u001b[0m\u001b[0;34m\u001b[0m\u001b[0m\n\u001b[0;32m--> 190\u001b[0;31m                 \u001b[0mcompression\u001b[0m\u001b[0;34m=\u001b[0m\u001b[0mdict\u001b[0m\u001b[0;34m(\u001b[0m\u001b[0mself\u001b[0m\u001b[0;34m.\u001b[0m\u001b[0mcompression_args\u001b[0m\u001b[0;34m,\u001b[0m \u001b[0mmethod\u001b[0m\u001b[0;34m=\u001b[0m\u001b[0mself\u001b[0m\u001b[0;34m.\u001b[0m\u001b[0mcompression\u001b[0m\u001b[0;34m)\u001b[0m\u001b[0;34m,\u001b[0m\u001b[0;34m\u001b[0m\u001b[0;34m\u001b[0m\u001b[0m\n\u001b[0m\u001b[1;32m    191\u001b[0m             )\n\u001b[1;32m    192\u001b[0m             \u001b[0mclose\u001b[0m \u001b[0;34m=\u001b[0m \u001b[0;32mTrue\u001b[0m\u001b[0;34m\u001b[0m\u001b[0;34m\u001b[0m\u001b[0m\n",
      "\u001b[0;32m~/opt/anaconda3/envs/pyvizenv2/lib/python3.7/site-packages/pandas/io/common.py\u001b[0m in \u001b[0;36mget_handle\u001b[0;34m(path_or_buf, mode, encoding, compression, memory_map, is_text, errors)\u001b[0m\n\u001b[1;32m    491\u001b[0m         \u001b[0;32mif\u001b[0m \u001b[0mencoding\u001b[0m\u001b[0;34m:\u001b[0m\u001b[0;34m\u001b[0m\u001b[0;34m\u001b[0m\u001b[0m\n\u001b[1;32m    492\u001b[0m             \u001b[0;31m# Encoding\u001b[0m\u001b[0;34m\u001b[0m\u001b[0;34m\u001b[0m\u001b[0;34m\u001b[0m\u001b[0m\n\u001b[0;32m--> 493\u001b[0;31m             \u001b[0mf\u001b[0m \u001b[0;34m=\u001b[0m \u001b[0mopen\u001b[0m\u001b[0;34m(\u001b[0m\u001b[0mpath_or_buf\u001b[0m\u001b[0;34m,\u001b[0m \u001b[0mmode\u001b[0m\u001b[0;34m,\u001b[0m \u001b[0mencoding\u001b[0m\u001b[0;34m=\u001b[0m\u001b[0mencoding\u001b[0m\u001b[0;34m,\u001b[0m \u001b[0merrors\u001b[0m\u001b[0;34m=\u001b[0m\u001b[0merrors\u001b[0m\u001b[0;34m,\u001b[0m \u001b[0mnewline\u001b[0m\u001b[0;34m=\u001b[0m\u001b[0;34m\"\"\u001b[0m\u001b[0;34m)\u001b[0m\u001b[0;34m\u001b[0m\u001b[0;34m\u001b[0m\u001b[0m\n\u001b[0m\u001b[1;32m    494\u001b[0m         \u001b[0;32melif\u001b[0m \u001b[0mis_text\u001b[0m\u001b[0;34m:\u001b[0m\u001b[0;34m\u001b[0m\u001b[0;34m\u001b[0m\u001b[0m\n\u001b[1;32m    495\u001b[0m             \u001b[0;31m# No explicit encoding\u001b[0m\u001b[0;34m\u001b[0m\u001b[0;34m\u001b[0m\u001b[0;34m\u001b[0m\u001b[0m\n",
      "\u001b[0;31mFileNotFoundError\u001b[0m: [Errno 2] No such file or directory: 'C/Users/aaronbsechler/Desktop/uploads/fb_df_final.csv'"
     ]
    }
   ],
   "source": [
    "fb_df_rff.to_csv(r'C/Users/aaronbsechler/Desktop/uploads/fb_df_final.csv', index=True, header=True)\n",
    "aapl_df_rff.to_csv(r'C/Users/aaronbsechler/Desktop/uploads/amzn_df_final.csv')\n",
    "amzn_df_rff.to_csv(r'C/Users/aaronbsechler/Desktop/uploads/aapl_df_final.csv')\n",
    "nflx_df_rff.to_csv(r'C/Users/aaronbsechler/Desktop/uploads/nflx_df_final.csv')\n",
    "goog_df_rff.to_csv(r'C/Users/aaronbsechler/Desktop/uploads/goog_df_final.csv')\n"
   ]
  },
  {
   "cell_type": "code",
   "execution_count": null,
   "metadata": {},
   "outputs": [],
   "source": []
  }
 ],
 "metadata": {
  "kernelspec": {
   "display_name": "Python [conda env:pyvizenv2]",
   "language": "python",
   "name": "conda-env-pyvizenv2-py"
  },
  "language_info": {
   "codemirror_mode": {
    "name": "ipython",
    "version": 3
   },
   "file_extension": ".py",
   "mimetype": "text/x-python",
   "name": "python",
   "nbconvert_exporter": "python",
   "pygments_lexer": "ipython3",
   "version": "3.7.7"
  }
 },
 "nbformat": 4,
 "nbformat_minor": 4
}
